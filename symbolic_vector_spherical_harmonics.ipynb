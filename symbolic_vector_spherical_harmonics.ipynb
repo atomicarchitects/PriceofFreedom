{
 "cells": [
  {
   "cell_type": "code",
   "execution_count": 63,
   "metadata": {},
   "outputs": [],
   "source": [
    "from sympy import Ynm, Symbol, diff, simplify, sqrt, conjugate\n",
    "from sympy import latex\n",
    "from sympy.vector import CoordSys3D, gradient\n",
    "from sympy.abc import l, m\n",
    "import IPython.display as disp"
   ]
  },
  {
   "cell_type": "markdown",
   "metadata": {},
   "source": [
    "# Helpers"
   ]
  },
  {
   "cell_type": "code",
   "execution_count": 64,
   "metadata": {},
   "outputs": [],
   "source": [
    "def pprint(x, simplify_expression: bool = True):\n",
    "    if simplify_expression:\n",
    "        return disp.display(simplify(x.expand(func=True)))\n",
    "    return disp.display(x)\n",
    "\n",
    "\n",
    "def to_latex(x):\n",
    "    print(\n",
    "        latex(x)\n",
    "        .replace(\"\\\\mathbf{{phi}_{S}}\", \"\\\\phi\")\n",
    "        .replace(\"\\\\mathbf{{theta}_{S}}\", \"\\\\theta\")\n",
    "        .replace(\"\\\\mathbf{{r}_{S}}\", \"r\")\n",
    "    )"
   ]
  },
  {
   "cell_type": "markdown",
   "metadata": {},
   "source": [
    "# Coordinate System"
   ]
  },
  {
   "cell_type": "code",
   "execution_count": 65,
   "metadata": {},
   "outputs": [],
   "source": [
    "S = CoordSys3D(\n",
    "    \"S\",\n",
    "    transformation=\"spherical\",\n",
    "    variable_names=(\"r\", \"theta\", \"phi\"),\n",
    "    vector_names=(\"e_r\", \"e_t\", \"e_p\"),\n",
    ")\n",
    "\n",
    "\n",
    "def conjugate_vector(x):\n",
    "    res = (\n",
    "        conjugate(x.dot(S.e_r)) * S.e_r\n",
    "        + conjugate(x.dot(S.e_t)) * S.e_t\n",
    "        + conjugate(x.dot(S.e_p)) * S.e_p\n",
    "    )\n",
    "    return res.subs(\n",
    "        {\n",
    "            conjugate(S.theta): S.theta,\n",
    "            conjugate(S.phi): S.phi,\n",
    "            conjugate(S.r): S.r,\n",
    "            conjugate(m): m,\n",
    "            conjugate(l): l,\n",
    "        }\n",
    "    )"
   ]
  },
  {
   "cell_type": "markdown",
   "metadata": {},
   "source": [
    "# Complex Vector Spherical Harmonics"
   ]
  },
  {
   "cell_type": "code",
   "execution_count": 66,
   "metadata": {},
   "outputs": [],
   "source": [
    "# These are complex for now.\n",
    "def Y(l, m):\n",
    "    return Ynm(l, m, S.theta, S.phi) * S.e_r\n",
    "\n",
    "\n",
    "def Psi(l, m):\n",
    "    grad_Y = gradient(Ynm(l, m, S.theta, S.phi))\n",
    "    return S.r * grad_Y\n",
    "\n",
    "\n",
    "def Phi(l, m):\n",
    "    grad_Y = gradient(Ynm(l, m, S.theta, S.phi))\n",
    "    return (S.r * S.e_r).cross(grad_Y)"
   ]
  },
  {
   "cell_type": "code",
   "execution_count": 67,
   "metadata": {},
   "outputs": [
    {
     "data": {
      "text/latex": [
       "$\\displaystyle \\frac{x_0 \\sqrt{\\frac{\\left(2 l + 1\\right) \\Gamma\\left(l - m + 1\\right)}{\\Gamma\\left(l + m + 1\\right)}} e^{\\mathbf{{phi}_{S}} i m} P_{l}^{\\left(m\\right)}\\left(\\cos{\\left(\\mathbf{{theta}_{S}} \\right)}\\right)}{2 \\sqrt{\\pi}}$"
      ],
      "text/plain": [
       "S.i*sqrt((2*l + 1)*gamma(l - m + 1)/gamma(l + m + 1))*exp(S.phi*I*m)*assoc_legendre(l, m, cos(S.theta))/(2*sqrt(pi))"
      ]
     },
     "metadata": {},
     "output_type": "display_data"
    },
    {
     "data": {
      "text/latex": [
       "$\\displaystyle \\left(\\frac{i m \\sqrt{\\frac{\\left(2 l + 1\\right) \\Gamma\\left(l - m + 1\\right)}{\\Gamma\\left(l + m + 1\\right)}} e^{\\mathbf{{phi}_{S}} i m} P_{l}^{\\left(m\\right)}\\left(\\cos{\\left(\\mathbf{{theta}_{S}} \\right)}\\right)}{2 \\sqrt{\\pi} \\sin{\\left(\\mathbf{{theta}_{S}} \\right)}}\\right)\\mathbf{\\hat{e_p}_{S}} + \\left(\\frac{\\left(m \\sqrt{\\frac{\\left(2 l + 1\\right) \\Gamma\\left(l - m + 1\\right)}{\\Gamma\\left(l + m + 1\\right)}} \\cot{\\left(\\mathbf{{theta}_{S}} \\right)} P_{l}^{\\left(m\\right)}\\left(\\cos{\\left(\\mathbf{{theta}_{S}} \\right)}\\right) + \\sqrt{\\frac{\\left(2 l + 1\\right) \\Gamma\\left(l - m + 1\\right)}{\\left(l^{2} + l - m^{2} - m\\right) \\Gamma\\left(l + m + 1\\right)}} \\sqrt{l^{2} + l - m^{2} - m} P_{l}^{\\left(m + 1\\right)}\\left(\\cos{\\left(\\mathbf{{theta}_{S}} \\right)}\\right)\\right) e^{\\mathbf{{phi}_{S}} i m}}{2 \\sqrt{\\pi}}\\right)\\mathbf{\\hat{e_t}_{S}}$"
      ],
      "text/plain": [
       "((m*sqrt((2*l + 1)*gamma(l - m + 1)/gamma(l + m + 1))*cot(S.theta)*assoc_legendre(l, m, cos(S.theta)) + sqrt((2*l + 1)*gamma(l - m + 1)/((l**2 + l - m**2 - m)*gamma(l + m + 1)))*sqrt(l**2 + l - m**2 - m)*assoc_legendre(l, m + 1, cos(S.theta)))*exp(S.phi*I*m)/(2*sqrt(pi)))*S.e_t + (I*m*sqrt((2*l + 1)*gamma(l - m + 1)/gamma(l + m + 1))*exp(S.phi*I*m)*assoc_legendre(l, m, cos(S.theta))/(2*sqrt(pi)*sin(S.theta)))*S.e_p"
      ]
     },
     "metadata": {},
     "output_type": "display_data"
    },
    {
     "data": {
      "text/latex": [
       "$\\displaystyle \\left(\\frac{\\left(m \\sqrt{\\frac{\\left(2 l + 1\\right) \\Gamma\\left(l - m + 1\\right)}{\\Gamma\\left(l + m + 1\\right)}} \\cot{\\left(\\mathbf{{theta}_{S}} \\right)} P_{l}^{\\left(m\\right)}\\left(\\cos{\\left(\\mathbf{{theta}_{S}} \\right)}\\right) + \\sqrt{\\frac{\\left(2 l + 1\\right) \\Gamma\\left(l - m + 1\\right)}{\\left(l^{2} + l - m^{2} - m\\right) \\Gamma\\left(l + m + 1\\right)}} \\sqrt{l^{2} + l - m^{2} - m} P_{l}^{\\left(m + 1\\right)}\\left(\\cos{\\left(\\mathbf{{theta}_{S}} \\right)}\\right)\\right) e^{\\mathbf{{phi}_{S}} i m}}{2 \\sqrt{\\pi}}\\right)\\mathbf{\\hat{e_p}_{S}} + \\left(- \\frac{i m \\sqrt{\\frac{\\left(2 l + 1\\right) \\Gamma\\left(l - m + 1\\right)}{\\Gamma\\left(l + m + 1\\right)}} e^{\\mathbf{{phi}_{S}} i m} P_{l}^{\\left(m\\right)}\\left(\\cos{\\left(\\mathbf{{theta}_{S}} \\right)}\\right)}{2 \\sqrt{\\pi} \\sin{\\left(\\mathbf{{theta}_{S}} \\right)}}\\right)\\mathbf{\\hat{e_t}_{S}}$"
      ],
      "text/plain": [
       "(-I*m*sqrt((2*l + 1)*gamma(l - m + 1)/gamma(l + m + 1))*exp(S.phi*I*m)*assoc_legendre(l, m, cos(S.theta))/(2*sqrt(pi)*sin(S.theta)))*S.e_t + ((m*sqrt((2*l + 1)*gamma(l - m + 1)/gamma(l + m + 1))*cot(S.theta)*assoc_legendre(l, m, cos(S.theta)) + sqrt((2*l + 1)*gamma(l - m + 1)/((l**2 + l - m**2 - m)*gamma(l + m + 1)))*sqrt(l**2 + l - m**2 - m)*assoc_legendre(l, m + 1, cos(S.theta)))*exp(S.phi*I*m)/(2*sqrt(pi)))*S.e_p"
      ]
     },
     "metadata": {},
     "output_type": "display_data"
    }
   ],
   "source": [
    "pprint(Y(l, m))\n",
    "pprint(Psi(l, m))\n",
    "pprint(Phi(l, m))"
   ]
  },
  {
   "cell_type": "code",
   "execution_count": 68,
   "metadata": {},
   "outputs": [
    {
     "data": {
      "text/latex": [
       "$\\displaystyle \\frac{\\left(-1\\right)^{2 m} x_0 \\sqrt{\\frac{\\left(2 l + 1\\right) \\Gamma\\left(l - m + 1\\right)}{\\Gamma\\left(l + m + 1\\right)}} e^{- \\mathbf{{phi}_{S}} i m} P_{l}^{\\left(m\\right)}\\left(\\cos{\\left(\\mathbf{{theta}_{S}} \\right)}\\right)}{2 \\sqrt{\\pi}}$"
      ],
      "text/plain": [
       "(-1)**(2*m)*S.i*sqrt((2*l + 1)*gamma(l - m + 1)/gamma(l + m + 1))*exp(-S.phi*I*m)*assoc_legendre(l, m, cos(S.theta))/(2*sqrt(pi))"
      ]
     },
     "metadata": {},
     "output_type": "display_data"
    },
    {
     "data": {
      "text/latex": [
       "$\\displaystyle \\left(- \\frac{\\left(-1\\right)^{2 m + \\frac{1}{2}} m \\sqrt{\\frac{\\left(2 l + 1\\right) \\Gamma\\left(l - m + 1\\right)}{\\Gamma\\left(l + m + 1\\right)}} e^{- \\mathbf{{phi}_{S}} i m} P_{l}^{\\left(m\\right)}\\left(\\cos{\\left(\\mathbf{{theta}_{S}} \\right)}\\right)}{2 \\sqrt{\\pi} \\sin{\\left(\\mathbf{{theta}_{S}} \\right)}}\\right)\\mathbf{\\hat{e_p}_{S}} + \\left(\\frac{\\left(-1\\right)^{2 m} \\left(m \\sqrt{\\frac{\\left(2 l + 1\\right) \\Gamma\\left(l - m + 1\\right)}{\\Gamma\\left(l + m + 1\\right)}} \\cot{\\left(\\mathbf{{theta}_{S}} \\right)} P_{l}^{\\left(m\\right)}\\left(\\cos{\\left(\\mathbf{{theta}_{S}} \\right)}\\right) + \\sqrt{\\frac{\\left(2 l + 1\\right) \\Gamma\\left(l - m + 1\\right)}{\\left(l^{2} + l - m^{2} - m\\right) \\Gamma\\left(l + m + 1\\right)}} \\overline{\\sqrt{\\left(l - m\\right) \\left(l + m + 1\\right)}} P_{l}^{\\left(m + 1\\right)}\\left(\\cos{\\left(\\mathbf{{theta}_{S}} \\right)}\\right)\\right) e^{- \\mathbf{{phi}_{S}} i m}}{2 \\sqrt{\\pi}}\\right)\\mathbf{\\hat{e_t}_{S}}$"
      ],
      "text/plain": [
       "((-1)**(2*m)*(m*sqrt((2*l + 1)*gamma(l - m + 1)/gamma(l + m + 1))*cot(S.theta)*assoc_legendre(l, m, cos(S.theta)) + sqrt((2*l + 1)*gamma(l - m + 1)/((l**2 + l - m**2 - m)*gamma(l + m + 1)))*conjugate(sqrt((l - m)*(l + m + 1)))*assoc_legendre(l, m + 1, cos(S.theta)))*exp(-S.phi*I*m)/(2*sqrt(pi)))*S.e_t + (-(-1)**(2*m + 1/2)*m*sqrt((2*l + 1)*gamma(l - m + 1)/gamma(l + m + 1))*exp(-S.phi*I*m)*assoc_legendre(l, m, cos(S.theta))/(2*sqrt(pi)*sin(S.theta)))*S.e_p"
      ]
     },
     "metadata": {},
     "output_type": "display_data"
    },
    {
     "data": {
      "text/latex": [
       "$\\displaystyle \\left(\\frac{\\left(-1\\right)^{2 m} \\left(m \\sqrt{\\frac{\\left(2 l + 1\\right) \\Gamma\\left(l - m + 1\\right)}{\\Gamma\\left(l + m + 1\\right)}} \\cot{\\left(\\mathbf{{theta}_{S}} \\right)} P_{l}^{\\left(m\\right)}\\left(\\cos{\\left(\\mathbf{{theta}_{S}} \\right)}\\right) + \\sqrt{\\frac{\\left(2 l + 1\\right) \\Gamma\\left(l - m + 1\\right)}{\\left(l^{2} + l - m^{2} - m\\right) \\Gamma\\left(l + m + 1\\right)}} \\overline{\\sqrt{\\left(l - m\\right) \\left(l + m + 1\\right)}} P_{l}^{\\left(m + 1\\right)}\\left(\\cos{\\left(\\mathbf{{theta}_{S}} \\right)}\\right)\\right) e^{- \\mathbf{{phi}_{S}} i m}}{2 \\sqrt{\\pi}}\\right)\\mathbf{\\hat{e_p}_{S}} + \\left(\\frac{\\left(-1\\right)^{2 m + \\frac{1}{2}} m \\sqrt{\\frac{\\left(2 l + 1\\right) \\Gamma\\left(l - m + 1\\right)}{\\Gamma\\left(l + m + 1\\right)}} e^{- \\mathbf{{phi}_{S}} i m} P_{l}^{\\left(m\\right)}\\left(\\cos{\\left(\\mathbf{{theta}_{S}} \\right)}\\right)}{2 \\sqrt{\\pi} \\sin{\\left(\\mathbf{{theta}_{S}} \\right)}}\\right)\\mathbf{\\hat{e_t}_{S}}$"
      ],
      "text/plain": [
       "((-1)**(2*m + 1/2)*m*sqrt((2*l + 1)*gamma(l - m + 1)/gamma(l + m + 1))*exp(-S.phi*I*m)*assoc_legendre(l, m, cos(S.theta))/(2*sqrt(pi)*sin(S.theta)))*S.e_t + ((-1)**(2*m)*(m*sqrt((2*l + 1)*gamma(l - m + 1)/gamma(l + m + 1))*cot(S.theta)*assoc_legendre(l, m, cos(S.theta)) + sqrt((2*l + 1)*gamma(l - m + 1)/((l**2 + l - m**2 - m)*gamma(l + m + 1)))*conjugate(sqrt((l - m)*(l + m + 1)))*assoc_legendre(l, m + 1, cos(S.theta)))*exp(-S.phi*I*m)/(2*sqrt(pi)))*S.e_p"
      ]
     },
     "metadata": {},
     "output_type": "display_data"
    }
   ],
   "source": [
    "pprint(conjugate_vector(Y(l, m)))\n",
    "pprint(conjugate_vector(Psi(l, m)))\n",
    "pprint(conjugate_vector(Phi(l, m)))"
   ]
  },
  {
   "cell_type": "code",
   "execution_count": null,
   "metadata": {},
   "outputs": [],
   "source": []
  },
  {
   "cell_type": "code",
   "execution_count": 69,
   "metadata": {},
   "outputs": [
    {
     "name": "stdout",
     "output_type": "stream",
     "text": [
      "- \\frac{m^{2} \\left(Y_{l}^{m}\\left(\\theta,\\phi\\right)\\right)^{3}}{\\sin^{2}{\\left(\\theta \\right)}} + \\left(m \\cot{\\left(\\theta \\right)} Y_{l}^{m}\\left(\\theta,\\phi\\right) + \\sqrt{\\left(l - m\\right) \\left(l + m + 1\\right)} e^{- \\phi i} Y_{l}^{m + 1}\\left(\\theta,\\phi\\right)\\right)^{2} Y_{l}^{m}\\left(\\theta,\\phi\\right)\n"
     ]
    }
   ],
   "source": [
    "to_latex(Y(l, m).cross(Psi(l, m)).dot(Phi(l, m)))"
   ]
  },
  {
   "cell_type": "markdown",
   "metadata": {},
   "source": [
    "# Integration"
   ]
  },
  {
   "cell_type": "code",
   "execution_count": 70,
   "metadata": {},
   "outputs": [],
   "source": [
    "from sympy import pi, sin, cos\n",
    "from sympy import conjugate\n",
    "from sympy.vector import ParametricRegion, vector_integrate\n",
    "from sympy.abc import theta, phi"
   ]
  },
  {
   "cell_type": "code",
   "execution_count": 71,
   "metadata": {},
   "outputs": [
    {
     "data": {
      "text/latex": [
       "$\\displaystyle \\frac{\\sqrt{3} \\mathbf{\\hat{e_r}_{S}} \\cos{\\left(\\mathbf{{theta}_{S}} \\right)}}{2 \\sqrt{\\pi}}$"
      ],
      "text/plain": [
       "sqrt(3)*S.e_r*cos(S.theta)/(2*sqrt(pi))"
      ]
     },
     "metadata": {},
     "output_type": "display_data"
    },
    {
     "data": {
      "text/latex": [
       "$\\displaystyle - \\frac{\\sqrt{3} \\mathbf{\\hat{e_p}_{S}} \\sin{\\left(\\mathbf{{theta}_{S}} \\right)}}{2 \\sqrt{\\pi}}$"
      ],
      "text/plain": [
       "-sqrt(3)*S.e_p*sin(S.theta)/(2*sqrt(pi))"
      ]
     },
     "metadata": {},
     "output_type": "display_data"
    },
    {
     "data": {
      "text/latex": [
       "$\\displaystyle - \\frac{3 \\sqrt{5} \\mathbf{\\hat{e_t}_{S}} \\sin{\\left(2 \\mathbf{{theta}_{S}} \\right)}}{4 \\sqrt{\\pi}}$"
      ],
      "text/plain": [
       "-3*sqrt(5)*S.e_t*sin(2*S.theta)/(4*sqrt(pi))"
      ]
     },
     "metadata": {},
     "output_type": "display_data"
    }
   ],
   "source": [
    "pprint(Y(1, 0))\n",
    "pprint(Phi(1, 0))\n",
    "pprint(Psi(2, 0))"
   ]
  },
  {
   "cell_type": "code",
   "execution_count": 85,
   "metadata": {},
   "outputs": [
    {
     "data": {
      "text/latex": [
       "$\\displaystyle \\frac{3 \\mathbf{\\hat{e_r}_{S}} i \\cos{\\left(\\mathbf{{theta}_{S}} \\right)}}{4 \\pi}$"
      ],
      "text/plain": [
       "3*S.e_r*I*cos(S.theta)/(4*pi)"
      ]
     },
     "metadata": {},
     "output_type": "display_data"
    },
    {
     "data": {
      "text/latex": [
       "$\\displaystyle - \\frac{\\sqrt{3} \\mathbf{\\hat{e_t}_{S}} \\sin{\\left(\\mathbf{{theta}_{S}} \\right)}}{2 \\sqrt{\\pi}}$"
      ],
      "text/plain": [
       "-sqrt(3)*S.e_t*sin(S.theta)/(2*sqrt(pi))"
      ]
     },
     "metadata": {},
     "output_type": "display_data"
    },
    {
     "name": "stdout",
     "output_type": "stream",
     "text": [
      "Integrand:\n"
     ]
    },
    {
     "data": {
      "text/latex": [
       "$\\displaystyle \\frac{3 \\sqrt{3} i \\cos^{2}{\\left(\\mathbf{{theta}_{S}} \\right)}}{8 \\pi^{\\frac{3}{2}}}$"
      ],
      "text/plain": [
       "3*sqrt(3)*I*cos(S.theta)**2/(8*pi**(3/2))"
      ]
     },
     "metadata": {},
     "output_type": "display_data"
    },
    {
     "name": "stdout",
     "output_type": "stream",
     "text": [
      "Integral over sphere:\n"
     ]
    },
    {
     "data": {
      "text/latex": [
       "$\\displaystyle \\frac{\\sqrt{3} i}{2 \\sqrt{\\pi}}$"
      ],
      "text/plain": [
       "sqrt(3)*I/(2*sqrt(pi))"
      ]
     },
     "metadata": {},
     "output_type": "display_data"
    }
   ],
   "source": [
    "def integrate_on_sphere(func):\n",
    "    print(\"Integrand:\")\n",
    "    pprint(func, simplify_expression=True)\n",
    "\n",
    "    sphere = ParametricRegion(\n",
    "        (sin(theta) * cos(phi), sin(theta) * sin(phi), cos(theta)),\n",
    "        (theta, 0, pi),\n",
    "        (phi, 0, 2 * pi),\n",
    "    )\n",
    "    print(\"Integral over sphere:\")\n",
    "    expr = simplify(func.expand(func=True)).subs({S.theta: theta, S.phi: phi, S.r: 1})\n",
    "    return vector_integrate(expr, sphere)\n",
    "\n",
    "# pprint((Phi(1, 1).cross(Phi(1, -1))))\n",
    "# pprint(conjugate_vector(Psi(1, 0)))\n",
    "\n",
    "pprint(\n",
    "    integrate_on_sphere((Phi(1, 1).cross(Phi(1, -1))).dot(conjugate_vector(Y(1, 0)))),\n",
    "    simplify_expression=True,\n",
    ")"
   ]
  }
 ],
 "metadata": {
  "kernelspec": {
   "display_name": ".venv",
   "language": "python",
   "name": "python3"
  },
  "language_info": {
   "codemirror_mode": {
    "name": "ipython",
    "version": 3
   },
   "file_extension": ".py",
   "mimetype": "text/x-python",
   "name": "python",
   "nbconvert_exporter": "python",
   "pygments_lexer": "ipython3",
   "version": "3.11.4"
  }
 },
 "nbformat": 4,
 "nbformat_minor": 2
}
