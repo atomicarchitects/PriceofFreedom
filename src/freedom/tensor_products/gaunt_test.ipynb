{
 "cells": [
  {
   "cell_type": "code",
   "execution_count": 1,
   "metadata": {},
   "outputs": [],
   "source": [
    "%load_ext autoreload\n",
    "%autoreload 2"
   ]
  },
  {
   "cell_type": "code",
   "execution_count": 2,
   "metadata": {},
   "outputs": [],
   "source": [
    "import e3nn_jax as e3nn\n",
    "import jax\n",
    "\n",
    "jax.config.update(\"jax_enable_x64\", True)\n",
    "import jax.numpy as jnp\n",
    "\n",
    "import sys\n",
    "\n",
    "sys.path.append(\"../..\")\n",
    "\n",
    "from src.tensor_products import functional\n",
    "from src.tensor_products import gaunt_tensor_product_utils as gtp_utils"
   ]
  },
  {
   "cell_type": "code",
   "execution_count": 3,
   "metadata": {},
   "outputs": [],
   "source": [
    "x1 = e3nn.normal(e3nn.s2_irreps(5), jax.random.PRNGKey(0))\n",
    "x2 = e3nn.normal(e3nn.s2_irreps(5), jax.random.PRNGKey(1))"
   ]
  },
  {
   "cell_type": "code",
   "execution_count": 4,
   "metadata": {},
   "outputs": [
    {
     "name": "stderr",
     "output_type": "stream",
     "text": [
      "/Users/ameyad/Documents/PriceofFreedom/.venv/lib/python3.11/site-packages/jax/_src/ops/scatter.py:92: FutureWarning: scatter inputs have incompatible types: cannot safely cast value from dtype=complex128 to dtype=complex64 with jax_numpy_dtype_promotion='standard'. In future JAX releases this will result in an error.\n",
      "  warnings.warn(\n"
     ]
    }
   ],
   "source": [
    "y_grid_lmax = gtp_utils.compute_y_grid(lmax=3, res_theta=10, res_phi=10)"
   ]
  },
  {
   "cell_type": "code",
   "execution_count": 5,
   "metadata": {},
   "outputs": [
    {
     "data": {
      "text/plain": [
       "Array([[[ 0.00000000e+00-2.0840433e-16j, -2.09257081e-16-1.4384636e-16j,\n",
       "         -5.98179366e-17-1.7090911e-16j],\n",
       "        [-2.10468762e-16-1.2317270e-16j,  1.77245390e+00-2.1263174e-16j,\n",
       "         -4.00913849e-16-1.2057673e-16j],\n",
       "        [-6.44680879e-17-1.6782113e-16j, -4.00124918e-16-8.4842281e-17j,\n",
       "         -1.27033846e-16-4.1933054e-16j]],\n",
       "\n",
       "       [[ 0.00000000e+00-8.7196715e-17j, -1.41100442e-16+9.6885250e-18j,\n",
       "          7.67495036e-01-2.9065572e-17j],\n",
       "        [-1.09067331e-16-1.0484547e-17j, -9.89215302e-17-6.6009417e-17j,\n",
       "         -7.60934894e-17+4.6924315e-17j],\n",
       "        [ 7.67495036e-01-1.6736514e-17j, -8.53937986e-17+3.4551837e-17j,\n",
       "         -7.67495036e-01+8.2902198e-17j]],\n",
       "\n",
       "       [[ 0.00000000e+00-3.3909834e-16j,  1.53499007e+00-4.5637061e-16j,\n",
       "         -1.45327852e-16+8.7196715e-17j],\n",
       "        [ 2.40962709e-17+3.6968329e-17j, -2.90423457e-16-6.6396305e-17j,\n",
       "          1.46691336e-16+5.2963504e-17j],\n",
       "        [-1.81718160e-16-4.3653762e-18j,  1.53499007e+00+2.4142856e-16j,\n",
       "         -4.01121055e-16+2.6941111e-16j]],\n",
       "\n",
       "       [[ 0.00000000e+00-1.5349901e+00j, -1.21904394e-17+1.8892621e-16j,\n",
       "          2.95499964e-16-7.6749504e-01j],\n",
       "        [ 4.57617788e-17+5.9597594e-18j,  1.89282548e-16+1.2402157e-16j,\n",
       "          1.87063173e-17-1.3316360e-17j],\n",
       "        [ 4.59276087e-17+7.6749504e-01j, -1.01669358e-16-1.4653330e-16j,\n",
       "          2.39926731e-17+7.6749504e-01j]]], dtype=complex64)"
      ]
     },
     "execution_count": 5,
     "metadata": {},
     "output_type": "execute_result"
    }
   ],
   "source": [
    "l1 = 1\n",
    "lmax = 3\n",
    "\n",
    "y_grid_lmax = gtp_utils.compute_y_grid(lmax=lmax, res_theta=10, res_phi=10)\n",
    "y_grid_l1 = gtp_utils.compute_y_grid(lmax=l1, res_theta=10, res_phi=10)\n",
    "\n",
    "\n",
    "(\n",
    "    y_grid_l1\n",
    "    - y_grid_lmax[\n",
    "        : (l1 + 1) ** 2,\n",
    "        2 * (lmax - l1) : 2 * (lmax + l1) + 1,\n",
    "        2 * (lmax - l1) : 2 * (lmax + l1) + 1,\n",
    "    ]\n",
    ")"
   ]
  },
  {
   "cell_type": "code",
   "execution_count": 6,
   "metadata": {},
   "outputs": [
    {
     "name": "stdout",
     "output_type": "stream",
     "text": [
      "0 0 BCOO(complex64[7, 7], nse=1)\n",
      "1 -1 BCOO(complex64[7, 7], nse=4)\n",
      "1 0 BCOO(complex64[7, 7], nse=2)\n",
      "1 1 BCOO(complex64[7, 7], nse=4)\n",
      "2 -2 BCOO(complex64[7, 7], nse=6)\n",
      "2 -1 BCOO(complex64[7, 7], nse=4)\n",
      "2 0 BCOO(complex64[7, 7], nse=3)\n",
      "2 1 BCOO(complex64[7, 7], nse=4)\n",
      "2 2 BCOO(complex64[7, 7], nse=6)\n",
      "3 -3 BCOO(complex64[7, 7], nse=8)\n",
      "3 -2 BCOO(complex64[7, 7], nse=8)\n",
      "3 -1 BCOO(complex64[7, 7], nse=8)\n",
      "3 0 BCOO(complex64[7, 7], nse=4)\n",
      "3 1 BCOO(complex64[7, 7], nse=8)\n",
      "3 2 BCOO(complex64[7, 7], nse=8)\n",
      "3 3 BCOO(complex64[7, 7], nse=8)\n",
      "0.1096938775510204\n",
      "BCOO(complex64[16, 7, 7], nse=86)\n"
     ]
    }
   ],
   "source": [
    "from jax.experimental import sparse\n",
    "\n",
    "y_grid_lmax = y_grid_lmax.round(8)\n",
    "for l in range(lmax + 1):\n",
    "    for m in range(-l, l + 1):\n",
    "        lm_index = gtp_utils.to_lm_index(l, m)\n",
    "        y_grid_l = y_grid_lmax[lm_index, :, :]\n",
    "        y_grid_sp = sparse.BCOO.fromdense(y_grid_l)\n",
    "        print(l, m, y_grid_sp)\n",
    "\n",
    "y_grid_sp = sparse.BCOO.fromdense(y_grid_lmax)\n",
    "print(y_grid_sp.nse / y_grid_sp.size)\n",
    "print(y_grid_sp)"
   ]
  },
  {
   "cell_type": "code",
   "execution_count": 7,
   "metadata": {},
   "outputs": [
    {
     "name": "stdout",
     "output_type": "stream",
     "text": [
      "[[ 2.08538599 +3.47564332j -7.94598293 +5.6757021j\n",
      "  -9.87148088-11.66629559j 17.58551931 +0.j\n",
      "   9.87148088-11.66629559j -7.94598293 -5.6757021j\n",
      "  -2.08538599 +3.47564332j]\n",
      " [ 0.         +0.j         -3.43234205 +1.71617103j\n",
      "  -4.29042757 -6.00659859j  8.91748667 +0.j\n",
      "   4.29042757 -6.00659859j -3.43234205 -1.71617103j\n",
      "   0.         +0.j        ]\n",
      " [-6.25615865-10.42693108j  7.94598293 -5.6757021j\n",
      "  -2.74179111 -4.63574411j 13.62129188 +0.j\n",
      "   2.74179111 -4.63574411j  7.94598293 +5.6757021j\n",
      "   6.25615865-10.42693108j]\n",
      " [ 0.         +0.j          6.8646841  -3.43234205j\n",
      "   0.         +0.j          5.94499111 +0.j\n",
      "   0.         +0.j          6.8646841  +3.43234205j\n",
      "   0.         +0.j        ]\n",
      " [ 6.25615865+10.42693108j  7.94598293 -5.6757021j\n",
      "   2.74179111 +4.63574411j 13.62129188 +0.j\n",
      "  -2.74179111 +4.63574411j  7.94598293 +5.6757021j\n",
      "  -6.25615865+10.42693108j]\n",
      " [ 0.         +0.j         -3.43234205 +1.71617103j\n",
      "   4.29042757 +6.00659859j  8.91748667 +0.j\n",
      "  -4.29042757 +6.00659859j -3.43234205 -1.71617103j\n",
      "   0.         +0.j        ]\n",
      " [-2.08538599 -3.47564332j -7.94598293 +5.6757021j\n",
      "   9.87148088+11.66629559j 17.58551931 +0.j\n",
      "  -9.87148088+11.66629559j -7.94598293 -5.6757021j\n",
      "   2.08538599 -3.47564332j]]\n"
     ]
    }
   ],
   "source": [
    "x = jnp.arange(y_grid_sp.shape[0]).astype(jnp.float64)\n",
    "\n",
    "\n",
    "def to_fourier(x, y_grid):\n",
    "    return jnp.einsum(\"...a, auv -> ...uv\", x, y_grid)\n",
    "\n",
    "\n",
    "x_fourier = to_fourier(x, y_grid_lmax)\n",
    "x_fourier_sparse = sparse.sparsify(to_fourier)(x, y_grid_sp)\n",
    "\n",
    "print(x_fourier_sparse)"
   ]
  },
  {
   "cell_type": "code",
   "execution_count": 8,
   "metadata": {},
   "outputs": [
    {
     "data": {
      "image/png": "[encoded data removed]",
      "text/plain": [
       "<Figure size 640x480 with 2 Axes>"
      ]
     },
     "metadata": {},
     "output_type": "display_data"
    }
   ],
   "source": [
    "import matplotlib.pyplot as plt\n",
    "\n",
    "# Pick an l and m.\n",
    "l = 1\n",
    "m = 0\n",
    "lm_index = gtp_utils.to_lm_index(l, m)\n",
    "plt.imshow(jnp.abs(y_grid_lmax)[lm_index, :, :].T)\n",
    "plt.xlabel(\"u\")\n",
    "plt.ylabel(\"v\")\n",
    "plt.xticks(ticks=jnp.arange(2 * lmax + 1), labels=jnp.arange(-lmax, lmax + 1))\n",
    "plt.yticks(ticks=jnp.arange(2 * lmax + 1), labels=jnp.arange(-lmax, lmax + 1))\n",
    "plt.colorbar()\n",
    "plt.show()"
   ]
  },
  {
   "cell_type": "code",
   "execution_count": 9,
   "metadata": {},
   "outputs": [
    {
     "name": "stderr",
     "output_type": "stream",
     "text": [
      "/Users/ameyad/Documents/PriceofFreedom/.venv/lib/python3.11/site-packages/jax/_src/ops/scatter.py:92: FutureWarning: scatter inputs have incompatible types: cannot safely cast value from dtype=complex128 to dtype=complex64 with jax_numpy_dtype_promotion='standard'. In future JAX releases this will result in an error.\n",
      "  warnings.warn(\n"
     ]
    },
    {
     "ename": "AttributeError",
     "evalue": "DynamicJaxprTracer has no attribute array",
     "output_type": "error",
     "traceback": [
      "\u001b[0;31m---------------------------------------------------------------------------\u001b[0m",
      "\u001b[0;31mAttributeError\u001b[0m                            Traceback (most recent call last)",
      "File \u001b[0;32m~/Documents/PriceofFreedom/.venv/lib/python3.11/site-packages/jax/_src/core.py:820\u001b[0m, in \u001b[0;36mTracer.__getattr__\u001b[0;34m(self, name)\u001b[0m\n\u001b[1;32m    819\u001b[0m \u001b[38;5;28;01mtry\u001b[39;00m:\n\u001b[0;32m--> 820\u001b[0m   attr \u001b[38;5;241m=\u001b[39m \u001b[38;5;28mgetattr\u001b[39m(\u001b[38;5;28mself\u001b[39m\u001b[38;5;241m.\u001b[39maval, name)\n\u001b[1;32m    821\u001b[0m \u001b[38;5;28;01mexcept\u001b[39;00m \u001b[38;5;167;01mAttributeError\u001b[39;00m \u001b[38;5;28;01mas\u001b[39;00m err:\n",
      "\u001b[0;31mAttributeError\u001b[0m: 'ShapedArray' object has no attribute 'array'",
      "\nThe above exception was the direct cause of the following exception:\n",
      "\u001b[0;31mAttributeError\u001b[0m                            Traceback (most recent call last)",
      "Cell \u001b[0;32mIn[9], line 8\u001b[0m\n\u001b[1;32m      2\u001b[0m gaunt_tensor_product_fourier_2D_fn \u001b[38;5;241m=\u001b[39m \u001b[38;5;28;01mlambda\u001b[39;00m x1, x2: functional\u001b[38;5;241m.\u001b[39mgaunt_tensor_product_fourier_2D(\n\u001b[1;32m      3\u001b[0m     x1, x2,\n\u001b[1;32m      4\u001b[0m     res_theta\u001b[38;5;241m=\u001b[39m\u001b[38;5;241m6\u001b[39m, res_phi\u001b[38;5;241m=\u001b[39m\u001b[38;5;241m6\u001b[39m, convolution_type\u001b[38;5;241m=\u001b[39m\u001b[38;5;124m\"\u001b[39m\u001b[38;5;124mdirect\u001b[39m\u001b[38;5;124m\"\u001b[39m\n\u001b[1;32m      5\u001b[0m )\n\u001b[1;32m      6\u001b[0m gaunt_tensor_product_fourier_2D_fn \u001b[38;5;241m=\u001b[39m jax\u001b[38;5;241m.\u001b[39mjit(gaunt_tensor_product_fourier_2D_fn)\n\u001b[0;32m----> 8\u001b[0m tp_original \u001b[38;5;241m=\u001b[39m \u001b[43mgaunt_tensor_product_fourier_2D_fn\u001b[49m\u001b[43m(\u001b[49m\n\u001b[1;32m      9\u001b[0m \u001b[43m    \u001b[49m\u001b[43mx1\u001b[49m\u001b[43m,\u001b[49m\u001b[43m \u001b[49m\u001b[43mx2\u001b[49m\n\u001b[1;32m     10\u001b[0m \u001b[43m)\u001b[49m\n\u001b[1;32m     12\u001b[0m R \u001b[38;5;241m=\u001b[39m e3nn\u001b[38;5;241m.\u001b[39mrand_matrix(jax\u001b[38;5;241m.\u001b[39mrandom\u001b[38;5;241m.\u001b[39mPRNGKey(\u001b[38;5;241m3\u001b[39m))\n\u001b[1;32m     13\u001b[0m tp_rotated \u001b[38;5;241m=\u001b[39m gaunt_tensor_product_fourier_2D_fn(\n\u001b[1;32m     14\u001b[0m     x1\u001b[38;5;241m.\u001b[39mtransform_by_matrix(R), x2\u001b[38;5;241m.\u001b[39mtransform_by_matrix(R)\n\u001b[1;32m     15\u001b[0m )\n",
      "    \u001b[0;31m[... skipping hidden 13 frame]\u001b[0m\n",
      "Cell \u001b[0;32mIn[9], line 2\u001b[0m, in \u001b[0;36m<lambda>\u001b[0;34m(x1, x2)\u001b[0m\n\u001b[1;32m      1\u001b[0m \u001b[38;5;66;03m# Test equivariance\u001b[39;00m\n\u001b[0;32m----> 2\u001b[0m gaunt_tensor_product_fourier_2D_fn \u001b[38;5;241m=\u001b[39m \u001b[38;5;28;01mlambda\u001b[39;00m x1, x2: \u001b[43mfunctional\u001b[49m\u001b[38;5;241;43m.\u001b[39;49m\u001b[43mgaunt_tensor_product_fourier_2D\u001b[49m\u001b[43m(\u001b[49m\n\u001b[1;32m      3\u001b[0m \u001b[43m    \u001b[49m\u001b[43mx1\u001b[49m\u001b[43m,\u001b[49m\u001b[43m \u001b[49m\u001b[43mx2\u001b[49m\u001b[43m,\u001b[49m\n\u001b[1;32m      4\u001b[0m \u001b[43m    \u001b[49m\u001b[43mres_theta\u001b[49m\u001b[38;5;241;43m=\u001b[39;49m\u001b[38;5;241;43m6\u001b[39;49m\u001b[43m,\u001b[49m\u001b[43m \u001b[49m\u001b[43mres_phi\u001b[49m\u001b[38;5;241;43m=\u001b[39;49m\u001b[38;5;241;43m6\u001b[39;49m\u001b[43m,\u001b[49m\u001b[43m \u001b[49m\u001b[43mconvolution_type\u001b[49m\u001b[38;5;241;43m=\u001b[39;49m\u001b[38;5;124;43m\"\u001b[39;49m\u001b[38;5;124;43mdirect\u001b[39;49m\u001b[38;5;124;43m\"\u001b[39;49m\n\u001b[1;32m      5\u001b[0m \u001b[43m)\u001b[49m\n\u001b[1;32m      6\u001b[0m gaunt_tensor_product_fourier_2D_fn \u001b[38;5;241m=\u001b[39m jax\u001b[38;5;241m.\u001b[39mjit(gaunt_tensor_product_fourier_2D_fn)\n\u001b[1;32m      8\u001b[0m tp_original \u001b[38;5;241m=\u001b[39m gaunt_tensor_product_fourier_2D_fn(\n\u001b[1;32m      9\u001b[0m     x1, x2\n\u001b[1;32m     10\u001b[0m )\n",
      "File \u001b[0;32m~/Documents/PriceofFreedom/src/tensor_products/../../src/tensor_products/functional.py:200\u001b[0m, in \u001b[0;36mgaunt_tensor_product_fourier_2D\u001b[0;34m(input1, input2, res_theta, res_phi, convolution_type, filter_ir_out)\u001b[0m\n\u001b[1;32m    197\u001b[0m     \u001b[38;5;28;01mreturn\u001b[39;00m jnp\u001b[38;5;241m.\u001b[39meinsum(\u001b[38;5;124m\"\u001b[39m\u001b[38;5;124m...a,auv->...uv\u001b[39m\u001b[38;5;124m\"\u001b[39m, \u001b[38;5;28minput\u001b[39m\u001b[38;5;241m.\u001b[39marray, y_grid)\n\u001b[1;32m    199\u001b[0m \u001b[38;5;66;03m# Convert to 2D Fourier coefficients.\u001b[39;00m\n\u001b[0;32m--> 200\u001b[0m input1_uv \u001b[38;5;241m=\u001b[39m \u001b[43mto_2D_fourier_coeffs\u001b[49m\u001b[43m(\u001b[49m\u001b[43minput1\u001b[49m\u001b[38;5;241;43m.\u001b[39;49m\u001b[43marray\u001b[49m\u001b[43m,\u001b[49m\u001b[43m \u001b[49m\u001b[43my1_grid_sp\u001b[49m\u001b[43m)\u001b[49m\n\u001b[1;32m    201\u001b[0m input2_uv \u001b[38;5;241m=\u001b[39m to_2D_fourier_coeffs(input2\u001b[38;5;241m.\u001b[39marray, y2_grid_sp)\n\u001b[1;32m    203\u001b[0m \u001b[38;5;66;03m# Perform the convolution in Fourier space, either directly or using FFT.\u001b[39;00m\n",
      "File \u001b[0;32m~/Documents/PriceofFreedom/.venv/lib/python3.11/site-packages/jax/experimental/sparse/transform.py:457\u001b[0m, in \u001b[0;36m_sparsify_with_interpreter.<locals>.wrapped\u001b[0;34m(*args, **params)\u001b[0m\n\u001b[1;32m    455\u001b[0m spenv \u001b[38;5;241m=\u001b[39m SparsifyEnv()\n\u001b[1;32m    456\u001b[0m spvalues \u001b[38;5;241m=\u001b[39m arrays_to_spvalues(spenv, args)\n\u001b[0;32m--> 457\u001b[0m spvalues_out, out_tree \u001b[38;5;241m=\u001b[39m \u001b[43mf_raw\u001b[49m\u001b[43m(\u001b[49m\u001b[43mspenv\u001b[49m\u001b[43m,\u001b[49m\u001b[43m \u001b[49m\u001b[38;5;241;43m*\u001b[39;49m\u001b[43mspvalues\u001b[49m\u001b[43m,\u001b[49m\u001b[43m \u001b[49m\u001b[38;5;241;43m*\u001b[39;49m\u001b[38;5;241;43m*\u001b[39;49m\u001b[43mparams\u001b[49m\u001b[43m)\u001b[49m\n\u001b[1;32m    458\u001b[0m out \u001b[38;5;241m=\u001b[39m spvalues_to_arrays(spenv, spvalues_out)\n\u001b[1;32m    459\u001b[0m \u001b[38;5;28;01mreturn\u001b[39;00m tree_unflatten(out_tree, out)\n",
      "File \u001b[0;32m~/Documents/PriceofFreedom/.venv/lib/python3.11/site-packages/jax/experimental/sparse/transform.py:441\u001b[0m, in \u001b[0;36msparsify_raw.<locals>.wrapped\u001b[0;34m(spenv, *spvalues, **params)\u001b[0m\n\u001b[1;32m    439\u001b[0m in_avals_flat \u001b[38;5;241m=\u001b[39m spvalues_to_avals(spenv, spvalues_flat)\n\u001b[1;32m    440\u001b[0m wrapped_fun, out_tree \u001b[38;5;241m=\u001b[39m flatten_fun_nokwargs(lu\u001b[38;5;241m.\u001b[39mwrap_init(f, params), in_tree)\n\u001b[0;32m--> 441\u001b[0m jaxpr, out_avals_flat, consts, () \u001b[38;5;241m=\u001b[39m \u001b[43mpe\u001b[49m\u001b[38;5;241;43m.\u001b[39;49m\u001b[43mtrace_to_jaxpr_dynamic\u001b[49m\u001b[43m(\u001b[49m\u001b[43mwrapped_fun\u001b[49m\u001b[43m,\u001b[49m\u001b[43m \u001b[49m\u001b[43min_avals_flat\u001b[49m\u001b[43m)\u001b[49m\n\u001b[1;32m    442\u001b[0m result \u001b[38;5;241m=\u001b[39m eval_sparse(jaxpr, consts, spvalues_flat, spenv)\n\u001b[1;32m    443\u001b[0m \u001b[38;5;28;01mif\u001b[39;00m \u001b[38;5;28mlen\u001b[39m(out_avals_flat) \u001b[38;5;241m!=\u001b[39m \u001b[38;5;28mlen\u001b[39m(result):\n",
      "    \u001b[0;31m[... skipping hidden 4 frame]\u001b[0m\n",
      "File \u001b[0;32m~/Documents/PriceofFreedom/src/tensor_products/../../src/tensor_products/functional.py:197\u001b[0m, in \u001b[0;36mgaunt_tensor_product_fourier_2D.<locals>.to_2D_fourier_coeffs\u001b[0;34m(input, y_grid)\u001b[0m\n\u001b[1;32m    195\u001b[0m \u001b[38;5;129m@sparse\u001b[39m\u001b[38;5;241m.\u001b[39msparsify\n\u001b[1;32m    196\u001b[0m \u001b[38;5;28;01mdef\u001b[39;00m\u001b[38;5;250m \u001b[39m\u001b[38;5;21mto_2D_fourier_coeffs\u001b[39m(\u001b[38;5;28minput\u001b[39m, y_grid):\n\u001b[0;32m--> 197\u001b[0m     \u001b[38;5;28;01mreturn\u001b[39;00m jnp\u001b[38;5;241m.\u001b[39meinsum(\u001b[38;5;124m\"\u001b[39m\u001b[38;5;124m...a,auv->...uv\u001b[39m\u001b[38;5;124m\"\u001b[39m, \u001b[38;5;28;43minput\u001b[39;49m\u001b[38;5;241;43m.\u001b[39;49m\u001b[43marray\u001b[49m, y_grid)\n",
      "File \u001b[0;32m~/Documents/PriceofFreedom/.venv/lib/python3.11/site-packages/jax/_src/core.py:822\u001b[0m, in \u001b[0;36mTracer.__getattr__\u001b[0;34m(self, name)\u001b[0m\n\u001b[1;32m    820\u001b[0m   attr \u001b[38;5;241m=\u001b[39m \u001b[38;5;28mgetattr\u001b[39m(\u001b[38;5;28mself\u001b[39m\u001b[38;5;241m.\u001b[39maval, name)\n\u001b[1;32m    821\u001b[0m \u001b[38;5;28;01mexcept\u001b[39;00m \u001b[38;5;167;01mAttributeError\u001b[39;00m \u001b[38;5;28;01mas\u001b[39;00m err:\n\u001b[0;32m--> 822\u001b[0m   \u001b[38;5;28;01mraise\u001b[39;00m \u001b[38;5;167;01mAttributeError\u001b[39;00m(\n\u001b[1;32m    823\u001b[0m       \u001b[38;5;124mf\u001b[39m\u001b[38;5;124m\"\u001b[39m\u001b[38;5;132;01m{\u001b[39;00m\u001b[38;5;28mself\u001b[39m\u001b[38;5;241m.\u001b[39m\u001b[38;5;18m__class__\u001b[39m\u001b[38;5;241m.\u001b[39m\u001b[38;5;18m__name__\u001b[39m\u001b[38;5;132;01m}\u001b[39;00m\u001b[38;5;124m has no attribute \u001b[39m\u001b[38;5;132;01m{\u001b[39;00mname\u001b[38;5;132;01m}\u001b[39;00m\u001b[38;5;124m\"\u001b[39m\n\u001b[1;32m    824\u001b[0m   ) \u001b[38;5;28;01mfrom\u001b[39;00m\u001b[38;5;250m \u001b[39m\u001b[38;5;21;01merr\u001b[39;00m\n\u001b[1;32m    825\u001b[0m \u001b[38;5;28;01melse\u001b[39;00m:\n\u001b[1;32m    826\u001b[0m   t \u001b[38;5;241m=\u001b[39m \u001b[38;5;28mtype\u001b[39m(attr)\n",
      "\u001b[0;31mAttributeError\u001b[0m: DynamicJaxprTracer has no attribute array"
     ]
    }
   ],
   "source": [
    "# Test equivariance\n",
    "gaunt_tensor_product_fourier_2D_fn = lambda x1, x2: functional.gaunt_tensor_product_fourier_2D(\n",
    "    x1, x2, res_theta=6, res_phi=6, convolution_type=\"direct\"\n",
    ")\n",
    "gaunt_tensor_product_fourier_2D_fn = jax.jit(gaunt_tensor_product_fourier_2D_fn)\n",
    "\n",
    "tp_original = gaunt_tensor_product_fourier_2D_fn(x1, x2)\n",
    "\n",
    "R = e3nn.rand_matrix(jax.random.PRNGKey(3))\n",
    "tp_rotated = gaunt_tensor_product_fourier_2D_fn(x1.transform_by_matrix(R), x2.transform_by_matrix(R))\n",
    "\n",
    "tp_original.transform_by_matrix(R), tp_rotated"
   ]
  },
  {
   "cell_type": "code",
   "execution_count": null,
   "metadata": {},
   "outputs": [],
   "source": [
    "tp_s2grid = functional.gaunt_tensor_product_s2grid(\n",
    "    x1,\n",
    "    x2,\n",
    "    res_beta=100,\n",
    "    res_alpha=99,\n",
    "    quadrature=\"gausslegendre\",\n",
    "    p_val1=1,\n",
    "    p_val2=1,\n",
    "    s2grid_fft=False,\n",
    ")\n",
    "tp_s2grid"
   ]
  },
  {
   "cell_type": "code",
   "execution_count": null,
   "metadata": {},
   "outputs": [],
   "source": [
    "y1_grid = gtp_utils.compute_y_grid(2, res_theta=100, res_phi=200)\n",
    "z_grid = gtp_utils.compute_z_grid(2, res_theta=100, res_phi=200)\n",
    "x1_uv = jnp.einsum(\"a,auv->uv\", x1.array, y1_grid)\n",
    "x1_restored = jnp.einsum(\"uv,auv->a\", x1_uv.conj(), z_grid)\n",
    "x1.array, x1_restored.real, jnp.isclose(x1.array, x1_restored.real, atol=5e-3)"
   ]
  },
  {
   "cell_type": "code",
   "execution_count": null,
   "metadata": {},
   "outputs": [],
   "source": [
    "tp_fourier_2D_direct = functional.gaunt_tensor_product_fourier_2D(\n",
    "    x1, x2, res_theta=100, res_phi=99, convolution_type=\"direct\"\n",
    ")\n",
    "tp_fourier_2D_fft = functional.gaunt_tensor_product_fourier_2D(\n",
    "    x1, x2, res_theta=100, res_phi=99, convolution_type=\"fft\"\n",
    ")\n",
    "jnp.isclose(tp_fourier_2D_direct.array, tp_fourier_2D_fft.array)"
   ]
  },
  {
   "cell_type": "code",
   "execution_count": null,
   "metadata": {},
   "outputs": [],
   "source": [
    "# Test equivariance\n",
    "tp_original = functional.gaunt_tensor_product_s2grid(\n",
    "    x1,\n",
    "    x2,\n",
    "    res_beta=100,\n",
    "    res_alpha=99,\n",
    "    quadrature=\"gausslegendre\",\n",
    "    p_val1=1,\n",
    "    p_val2=1,\n",
    "    s2grid_fft=False,\n",
    ")\n",
    "R = e3nn.rand_matrix(jax.random.PRNGKey(0))\n",
    "tp_rotated = functional.gaunt_tensor_product_s2grid(\n",
    "    x1.transform_by_matrix(R),\n",
    "    x2.transform_by_matrix(R),\n",
    "    res_beta=100,\n",
    "    res_alpha=99,\n",
    "    quadrature=\"gausslegendre\",\n",
    "    p_val1=1,\n",
    "    p_val2=1,\n",
    "    s2grid_fft=False,\n",
    ")\n",
    "tp_original.transform_by_matrix(R), tp_rotated"
   ]
  }
 ],
 "metadata": {
  "kernelspec": {
   "display_name": ".venv",
   "language": "python",
   "name": "python3"
  },
  "language_info": {
   "codemirror_mode": {
    "name": "ipython",
    "version": 3
   },
   "file_extension": ".py",
   "mimetype": "text/x-python",
   "name": "python",
   "nbconvert_exporter": "python",
   "pygments_lexer": "ipython3",
   "version": "3.11.4"
  }
 },
 "nbformat": 4,
 "nbformat_minor": 2
}
