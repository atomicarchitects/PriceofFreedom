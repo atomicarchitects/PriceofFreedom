{
 "cells": [
  {
   "cell_type": "code",
   "execution_count": null,
   "metadata": {},
   "outputs": [],
   "source": [
    "%load_ext autoreload"
   ]
  },
  {
   "cell_type": "code",
   "execution_count": null,
   "metadata": {},
   "outputs": [],
   "source": [
    "%autoreload 2\n",
    "import e3nn_jax as e3nn\n",
    "import jax\n",
    "import jax.numpy as jnp\n",
    "import plotly.graph_objects as go\n",
    "\n",
    "import itertools\n",
    "import sys\n",
    "\n",
    "sys.path.append(\".\")\n",
    "from vector_spherical_harmonics import (\n",
    "    VSHCoeffs,\n",
    "    cross_product,\n",
    "    dot_product,\n",
    ")\n",
    "\n",
    "jnp.set_printoptions(precision=3)\n",
    "jnp.set_printoptions(suppress=True)"
   ]
  },
  {
   "cell_type": "markdown",
   "metadata": {},
   "source": [
    "We store the coefficients for each Y(l, j, mj) in a dictionary."
   ]
  },
  {
   "cell_type": "code",
   "execution_count": null,
   "metadata": {},
   "outputs": [],
   "source": [
    "VSHCoeffs.get_vsh_irreps(3, parity=1), VSHCoeffs.get_vsh_irreps(3, parity=-1)"
   ]
  },
  {
   "cell_type": "markdown",
   "metadata": {},
   "source": [
    "This creates the Y(j, l, mj) by reducing the 1 x l representation into a (l - 1), l and (l + 1) representation."
   ]
  },
  {
   "cell_type": "code",
   "execution_count": null,
   "metadata": {},
   "outputs": [],
   "source": [
    "coeffs_dict1 = VSHCoeffs(parity=-1)\n",
    "coeffs_dict1[(1, 1)] = e3nn.IrrepsArray(\"1e\", jnp.asarray([1.0, 0.0, 0.0]))\n",
    "print(coeffs_dict1.to_vector_coeffs())\n",
    "\n",
    "coeffs_dict1 = VSHCoeffs.normal(jmax=3, parity=-1, key=jax.random.PRNGKey(0))\n",
    "print(coeffs_dict1.to_vector_coeffs())"
   ]
  },
  {
   "cell_type": "code",
   "execution_count": null,
   "metadata": {},
   "outputs": [],
   "source": [
    "def plot_vector_signal(\n",
    "    sig: e3nn.SphericalSignal, scale_vec: float = 0.1, title: str = None\n",
    "):\n",
    "    \"\"\"Plots a vector spherical signal.\"\"\"\n",
    "    grid = sig.grid_vectors.transpose((2, 0, 1)).reshape((3, -1))\n",
    "    values = sig.grid_values.reshape((3, -1))\n",
    "\n",
    "    fig = go.Figure()\n",
    "    fig.add_trace(\n",
    "        go.Cone(\n",
    "            x=grid[0, :],\n",
    "            y=grid[1, :],\n",
    "            z=grid[2, :],\n",
    "            u=scale_vec * values[0, :],\n",
    "            v=scale_vec * values[1, :],\n",
    "            w=scale_vec * values[2, :],\n",
    "            colorscale=\"Viridis\",\n",
    "            sizemode=\"absolute\",\n",
    "            sizeref=5,\n",
    "            showscale=True,\n",
    "            hoverinfo=\"skip\",\n",
    "        )\n",
    "    )\n",
    "    if title is not None:\n",
    "        fig.update_layout(title=title)\n",
    "    return fig"
   ]
  },
  {
   "cell_type": "code",
   "execution_count": null,
   "metadata": {},
   "outputs": [],
   "source": [
    "j, l, mj = 2, 1, 0\n",
    "plot_vector_signal(\n",
    "    VSHCoeffs.vector_spherical_harmonics(j, l, mj).to_vector_signal(\n",
    "        res_beta=40, res_alpha=39, quadrature=\"soft\"\n",
    "    ),\n",
    "    title=f\"VSH j={j}, l={l}, mj={mj}\",\n",
    ")"
   ]
  },
  {
   "cell_type": "code",
   "execution_count": null,
   "metadata": {},
   "outputs": [],
   "source": [
    "def get_change_of_basis_matrix(jmax: int, parity: int) -> jnp.ndarray:\n",
    "    \"\"\"Returns the change of basis matrix.\"\"\"\n",
    "    if parity not in [1, -1]:\n",
    "        raise ValueError(f\"Invalid parity {parity}.\")\n",
    "\n",
    "    return e3nn.reduced_tensor_product_basis(\n",
    "        \"ij\",\n",
    "        i=e3nn.Irrep(1, parity),\n",
    "        j=e3nn.s2_irreps(jmax - 1),\n",
    "    )\n",
    "\n",
    "rtp = get_change_of_basis_matrix(3, parity=-1)\n",
    "print(rtp.shape)\n",
    "vsh_coeffs = e3nn.normal(rtp.irreps, key=jax.random.PRNGKey(0))\n",
    "vsh_coeffs"
   ]
  },
  {
   "cell_type": "code",
   "execution_count": null,
   "metadata": {},
   "outputs": [],
   "source": [
    "xyz_coeffs = jnp.einsum(\"ijk,k->ij\", rtp.array, vsh_coeffs.array)\n",
    "xyz_coeffs"
   ]
  },
  {
   "cell_type": "code",
   "execution_count": null,
   "metadata": {},
   "outputs": [],
   "source": [
    "vsh_coeffs_new = e3nn.IrrepsArray(rtp.irreps, jnp.einsum(\"ijk,ij->k\", rtp.array, xyz_coeffs))\n",
    "assert jnp.allclose(vsh_coeffs.array, vsh_coeffs_new.array)\n",
    "vsh_coeffs_new"
   ]
  },
  {
   "cell_type": "code",
   "execution_count": null,
   "metadata": {},
   "outputs": [],
   "source": [
    "e3nn.Irreps(e3nn.Irrep(0, 1))"
   ]
  },
  {
   "cell_type": "code",
   "execution_count": null,
   "metadata": {},
   "outputs": [],
   "source": [
    "e3nn.IrrepsArray(e3nn.Irreps(\"0e\"), jnp.)"
   ]
  },
  {
   "cell_type": "code",
   "execution_count": null,
   "metadata": {},
   "outputs": [],
   "source": [
    "e3nn.tensor_product(\"1o\", e3nn.s2_irreps(2, p_val=1)).filter(lmax=0)[0].ir.p"
   ]
  },
  {
   "cell_type": "code",
   "execution_count": null,
   "metadata": {},
   "outputs": [],
   "source": [
    "VSHCoeffs.get_vsh_irreps(jmax=1, parity=1).filter(lmax=0)"
   ]
  },
  {
   "cell_type": "code",
   "execution_count": null,
   "metadata": {},
   "outputs": [],
   "source": [
    "e3nn.normal(\"1x0e+2x1o+1x1e+1x2e+1x2o+1x3o\").rechunk()"
   ]
  },
  {
   "cell_type": "markdown",
   "metadata": {},
   "source": [
    "## Reconstruction\n",
    "\n",
    "Check that we can emulate from_s2grid() and to_s2grid() with VSH."
   ]
  },
  {
   "cell_type": "code",
   "execution_count": null,
   "metadata": {},
   "outputs": [],
   "source": [
    "# Reconstruction example\n",
    "lmax = 3\n",
    "coeffs_dict1 = VSHCoeffs.normal(jmax=lmax, parity=-1, key=jax.random.PRNGKey(0))\n",
    "sig1 = coeffs_dict1.to_vector_signal(res_beta=40, res_alpha=39, quadrature=\"soft\")\n",
    "reconstructed_coeffs_dict1 = VSHCoeffs.from_vector_signal(sig1, lmax, parity=-1)\n",
    "print(reconstructed_coeffs_dict1)\n",
    "print(coeffs_dict1)\n",
    "for j, l in reconstructed_coeffs_dict1.keys():\n",
    "    assert reconstructed_coeffs_dict1[(j, l)].irreps == coeffs_dict1[(j, l)].irreps\n",
    "    assert jnp.allclose(\n",
    "        reconstructed_coeffs_dict1[(j, l)].array, coeffs_dict1[(j, l)].array\n",
    "    )"
   ]
  },
  {
   "cell_type": "markdown",
   "metadata": {},
   "source": [
    "## Cross Product"
   ]
  },
  {
   "cell_type": "code",
   "execution_count": null,
   "metadata": {},
   "outputs": [],
   "source": [
    "def cross_gaunt_tensor_product(\n",
    "    coeffs_dict1: VSHCoeffs, coeffs_dict2: VSHCoeffs, output_lmax: int\n",
    ") -> VSHCoeffs:\n",
    "    sig1 = coeffs_dict1.to_vector_signal(res_beta=40, res_alpha=39, quadrature=\"soft\")\n",
    "    sig2 = coeffs_dict2.to_vector_signal(res_beta=40, res_alpha=39, quadrature=\"soft\")\n",
    "    cross_sig = cross_product(sig1, sig2)\n",
    "    return VSHCoeffs.from_vector_signal(\n",
    "        cross_sig, jmax=output_lmax, parity=coeffs_dict1.parity * coeffs_dict2.parity\n",
    "    )"
   ]
  },
  {
   "cell_type": "code",
   "execution_count": null,
   "metadata": {},
   "outputs": [],
   "source": [
    "# Visualizing the cross product of two VSH\n",
    "coeffs_dict1 = VSHCoeffs(parity=-1)\n",
    "coeffs_dict1[(1, 2)] = e3nn.IrrepsArray(\"1o\", jnp.asarray([1.0, 0.0, 0.0]))\n",
    "plot_vector_signal(\n",
    "    coeffs_dict1.to_vector_signal(res_beta=40, res_alpha=39, quadrature=\"soft\"),\n",
    "    title=\"Signal 1\",\n",
    ")"
   ]
  },
  {
   "cell_type": "code",
   "execution_count": null,
   "metadata": {},
   "outputs": [],
   "source": [
    "coeffs_dict2 = VSHCoeffs(parity=-1)\n",
    "coeffs_dict2[(1, 2)] = e3nn.IrrepsArray(\"1o\", jnp.asarray([0.0, 1.0, 0.0]))\n",
    "plot_vector_signal(\n",
    "    coeffs_dict2.to_vector_signal(res_beta=40, res_alpha=39, quadrature=\"soft\"),\n",
    "    title=\"Signal 2\",\n",
    ")"
   ]
  },
  {
   "cell_type": "code",
   "execution_count": null,
   "metadata": {},
   "outputs": [],
   "source": [
    "cross_product_dict = cross_gaunt_tensor_product(\n",
    "    coeffs_dict1, coeffs_dict2, output_lmax=2\n",
    ")\n",
    "print(cross_product_dict)\n",
    "plot_vector_signal(\n",
    "    cross_product_dict.to_vector_signal(res_beta=40, res_alpha=39, quadrature=\"soft\"),\n",
    "    title=\"Cross Product\",\n",
    ")"
   ]
  },
  {
   "cell_type": "code",
   "execution_count": null,
   "metadata": {},
   "outputs": [],
   "source": [
    "cross_product_dict"
   ]
  },
  {
   "cell_type": "code",
   "execution_count": null,
   "metadata": {},
   "outputs": [],
   "source": [
    "flipped_cross_product = cross_gaunt_tensor_product(\n",
    "    coeffs_dict2, coeffs_dict1, output_lmax=2\n",
    ")\n",
    "plot_vector_signal(\n",
    "    flipped_cross_product.to_vector_signal(\n",
    "        res_beta=40, res_alpha=39, quadrature=\"soft\"\n",
    "    ),\n",
    "    title=\"Flipped Cross Product\",\n",
    ")"
   ]
  },
  {
   "cell_type": "code",
   "execution_count": null,
   "metadata": {},
   "outputs": [],
   "source": [
    "flipped_cross_product"
   ]
  },
  {
   "cell_type": "code",
   "execution_count": null,
   "metadata": {},
   "outputs": [],
   "source": [
    "# PVSH x VSH\n",
    "coeffs_dict1 = VSHCoeffs(parity=1)\n",
    "coeffs_dict1[(2, 2)] = e3nn.normal(\"2e\", jax.random.PRNGKey(0))\n",
    "\n",
    "coeffs_dict2 = VSHCoeffs(parity=-1)\n",
    "coeffs_dict2[(2, 3)] = e3nn.normal(\"2e\", jax.random.PRNGKey(1))\n",
    "\n",
    "(cross_gaunt_tensor_product(coeffs_dict1, coeffs_dict2, output_lmax=4).filter(\"4e\"))"
   ]
  },
  {
   "cell_type": "code",
   "execution_count": null,
   "metadata": {},
   "outputs": [],
   "source": [
    "# VSH x PVSH\n",
    "coeffs_dict1 = VSHCoeffs(parity=-1)\n",
    "coeffs_dict1[(2, 2)] = e3nn.normal(\"2o\", jax.random.PRNGKey(0))\n",
    "\n",
    "coeffs_dict2 = VSHCoeffs(parity=-1)\n",
    "coeffs_dict2[(2, 2)] = e3nn.normal(\"2o\", jax.random.PRNGKey(1))\n",
    "\n",
    "(cross_gaunt_tensor_product(coeffs_dict1, coeffs_dict2, output_lmax=4).filter(\"4e\"))"
   ]
  },
  {
   "cell_type": "markdown",
   "metadata": {},
   "source": [
    "# Dot Product"
   ]
  },
  {
   "cell_type": "code",
   "execution_count": null,
   "metadata": {},
   "outputs": [],
   "source": [
    "def get_ssh_coeffs(sig: e3nn.SphericalSignal, lmax: int) -> e3nn.IrrepsArray:\n",
    "    \"\"\"Returns the components of the scalar spherical harmonics for each l and m in [-l, ..., l].\"\"\"\n",
    "    return e3nn.from_s2grid(sig, irreps=e3nn.s2_irreps(lmax))\n",
    "\n",
    "\n",
    "# Dot product of vector fields\n",
    "def dot_gaunt_tensor_product(\n",
    "    coeffs_dict1: VSHCoeffs, coeffs_dict2: VSHCoeffs, output_lmax: int\n",
    ") -> e3nn.IrrepsArray:\n",
    "    sig1 = coeffs_dict1.to_vector_signal(res_beta=40, res_alpha=39, quadrature=\"soft\")\n",
    "    sig2 = coeffs_dict2.to_vector_signal(res_beta=40, res_alpha=39, quadrature=\"soft\")\n",
    "    dot_sig = dot_product(sig1, sig2)\n",
    "    return get_ssh_coeffs(dot_sig, lmax=output_lmax)"
   ]
  },
  {
   "cell_type": "code",
   "execution_count": null,
   "metadata": {},
   "outputs": [],
   "source": [
    "c1 = e3nn.IrrepsArray(\"1o\", jnp.asarray([1.0, 0.0, 0.0]))\n",
    "c2 = e3nn.IrrepsArray(\"1o\", jnp.asarray([1.0, 1.0, 1.0]))\n",
    "\n",
    "coeffs_dict1 = VSHCoeffs(parity=-1)\n",
    "coeffs_dict1[(1, 2)] = c1\n",
    "\n",
    "coeffs_dict2 = VSHCoeffs(parity=-1)\n",
    "coeffs_dict2[(1, 2)] = c2\n",
    "\n",
    "(\n",
    "    dot_gaunt_tensor_product(coeffs_dict1, coeffs_dict2, output_lmax=4),\n",
    "    dot_gaunt_tensor_product(coeffs_dict2, coeffs_dict1, output_lmax=4),\n",
    "    e3nn.cross(c1, c2),\n",
    ")"
   ]
  },
  {
   "cell_type": "markdown",
   "metadata": {},
   "source": [
    "# Full Vector Gaunt Tensor Product\n",
    "\n",
    "- Go from irreps1 -> VSHCoeffs1 using Linear layer,\n",
    "similarly for irreps2 -> VSHCoeffs2.\n",
    "\n",
    "- Do the cross product of the VSHCoeffss to get VSHCoeffs3.\n",
    "\n",
    "- Finally, go from VSHCoeffs3 -> irreps3 using Linear layer."
   ]
  },
  {
   "cell_type": "code",
   "execution_count": null,
   "metadata": {},
   "outputs": [],
   "source": [
    "import haiku as hk\n",
    "\n",
    "\n",
    "@hk.without_apply_rng\n",
    "@hk.transform\n",
    "def full_gaunt_tensor_product(\n",
    "    coeffs1: e3nn.IrrepsArray,\n",
    "    coeffs2: e3nn.IrrepsArray,\n",
    "    parity1: int,\n",
    "    parity2: int,\n",
    "    output_lmax: int,\n",
    ") -> e3nn.IrrepsArray:\n",
    "    coeffs1 = e3nn.haiku.Linear(\n",
    "        VSHCoeffs.get_vsh_irreps(coeffs1.irreps.lmax, parity=parity1), force_irreps_out=True\n",
    "    )(coeffs1)\n",
    "    coeffs2 = e3nn.haiku.Linear(\n",
    "        VSHCoeffs.get_vsh_irreps(coeffs2.irreps.lmax, parity=parity2), force_irreps_out=True\n",
    "    )(coeffs2)\n",
    "\n",
    "    coeffs_dict1 = VSHCoeffs.from_irreps_array(coeffs1)\n",
    "    coeffs_dict2 = VSHCoeffs.from_irreps_array(coeffs2)\n",
    "    cross_product_dict = cross_gaunt_tensor_product(\n",
    "        coeffs_dict1, coeffs_dict2, output_lmax=output_lmax\n",
    "    )\n",
    "\n",
    "    cross_product_coeffs = cross_product_dict.to_irreps_array()\n",
    "    cross_product_coeffs = e3nn.haiku.Linear(\n",
    "        VSHCoeffs.get_vsh_irreps(output_lmax, parity=parity1 * parity2)\n",
    "    )(cross_product_coeffs)\n",
    "    return cross_product_coeffs\n",
    "\n",
    "\n",
    "coeffs1 = e3nn.normal(e3nn.s2_irreps(3), jax.random.PRNGKey(0))\n",
    "coeffs2 = e3nn.normal(e3nn.s2_irreps(3), jax.random.PRNGKey(1))\n",
    "\n",
    "params = full_gaunt_tensor_product.init(\n",
    "    jax.random.PRNGKey(0),\n",
    "    coeffs1,\n",
    "    coeffs2,\n",
    "    parity1=-1,\n",
    "    parity2=-1,\n",
    "    output_lmax=4,\n",
    ")\n",
    "params"
   ]
  },
  {
   "cell_type": "code",
   "execution_count": null,
   "metadata": {},
   "outputs": [],
   "source": [
    "jax.jit(\n",
    "    full_gaunt_tensor_product.apply,\n",
    "    static_argnames=[\"output_lmax\", \"parity1\", \"parity2\"],\n",
    ")(\n",
    "    params,\n",
    "    coeffs1,\n",
    "    coeffs2,\n",
    "    parity1=-1,\n",
    "    parity2=-1,\n",
    "    output_lmax=4,\n",
    ")"
   ]
  },
  {
   "cell_type": "markdown",
   "metadata": {},
   "source": [
    "# Some optimizations"
   ]
  },
  {
   "cell_type": "code",
   "execution_count": null,
   "metadata": {},
   "outputs": [],
   "source": [
    "e3nn.tensor_product(\"1o\", e3nn.s2_irreps(3), regroup_output=False)"
   ]
  },
  {
   "cell_type": "code",
   "execution_count": null,
   "metadata": {},
   "outputs": [],
   "source": [
    "matrix = e3nn.reduced_tensor_product_basis(\"ij\", i=\"1o\", j=\"4e\")"
   ]
  },
  {
   "cell_type": "code",
   "execution_count": null,
   "metadata": {},
   "outputs": [],
   "source": [
    "matrix.array.shape, matrix"
   ]
  },
  {
   "cell_type": "code",
   "execution_count": null,
   "metadata": {},
   "outputs": [],
   "source": [
    "(~ jnp.isclose(matrix.array, 0)).sum() / matrix.array.size"
   ]
  }
 ],
 "metadata": {
  "kernelspec": {
   "display_name": ".venv",
   "language": "python",
   "name": "python3"
  },
  "language_info": {
   "codemirror_mode": {
    "name": "ipython",
    "version": 3
   },
   "file_extension": ".py",
   "mimetype": "text/x-python",
   "name": "python",
   "nbconvert_exporter": "python",
   "pygments_lexer": "ipython3",
   "version": "3.11.4"
  }
 },
 "nbformat": 4,
 "nbformat_minor": 2
}
