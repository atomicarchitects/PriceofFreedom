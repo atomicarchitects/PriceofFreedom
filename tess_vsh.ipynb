{
 "cells": [
  {
   "cell_type": "code",
   "execution_count": null,
   "metadata": {},
   "outputs": [],
   "source": [
    "from typing import Tuple, Dict, Any, Sequence\n",
    "import itertools\n",
    "\n",
    "import e3nn_jax as e3nn\n",
    "import chex\n",
    "import jax\n",
    "import jax.numpy as jnp\n",
    "import plotly.graph_objects as go\n",
    "\n",
    "import sys\n",
    "\n",
    "sys.path.append(\".\")\n",
    "from vector_spherical_harmonics import *\n",
    "\n",
    "jnp.set_printoptions(precision=3)\n",
    "jnp.set_printoptions(suppress=True)"
   ]
  },
  {
   "cell_type": "markdown",
   "metadata": {},
   "source": [
    "We store the coefficients for each Y(l, j, mj) in a dictionary."
   ]
  },
  {
   "cell_type": "code",
   "execution_count": null,
   "metadata": {},
   "outputs": [],
   "source": [
    "get_vsh_irreps(3, parity=1), get_vsh_irreps(3, parity=-1)"
   ]
  },
  {
   "cell_type": "markdown",
   "metadata": {},
   "source": [
    "This creates the Y(j, l, mj) by reducing the 1 x l representation into a (l - 1), l and (l + 1) representation."
   ]
  },
  {
   "cell_type": "code",
   "execution_count": null,
   "metadata": {},
   "outputs": [],
   "source": [
    "get_change_of_basis_matrices(jmax=2, parity=1)"
   ]
  },
  {
   "cell_type": "code",
   "execution_count": null,
   "metadata": {},
   "outputs": [],
   "source": [
    "def vector_spherical_harmonics(\n",
    "    j: int, l: int, mj: int, parity: int = -1\n",
    ") -> e3nn.SphericalSignal:\n",
    "    \"\"\"Returns a (pseudo)-vector spherical harmonic for a given (j, l, mj).\"\"\"\n",
    "    if j not in [l - 1, l, l + 1]:\n",
    "        raise ValueError(f\"Invalid j={j} for l={l}.\")\n",
    "\n",
    "    if mj not in range(-j, j + 1):\n",
    "        raise ValueError(f\"Invalid mj={mj} for j={j}.\")\n",
    "\n",
    "    coeffs = e3nn.IrrepsArray(\n",
    "        get_vsh_irrep(j, l, parity),\n",
    "        jnp.asarray([1.0 if i == mj else 0.0 for i in range(-j, j + 1)]),\n",
    "    )\n",
    "    coeffs_dict = VSHCoeffs(parity=parity)\n",
    "    coeffs_dict[(j, l)] = coeffs\n",
    "    return coeffs_dict.to_vector_signal()"
   ]
  },
  {
   "cell_type": "code",
   "execution_count": null,
   "metadata": {},
   "outputs": [],
   "source": [
    "coeffs_dict1 = VSHCoeffs(parity=-1)\n",
    "coeffs_dict1[(1, 1)] = e3nn.IrrepsArray(\"1e\", jnp.asarray([1.0, 0.0, 0.0]))\n",
    "print(coeffs_dict1.to_vector_coeffs())\n",
    "\n",
    "coeffs_dict1 = VSHCoeffs.normal(jmax=3, parity=-1, key=jax.random.PRNGKey(0))\n",
    "print(coeffs_dict1.to_vector_coeffs())"
   ]
  },
  {
   "cell_type": "code",
   "execution_count": null,
   "metadata": {},
   "outputs": [],
   "source": [
    "def plot_vector_signal(\n",
    "    sig: e3nn.SphericalSignal, scale_vec: float = 0.1, title: str = None\n",
    "):\n",
    "    \"\"\"Plots a vector spherical signal.\"\"\"\n",
    "    grid = sig.grid_vectors.transpose((2, 0, 1)).reshape((3, -1))\n",
    "    values = sig.grid_values.reshape((3, -1))\n",
    "\n",
    "    fig = go.Figure()\n",
    "    fig.add_trace(\n",
    "        go.Cone(\n",
    "            x=grid[0, :],\n",
    "            y=grid[1, :],\n",
    "            z=grid[2, :],\n",
    "            u=scale_vec * values[0, :],\n",
    "            v=scale_vec * values[1, :],\n",
    "            w=scale_vec * values[2, :],\n",
    "            colorscale=\"Viridis\",\n",
    "            sizemode=\"absolute\",\n",
    "            sizeref=5,\n",
    "            showscale=True,\n",
    "            hoverinfo=\"skip\",\n",
    "        )\n",
    "    )\n",
    "    if title is not None:\n",
    "        fig.update_layout(title=title)\n",
    "    return fig"
   ]
  },
  {
   "cell_type": "code",
   "execution_count": null,
   "metadata": {},
   "outputs": [],
   "source": [
    "j, l, mj = 2, 1, 0\n",
    "plot_vector_signal(\n",
    "    vector_spherical_harmonics(j, l, mj), title=f\"VSH j={j}, l={l}, mj={mj}\"\n",
    ")"
   ]
  },
  {
   "cell_type": "markdown",
   "metadata": {},
   "source": [
    "## Reconstruction\n",
    "\n",
    "Check that we can emulate from_s2grid() and to_s2grid() with VSH."
   ]
  },
  {
   "cell_type": "code",
   "execution_count": null,
   "metadata": {},
   "outputs": [],
   "source": [
    "def wrap_fn_for_vector_signal(fn):\n",
    "    \"\"\"vmaps a fn over res_beta and res_alpha axes.\"\"\"\n",
    "    fn = jax.vmap(fn, in_axes=-1, out_axes=-1)\n",
    "    fn = jax.vmap(fn, in_axes=-1, out_axes=-1)\n",
    "    return fn\n",
    "\n",
    "\n",
    "def get_vsh_coeffs_at_mj(\n",
    "    sig: e3nn.SphericalSignal, j_out: int, l_out: int, mj_out: int\n",
    ") -> float:\n",
    "    \"\"\"Returns the component of Y_{j_out, l_out, mj_out} in the signal sig.\"\"\"\n",
    "    vsh_signal = vector_spherical_harmonics(j_out, l_out, mj_out)\n",
    "    dot_product = sig.replace_values(\n",
    "        wrap_fn_for_vector_signal(jnp.dot)(sig.grid_values, vsh_signal.grid_values)\n",
    "    )\n",
    "    return dot_product.integrate().array[0] / (4 * jnp.pi)\n",
    "\n",
    "\n",
    "def get_vsh_coeffs_at_j(\n",
    "    sig: e3nn.SphericalSignal,\n",
    "    j_out: int,\n",
    "    l_out: int,\n",
    "    parity_out: int,\n",
    ") -> e3nn.IrrepsArray:\n",
    "    \"\"\"Returns the components of Y_{j_out, l_out, mj_out} in the signal sig for all mj_out in [-j_out, ..., j_out].\"\"\"\n",
    "    computed_coeffs = jnp.stack(\n",
    "        [\n",
    "            get_vsh_coeffs_at_mj(sig, j_out, l_out, mj_out)\n",
    "            for mj_out in range(-j_out, j_out + 1)\n",
    "        ]\n",
    "    )\n",
    "    computed_coeffs = e3nn.IrrepsArray(\n",
    "        get_vsh_irrep(j_out, l_out, parity_out), computed_coeffs\n",
    "    )\n",
    "    return computed_coeffs\n",
    "\n",
    "\n",
    "def get_vsh_coeffs(sig: e3nn.SphericalSignal, lmax: int, parity: int) -> VSHCoeffs:\n",
    "    \"\"\"Returns the components of Y_{j_out, l_out, mj_out} in the signal sig for all mj_out in [-j_out, ..., j_out] and j_out in [-l_out, ..., l_out] and l_out upto lmax.\"\"\"\n",
    "    if sig.shape[-3] != 3:\n",
    "        raise ValueError(f\"Invalid shape {sig.shape} for signal.\")\n",
    "\n",
    "    result = VSHCoeffs(parity=parity)\n",
    "    for j_out, l_out in vsh_iterator(lmax):\n",
    "        result[j_out, l_out] = get_vsh_coeffs_at_j(sig, j_out, l_out, parity)\n",
    "    return result\n",
    "\n",
    "\n",
    "def get_ssh_coeffs(sig: e3nn.SphericalSignal, lmax: int) -> e3nn.IrrepsArray:\n",
    "    \"\"\"Returns the components of the scalar spherical harmonics for each l and m in [-l, ..., l].\"\"\"\n",
    "    return e3nn.from_s2grid(sig, irreps=e3nn.s2_irreps(lmax))"
   ]
  },
  {
   "cell_type": "code",
   "execution_count": null,
   "metadata": {},
   "outputs": [],
   "source": [
    "# Reconstruction example\n",
    "lmax = 3\n",
    "coeffs_dict1 = VSHCoeffs.normal(jmax=lmax, parity=-1, key=jax.random.PRNGKey(0))\n",
    "sig1 = coeffs_dict1.to_vector_signal()\n",
    "reconstructed_coeffs_dict1 = get_vsh_coeffs(sig1, lmax, parity=-1)\n",
    "print(reconstructed_coeffs_dict1)\n",
    "print(coeffs_dict1)\n",
    "for j, l in reconstructed_coeffs_dict1.keys():\n",
    "    assert reconstructed_coeffs_dict1[(j, l)].irreps == coeffs_dict1[(j, l)].irreps\n",
    "    assert jnp.allclose(\n",
    "        reconstructed_coeffs_dict1[(j, l)].array, coeffs_dict1[(j, l)].array\n",
    "    )"
   ]
  },
  {
   "cell_type": "markdown",
   "metadata": {},
   "source": [
    "## Cross Product"
   ]
  },
  {
   "cell_type": "code",
   "execution_count": null,
   "metadata": {},
   "outputs": [],
   "source": [
    "def cross_gaunt_tensor_product(\n",
    "    coeffs_dict1: VSHCoeffs, coeffs_dict2: VSHCoeffs, output_lmax: int\n",
    ") -> VSHCoeffs:\n",
    "    sig1 = coeffs_dict1.to_vector_signal()\n",
    "    sig2 = coeffs_dict2.to_vector_signal()\n",
    "    cross_sig = sig1.replace_values(\n",
    "        wrap_fn_for_vector_signal(jnp.cross)(sig1.grid_values, sig2.grid_values)\n",
    "    )\n",
    "    return get_vsh_coeffs(\n",
    "        cross_sig, lmax=output_lmax, parity=coeffs_dict1.parity * coeffs_dict2.parity\n",
    "    )"
   ]
  },
  {
   "cell_type": "code",
   "execution_count": null,
   "metadata": {},
   "outputs": [],
   "source": [
    "# Visualizing the cross product of two VSH\n",
    "coeffs_dict1 = VSHCoeffs(parity=-1)\n",
    "coeffs_dict1[(1, 2)] = e3nn.IrrepsArray(\"1o\", jnp.asarray([1.0, 0.0, 0.0]))\n",
    "plot_vector_signal(coeffs_dict1.to_vector_signal(), title=\"Signal 1\")"
   ]
  },
  {
   "cell_type": "code",
   "execution_count": null,
   "metadata": {},
   "outputs": [],
   "source": [
    "coeffs_dict2 = VSHCoeffs(parity=-1)\n",
    "coeffs_dict2[(1, 2)] = e3nn.IrrepsArray(\"1o\", jnp.asarray([0.0, 1.0, 0.0]))\n",
    "plot_vector_signal(coeffs_dict2.to_vector_signal(), title=\"Signal 2\")"
   ]
  },
  {
   "cell_type": "code",
   "execution_count": null,
   "metadata": {},
   "outputs": [],
   "source": [
    "cross_product_dict = cross_gaunt_tensor_product(\n",
    "    coeffs_dict1, coeffs_dict2, output_lmax=2\n",
    ")\n",
    "print(cross_product_dict)\n",
    "plot_vector_signal(cross_product_dict.to_vector_signal(), title=\"Cross Product\")"
   ]
  },
  {
   "cell_type": "code",
   "execution_count": null,
   "metadata": {},
   "outputs": [],
   "source": [
    "cross_product_dict"
   ]
  },
  {
   "cell_type": "code",
   "execution_count": null,
   "metadata": {},
   "outputs": [],
   "source": [
    "flipped_cross_product = cross_gaunt_tensor_product(\n",
    "    coeffs_dict2, coeffs_dict1, output_lmax=2\n",
    ")\n",
    "plot_vector_signal(\n",
    "    flipped_cross_product.to_vector_signal(), title=\"Flipped Cross Product\"\n",
    ")"
   ]
  },
  {
   "cell_type": "code",
   "execution_count": null,
   "metadata": {},
   "outputs": [],
   "source": [
    "flipped_cross_product"
   ]
  },
  {
   "cell_type": "code",
   "execution_count": null,
   "metadata": {},
   "outputs": [],
   "source": [
    "# PVSH x VSH\n",
    "coeffs_dict1 = VSHCoeffs(parity=1)\n",
    "coeffs_dict1[(2, 2)] = e3nn.normal(\"2e\", jax.random.PRNGKey(0))\n",
    "\n",
    "coeffs_dict2 = VSHCoeffs(parity=-1)\n",
    "coeffs_dict2[(2, 3)] = e3nn.normal(\"2e\", jax.random.PRNGKey(1))\n",
    "\n",
    "(cross_gaunt_tensor_product(coeffs_dict1, coeffs_dict2, output_lmax=4).filter(\"4e\"))"
   ]
  },
  {
   "cell_type": "code",
   "execution_count": null,
   "metadata": {},
   "outputs": [],
   "source": [
    "# VSH x VSH\n",
    "coeffs_dict1 = VSHCoeffs(parity=-1)\n",
    "coeffs_dict1[(2, 3)] = e3nn.normal(\"2e\", jax.random.PRNGKey(0))\n",
    "\n",
    "coeffs_dict2 = VSHCoeffs(parity=-1)\n",
    "coeffs_dict2[(2, 3)] = e3nn.normal(\"2e\", jax.random.PRNGKey(1))\n",
    "\n",
    "(cross_gaunt_tensor_product(coeffs_dict1, coeffs_dict2, output_lmax=4).filter(\"4e\"))"
   ]
  },
  {
   "cell_type": "markdown",
   "metadata": {},
   "source": [
    "## Check YuQing's selection rules\n",
    "\n",
    "YuQing:\n",
    "1. |l_i - 1|   <=  j_i  <= l_i + 1 for all i (usual selection rule for l_i times 1)\n",
    "2. |l_1 - l_2| <=  l_3  <= l_1 + l_2 (usual selection rule for l_1 times l_2)\n",
    "3. |j_1 - j_2| <=  j_3  <= j_1 + j_2 (usual selection rule for j_1 times j_2)\n",
    "4. l_1 + l_2 + l_3 is even\n",
    "5. There is no choice of a, b, c where l_a = j_a and (l_b, j_b) = (l_c, j_c)\n",
    "\n",
    "First one is guaranteed by our construction."
   ]
  },
  {
   "cell_type": "code",
   "execution_count": null,
   "metadata": {},
   "outputs": [],
   "source": [
    "coeffs_dict1 = VSHCoeffs(parity=1)\n",
    "coeffs_dict1[(2, 2)] = e3nn.normal(\"2e\", jax.random.PRNGKey(0))\n",
    "\n",
    "coeffs_dict2 = VSHCoeffs(parity=1)\n",
    "coeffs_dict2[(2, 2)] = e3nn.normal(\"2e\", jax.random.PRNGKey(1))\n",
    "\n",
    "cross_product_dict = cross_gaunt_tensor_product(\n",
    "    coeffs_dict1, coeffs_dict2, output_lmax=4\n",
    ")\n",
    "cross_product_dict"
   ]
  },
  {
   "cell_type": "code",
   "execution_count": null,
   "metadata": {},
   "outputs": [],
   "source": [
    "for (j3, l3), coeffs in cross_product_dict.items():\n",
    "    if jnp.allclose(cross_product_dict[(j3, l3)].array, 0, atol=1e-3):\n",
    "        continue\n",
    "\n",
    "    print(f\"Checking (j3, l3) = ({j3}, {l3})\")\n",
    "    for j2, l2 in coeffs_dict2.keys():\n",
    "        for j1, l1 in coeffs_dict1.keys():\n",
    "            # Check first conditions\n",
    "            assert l1 - 1 <= j1 <= l1 + 1\n",
    "            assert l2 - 1 <= j2 <= l2 + 1\n",
    "            assert l3 - 1 <= j3 <= l3 + 1\n",
    "\n",
    "            # Check second condition\n",
    "            assert abs(l1 - l2) <= l3 <= l1 + l2, (l1, l2, l3)\n",
    "\n",
    "            # Check third condition\n",
    "            assert abs(j1 - j2) <= j3 <= j1 + j2, (j1, j2, j3)\n",
    "\n",
    "            # Check fourth condition\n",
    "            assert (l1 + l2 + l3) % 2 == 0, (l1, l2, l3)\n",
    "\n",
    "            # Check fifth condition\n",
    "            ls = [l1, l2, l3]\n",
    "            js = [j1, j2, j3]\n",
    "            for a, b, c in itertools.permutations(range(3)):\n",
    "                assert not ((ls[a], ls[b], js[b]) == (js[a], ls[c], js[c]))"
   ]
  },
  {
   "cell_type": "markdown",
   "metadata": {},
   "source": [
    "# Dot Product"
   ]
  },
  {
   "cell_type": "code",
   "execution_count": null,
   "metadata": {},
   "outputs": [],
   "source": [
    "# Dot product of vector fields\n",
    "def dot_gaunt_tensor_product(\n",
    "    coeffs_dict1: VSHCoeffs, coeffs_dict2: VSHCoeffs, output_lmax: int\n",
    ") -> e3nn.IrrepsArray:\n",
    "    sig1 = coeffs_dict1.to_vector_signal()\n",
    "    sig2 = coeffs_dict2.to_vector_signal()\n",
    "    dot_sig = sig1.replace_values(\n",
    "        wrap_fn_for_vector_signal(jnp.dot)(sig1.grid_values, sig2.grid_values)\n",
    "    )\n",
    "    return get_ssh_coeffs(dot_sig, lmax=output_lmax)"
   ]
  },
  {
   "cell_type": "code",
   "execution_count": null,
   "metadata": {},
   "outputs": [],
   "source": [
    "coeffs_dict1 = VSHCoeffs(parity=-1)\n",
    "coeffs_dict1[(1, 2)] = e3nn.IrrepsArray(\"1o\", jnp.asarray([1.0, 0.0, 0.0]))\n",
    "\n",
    "coeffs_dict2 = VSHCoeffs(parity=-1)\n",
    "coeffs_dict2[(1, 2)] = e3nn.IrrepsArray(\"1o\", jnp.asarray([0.0, 1.0, 1.0]))\n",
    "\n",
    "(\n",
    "    dot_gaunt_tensor_product(coeffs_dict1, coeffs_dict2, output_lmax=4),\n",
    "    dot_gaunt_tensor_product(coeffs_dict2, coeffs_dict1, output_lmax=4),\n",
    ")"
   ]
  },
  {
   "cell_type": "markdown",
   "metadata": {},
   "source": [
    "# Full Vector Gaunt Tensor Product\n",
    "\n",
    "- Go from irreps1 -> VSHCoeffs1 using Linear layer,\n",
    "similarly for irreps2 -> VSHCoeffs2.\n",
    "\n",
    "- Do the cross product of the VSHCoeffss to get VSHCoeffs3.\n",
    "\n",
    "- Finally, go from VSHCoeffs3 -> irreps3 using Linear layer."
   ]
  },
  {
   "cell_type": "code",
   "execution_count": null,
   "metadata": {},
   "outputs": [],
   "source": [
    "import haiku as hk\n",
    "\n",
    "\n",
    "@hk.without_apply_rng\n",
    "@hk.transform\n",
    "def full_gaunt_tensor_product(\n",
    "    coeffs1: e3nn.IrrepsArray,\n",
    "    coeffs2: e3nn.IrrepsArray,\n",
    "    parity1: int,\n",
    "    parity2: int,\n",
    "    output_lmax: int,\n",
    ") -> e3nn.IrrepsArray:\n",
    "    coeffs1 = e3nn.haiku.Linear(\n",
    "        get_vsh_irreps(coeffs1.irreps.lmax, parity=parity1), force_irreps_out=True\n",
    "    )(coeffs1)\n",
    "    coeffs2 = e3nn.haiku.Linear(\n",
    "        get_vsh_irreps(coeffs2.irreps.lmax, parity=parity2), force_irreps_out=True\n",
    "    )(coeffs2)\n",
    "\n",
    "    coeffs_dict1 = VSHCoeffs.from_irreps_array(coeffs1)\n",
    "    coeffs_dict2 = VSHCoeffs.from_irreps_array(coeffs2)\n",
    "    cross_product_dict = cross_gaunt_tensor_product(\n",
    "        coeffs_dict1, coeffs_dict2, output_lmax=output_lmax\n",
    "    )\n",
    "\n",
    "    cross_product_coeffs = cross_product_dict.to_irreps_array()\n",
    "    cross_product_coeffs = e3nn.haiku.Linear(\n",
    "        get_vsh_irreps(output_lmax, parity=parity1 * parity2)\n",
    "    )(cross_product_coeffs)\n",
    "    return cross_product_coeffs\n",
    "\n",
    "\n",
    "coeffs1 = e3nn.normal(e3nn.s2_irreps(3), jax.random.PRNGKey(0))\n",
    "coeffs2 = e3nn.normal(e3nn.s2_irreps(3), jax.random.PRNGKey(1))\n",
    "\n",
    "params = full_gaunt_tensor_product.init(\n",
    "    jax.random.PRNGKey(0),\n",
    "    coeffs1,\n",
    "    coeffs2,\n",
    "    parity1=-1,\n",
    "    parity2=-1,\n",
    "    output_lmax=4,\n",
    ")\n",
    "params"
   ]
  },
  {
   "cell_type": "code",
   "execution_count": null,
   "metadata": {},
   "outputs": [],
   "source": [
    "jax.jit(\n",
    "    full_gaunt_tensor_product.apply,\n",
    "    static_argnames=[\"output_lmax\", \"parity1\", \"parity2\"],\n",
    ")(\n",
    "    params,\n",
    "    coeffs1,\n",
    "    coeffs2,\n",
    "    parity1=-1,\n",
    "    parity2=-1,\n",
    "    output_lmax=4,\n",
    ")"
   ]
  }
 ],
 "metadata": {
  "kernelspec": {
   "display_name": ".venv",
   "language": "python",
   "name": "python3"
  },
  "language_info": {
   "codemirror_mode": {
    "name": "ipython",
    "version": 3
   },
   "file_extension": ".py",
   "mimetype": "text/x-python",
   "name": "python",
   "nbconvert_exporter": "python",
   "pygments_lexer": "ipython3",
   "version": "3.11.4"
  }
 },
 "nbformat": 4,
 "nbformat_minor": 2
}
