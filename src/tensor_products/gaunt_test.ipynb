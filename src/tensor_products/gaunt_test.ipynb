{
 "cells": [
  {
   "cell_type": "code",
   "execution_count": 2,
   "metadata": {},
   "outputs": [],
   "source": [
    "%load_ext autoreload\n",
    "%autoreload 2"
   ]
  },
  {
   "cell_type": "code",
   "execution_count": 3,
   "metadata": {},
   "outputs": [],
   "source": [
    "import e3nn_jax as e3nn\n",
    "import jax\n",
    "jax.config.update(\"jax_enable_x64\", True)\n",
    "import jax.numpy as jnp\n",
    "\n",
    "import sys\n",
    "sys.path.append('../..')\n",
    "\n",
    "from src.tensor_products import functional\n",
    "from src.tensor_products import gaunt_tensor_product_utils as gtp_utils"
   ]
  },
  {
   "cell_type": "code",
   "execution_count": 4,
   "metadata": {},
   "outputs": [],
   "source": [
    "# x1 = e3nn.IrrepsArray(\n",
    "#     e3nn.s2_irreps(2),\n",
    "#     jnp.concatenate([jax.random.normal(jax.random.PRNGKey(0), (4,)), jnp.zeros(5)]))\n",
    "\n",
    "# x2 = e3nn.IrrepsArray(\n",
    "#     e3nn.s2_irreps(2),\n",
    "#     jnp.concatenate([jax.random.normal(jax.random.PRNGKey(1), (4,)), jnp.zeros(5)]))\n",
    "\n",
    "x1 = e3nn.normal(e3nn.s2_irreps(1), jax.random.PRNGKey(0))\n",
    "x2 = e3nn.normal(e3nn.s2_irreps(1), jax.random.PRNGKey(1))"
   ]
  },
  {
   "cell_type": "code",
   "execution_count": 5,
   "metadata": {},
   "outputs": [
    {
     "data": {
      "text/plain": [
       "1x0e+1x1o+1x2e\n",
       "[ 2.69984163  0.46553642  0.18777085 -1.25098149  1.78401518 -0.0545106\n",
       " -0.45766027 -2.50128504  2.75731263]"
      ]
     },
     "execution_count": 5,
     "metadata": {},
     "output_type": "execute_result"
    }
   ],
   "source": [
    "tp_s2grid = functional.gaunt_tensor_product_s2grid(\n",
    "    x1, x2, \n",
    "    res_beta=100, res_alpha=99, quadrature=\"gausslegendre\", p_val1=1, p_val2=1, s2grid_fft=False\n",
    ")\n",
    "tp_s2grid"
   ]
  },
  {
   "cell_type": "code",
   "execution_count": 7,
   "metadata": {},
   "outputs": [
    {
     "data": {
      "text/plain": [
       "(Array([ 0.08086788, -0.38624702, -0.37565558,  1.66897423], dtype=float64),\n",
       " Array([ 0.08065686, -0.38624506, -0.37495903,  1.66896573], dtype=float64),\n",
       " Array([ True,  True,  True,  True], dtype=bool))"
      ]
     },
     "execution_count": 7,
     "metadata": {},
     "output_type": "execute_result"
    }
   ],
   "source": [
    "y1_grid = gtp_utils.compute_y_grid(1, res_theta=100, res_phi=200)\n",
    "z_grid = gtp_utils.compute_z_grid(1, res_theta=100, res_phi=200)\n",
    "x1_uv = jnp.einsum(\"a,auv->uv\", x1.array, y1_grid)\n",
    "x1_restored = jnp.einsum(\"uv,auv->a\", x1_uv.conj(), z_grid)\n",
    "x1.array, x1_restored.real, jnp.isclose(x1.array, x1_restored.real, atol=5e-3)"
   ]
  },
  {
   "cell_type": "code",
   "execution_count": 8,
   "metadata": {},
   "outputs": [
    {
     "name": "stderr",
     "output_type": "stream",
     "text": [
      "/Users/ameyad/Documents/vector-spherical-harmonics/.venv/lib/python3.11/site-packages/jax/_src/ops/scatter.py:96: FutureWarning: scatter inputs have incompatible types: cannot safely cast value from dtype=complex128 to dtype=complex64 with jax_numpy_dtype_promotion='standard'. In future JAX releases this will result in an error.\n",
      "  warnings.warn(\n"
     ]
    },
    {
     "data": {
      "text/plain": [
       "Array([ True,  True,  True,  True,  True,  True,  True,  True,  True],      dtype=bool)"
      ]
     },
     "execution_count": 8,
     "metadata": {},
     "output_type": "execute_result"
    }
   ],
   "source": [
    "tp_fourier_2D_direct = functional.gaunt_tensor_product_fourier_2D(\n",
    "    x1, x2,\n",
    "    res_theta=100, res_phi=99, convolution_type=\"direct\"\n",
    ")\n",
    "tp_fourier_2D_fft = functional.gaunt_tensor_product_fourier_2D(\n",
    "    x1, x2,\n",
    "    res_theta=100, res_phi=99, convolution_type=\"fft\"\n",
    ")\n",
    "jnp.isclose(tp_fourier_2D_direct.array, tp_fourier_2D_fft.array)"
   ]
  },
  {
   "cell_type": "code",
   "execution_count": 17,
   "metadata": {},
   "outputs": [
    {
     "data": {
      "text/plain": [
       "(1x0e+1x1o+1x2e\n",
       " [ 2.69984163 -1.34457227 -0.01454009 -0.09407826 -2.58911482  2.65111986\n",
       "  -0.76403058 -0.37703174 -1.67226989],\n",
       " 1x0e+1x1o+1x2e\n",
       " [ 2.69984163 -1.34457227 -0.01454009 -0.09407826 -2.58911482  2.65111986\n",
       "  -0.76403058 -0.37703174 -1.67226989])"
      ]
     },
     "execution_count": 17,
     "metadata": {},
     "output_type": "execute_result"
    }
   ],
   "source": [
    "# Test equivariance\n",
    "tp_original = functional.gaunt_tensor_product_s2grid(\n",
    "    x1, x2,\n",
    "    res_beta=100, res_alpha=99, quadrature=\"gausslegendre\", p_val1=1, p_val2=1, s2grid_fft=False\n",
    "\n",
    ")\n",
    "R = e3nn.rand_matrix(jax.random.PRNGKey(0))\n",
    "tp_rotated = functional.gaunt_tensor_product_s2grid(\n",
    "    x1.transform_by_matrix(R), x2.transform_by_matrix(R),\n",
    "    res_beta=100, res_alpha=99, quadrature=\"gausslegendre\", p_val1=1, p_val2=1, s2grid_fft=False\n",
    ")\n",
    "tp_original.transform_by_matrix(R), tp_rotated"
   ]
  },
  {
   "cell_type": "code",
   "execution_count": 19,
   "metadata": {},
   "outputs": [
    {
     "data": {
      "text/plain": [
       "(1x0e+1x1o+1x2e\n",
       " [ 4.79991172  2.19338789  0.70070788 -0.63398606 -6.64275998  0.1874885\n",
       "  -2.32374008 -1.61593553  1.62083508],\n",
       " 1x0e+1x1o+1x2e\n",
       " [ 4.8060221   2.19399914  0.69835547 -0.634226   -6.72951817  0.34716344\n",
       "  -2.55758929 -1.80203014  1.90055239])"
      ]
     },
     "execution_count": 19,
     "metadata": {},
     "output_type": "execute_result"
    }
   ],
   "source": [
    "# Test equivariance\n",
    "tp_original = functional.gaunt_tensor_product_fourier_2D(\n",
    "    x1, x2,\n",
    "    res_theta=100, res_phi=99, convolution_type=\"direct\"\n",
    ")\n",
    "R = e3nn.rand_matrix(jax.random.PRNGKey(1))\n",
    "tp_rotated = functional.gaunt_tensor_product_fourier_2D(\n",
    "    x1.transform_by_matrix(R), x2.transform_by_matrix(R),\n",
    "    res_theta=100, res_phi=99, convolution_type=\"direct\"\n",
    ")\n",
    "tp_original.transform_by_matrix(R), tp_rotated"
   ]
  }
 ],
 "metadata": {
  "kernelspec": {
   "display_name": ".venv",
   "language": "python",
   "name": "python3"
  },
  "language_info": {
   "codemirror_mode": {
    "name": "ipython",
    "version": 3
   },
   "file_extension": ".py",
   "mimetype": "text/x-python",
   "name": "python",
   "nbconvert_exporter": "python",
   "pygments_lexer": "ipython3",
   "version": "3.11.4"
  }
 },
 "nbformat": 4,
 "nbformat_minor": 2
}
