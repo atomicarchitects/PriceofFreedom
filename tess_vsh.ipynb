{
 "cells": [
  {
   "cell_type": "code",
   "execution_count": null,
   "metadata": {},
   "outputs": [],
   "source": [
    "from typing import Tuple, Dict, Any\n",
    "import itertools\n",
    "\n",
    "import e3nn_jax as e3nn\n",
    "import jax\n",
    "import jax.numpy as jnp\n",
    "import plotly.graph_objects as go\n",
    "\n",
    "jnp.set_printoptions(precision=3)\n",
    "jnp.set_printoptions(suppress=True)"
   ]
  },
  {
   "cell_type": "markdown",
   "metadata": {},
   "source": [
    "We store the coefficients for each Y(l, j, mj) in a dictionary."
   ]
  },
  {
   "cell_type": "code",
   "execution_count": null,
   "metadata": {},
   "outputs": [],
   "source": [
    "CoeffsDict = Dict[Tuple[int, int], e3nn.IrrepsArray]\n",
    "\n",
    "\n",
    "def vsh_iterator(lmax: int):\n",
    "    \"\"\"Iterates over all VSH up to some lmax.\"\"\"\n",
    "    for l in range(lmax + 1):\n",
    "        for j in [l - 1, l, l + 1]:\n",
    "            if l == 0 and j != 1:\n",
    "                continue\n",
    "            yield j, l\n",
    "\n",
    "\n",
    "def create_zeros_coeffs_dict(lmax: int) -> CoeffsDict:\n",
    "    \"\"\"Creates a dictionary of all-zeros coefficients for each VSH.\"\"\"\n",
    "    return {\n",
    "        (j, l): e3nn.zeros(e3nn.Irrep(j, (-1) ** (l + 1)))\n",
    "        for j, l in vsh_iterator(lmax)\n",
    "    }\n",
    "\n",
    "\n",
    "def create_random_coeffs_dict(lmax: int, key: jax.random.PRNGKey) -> CoeffsDict:\n",
    "    \"\"\"Creates a dictionary of random coefficients for each VSH.\"\"\"\n",
    "    coeffs_dict = create_zeros_coeffs_dict(lmax)\n",
    "    for j, l in coeffs_dict.keys():\n",
    "        coeffs_dict[(j, l)] = e3nn.normal(coeffs_dict[(j, l)].irreps, key)\n",
    "        key, _ = jax.random.split(key)\n",
    "    return coeffs_dict\n",
    "\n",
    "\n",
    "def check_coeffs_dict(coeffs_dict: CoeffsDict):\n",
    "    \"\"\"Checks that the coefficients dictionary is well-formed.\"\"\"\n",
    "    for (j, l), v in coeffs_dict.items():\n",
    "        assert (\n",
    "            v.irreps.num_irreps == 1\n",
    "        ), f\"Invalid count {v.irreps.count} for VSH {j, l}.\"\n",
    "        mul, ir = v.irreps[0]\n",
    "        assert l - 1 <= j <= l + 1, f\"Invalid j={j} for VSH {j, l}.\"\n",
    "        assert mul == 1, f\"Invalid multiplicity {mul} for VSH {j, l}.\"\n",
    "        assert ir.l == j, f\"Invalid l={ir.l} for VSH {j, l}.\"\n",
    "        assert ir.p == (-1) ** (l + 1), f\"Invalid p={ir.p} for VSH {j, l}.\"\n",
    "\n",
    "\n",
    "def get_lmax(coeffs_dict: CoeffsDict) -> int:\n",
    "    \"\"\"Returns the maximum l in a dictionary of coefficients.\"\"\"\n",
    "    return max(l for _, l in coeffs_dict.keys())\n",
    "\n",
    "\n",
    "def get_vsh_irreps(lmax: int) -> e3nn.Irreps:\n",
    "    \"\"\"Returns the irreps for the VSH upto some lmax.\"\"\"\n",
    "    return e3nn.Irreps([e3nn.Irrep(j, (-1) ** (l + 1)) for j, l in vsh_iterator(lmax)])\n",
    "\n",
    "\n",
    "# Conversion to standard IrrepsArrays. We assume some ordering.\n",
    "def coeffs_dict_to_irreps_array(coeffs_dict: CoeffsDict):\n",
    "    \"\"\"Converts a dictionary of VSH coefficients to an IrrepsArray.\"\"\"\n",
    "    return e3nn.concatenate([v for v in coeffs_dict.values()])\n",
    "\n",
    "\n",
    "def irreps_array_to_coeffs_dict(irreps_array: e3nn.IrrepsArray) -> CoeffsDict:\n",
    "    \"\"\"Converts an IrrepsArray to a dictionary of VSH coefficients.\"\"\"\n",
    "    jmax = irreps_array.irreps.lmax\n",
    "    assert irreps_array.irreps == get_vsh_irreps(\n",
    "        jmax - 1\n",
    "    ), f\"Invalid irreps {irreps_array.irreps} for VSH.\"\n",
    "\n",
    "    coeffs_dict = create_zeros_coeffs_dict(jmax - 1)\n",
    "    for (j, l), (ir_mul, ir), chunk in zip(\n",
    "        coeffs_dict.keys(), irreps_array.irreps, irreps_array.chunks\n",
    "    ):\n",
    "        if ir_mul != 1:\n",
    "            raise ValueError(f\"Invalid multiplicity {ir_mul} for VSH. Expected 1.\")\n",
    "        if ir.l != j:\n",
    "            raise ValueError(f\"Invalid irrep {ir} for VSH. Expected {j}.\")\n",
    "        if ir.p != (-1) ** (l + 1):\n",
    "            raise ValueError(\n",
    "                f\"Invalid parity {ir.p} for VSH. Expected {(-1) ** (l + 1)}.\"\n",
    "            )\n",
    "\n",
    "        coeffs_dict[(j, l)] = e3nn.IrrepsArray(ir, chunk)\n",
    "    return coeffs_dict"
   ]
  },
  {
   "cell_type": "code",
   "execution_count": null,
   "metadata": {},
   "outputs": [],
   "source": [
    "x = e3nn.Irreps(\"2x0e + 2x1o + 2x2e\")\n",
    "x.num_irreps"
   ]
  },
  {
   "cell_type": "code",
   "execution_count": null,
   "metadata": {},
   "outputs": [],
   "source": [
    "get_vsh_irreps(3)"
   ]
  },
  {
   "cell_type": "markdown",
   "metadata": {},
   "source": [
    "This creates the Y(j, l, mj) by reducing the 1 x l representation into a (l - 1), l and (l + 1) representation."
   ]
  },
  {
   "cell_type": "code",
   "execution_count": null,
   "metadata": {},
   "outputs": [],
   "source": [
    "def get_change_of_basis_matrices(lmax: int) -> jnp.ndarray:\n",
    "    \"\"\"Returns the change of basis for each (j, l) pair.\"\"\"\n",
    "    rtps = {}\n",
    "    for j, l in vsh_iterator(lmax):\n",
    "        rtp = e3nn.reduced_tensor_product_basis(\n",
    "            \"ij\",\n",
    "            i=\"1o\",\n",
    "            j=e3nn.Irrep(l, (-1) ** (l)),\n",
    "            keep_ir=e3nn.Irrep(j, (-1) ** (l + 1)),\n",
    "        )\n",
    "        rtps[(j, l)] = rtp\n",
    "    return rtps"
   ]
  },
  {
   "cell_type": "code",
   "execution_count": null,
   "metadata": {},
   "outputs": [],
   "source": [
    "get_change_of_basis_matrices(lmax=2)"
   ]
  },
  {
   "cell_type": "code",
   "execution_count": null,
   "metadata": {},
   "outputs": [],
   "source": [
    "def to_vector_coeffs(coeffs_dict: CoeffsDict) -> e3nn.IrrepsArray:\n",
    "    \"\"\"Converts a dictionary of VSH coefficients to a 3D IrrepsArray.\"\"\"\n",
    "    check_coeffs_dict(coeffs_dict)\n",
    "\n",
    "    rtps = get_change_of_basis_matrices(lmax=get_lmax(coeffs_dict))\n",
    "    all_vector_coeffs = []\n",
    "    for j, l in coeffs_dict.keys():\n",
    "        rtp = rtps[(j, l)]\n",
    "        if rtp.array.shape[-1] != coeffs_dict[(j, l)].array.shape[0]:\n",
    "            raise ValueError(\n",
    "                f\"Invalid shape {coeffs_dict[(j, l)].shape} for coefficients with j={j}, l={l}.\"\n",
    "            )\n",
    "\n",
    "        vector_coeffs = jnp.einsum(\"ijk,k->ij\", rtp.array, coeffs_dict[(j, l)].array)\n",
    "        vector_coeffs = e3nn.IrrepsArray(e3nn.s2_irreps(l)[-1], vector_coeffs)\n",
    "        all_vector_coeffs.append(vector_coeffs)\n",
    "    return e3nn.concatenate(all_vector_coeffs)\n",
    "\n",
    "\n",
    "def to_vector_signal(\n",
    "    coeffs_dict: CoeffsDict, res_beta: int = 90, res_alpha: int = 89, quadrature=\"soft\"\n",
    ") -> e3nn.SphericalSignal:\n",
    "    \"\"\"Converts a dictionary of VSH coefficients to a vector spherical signal.\"\"\"\n",
    "    vector_coeffs = to_vector_coeffs(coeffs_dict)\n",
    "    vector_coeffs = e3nn.sum(vector_coeffs.regroup(), axis=-1)\n",
    "    vector_sig = e3nn.to_s2grid(\n",
    "        vector_coeffs,\n",
    "        res_beta=res_beta,\n",
    "        res_alpha=res_alpha,\n",
    "        quadrature=quadrature,\n",
    "        p_val=1,\n",
    "        p_arg=-1,\n",
    "    )\n",
    "    return vector_sig\n",
    "\n",
    "\n",
    "def vector_spherical_harmonics(j: int, l: int, mj: int) -> e3nn.SphericalSignal:\n",
    "    \"\"\"Returns a vector spherical harmonic for a given (j, l, mj).\"\"\"\n",
    "    if j not in [l - 1, l, l + 1]:\n",
    "        raise ValueError(f\"Invalid j={j} for l={l}.\")\n",
    "\n",
    "    if mj not in range(-j, j + 1):\n",
    "        raise ValueError(f\"Invalid mj={mj} for j={j}.\")\n",
    "\n",
    "    coeffs = e3nn.IrrepsArray(\n",
    "        e3nn.Irrep(j, (-1) ** (l + 1)),\n",
    "        jnp.asarray([1.0 if i == mj else 0.0 for i in range(-j, j + 1)]),\n",
    "    )\n",
    "    coeffs_dict = {(j, l): coeffs}\n",
    "    return to_vector_signal(coeffs_dict)"
   ]
  },
  {
   "cell_type": "code",
   "execution_count": null,
   "metadata": {},
   "outputs": [],
   "source": [
    "coeffs_dict1 = {\n",
    "    (1, 1): e3nn.IrrepsArray(\"1e\", jnp.asarray([1.0, 0.0, 0.0])),\n",
    "}\n",
    "print(to_vector_coeffs(coeffs_dict1))\n",
    "\n",
    "coeffs_dict1 = create_random_coeffs_dict(lmax=3, key=jax.random.PRNGKey(0))\n",
    "print(to_vector_coeffs(coeffs_dict1))"
   ]
  },
  {
   "cell_type": "code",
   "execution_count": null,
   "metadata": {},
   "outputs": [],
   "source": [
    "def plot_vector_signal(\n",
    "    sig: e3nn.SphericalSignal, scale_vec: float = 0.1, title: str = None\n",
    "):\n",
    "    \"\"\"Plots a vector spherical signal.\"\"\"\n",
    "    grid = sig.grid_vectors.transpose((2, 0, 1)).reshape((3, -1))\n",
    "    values = sig.grid_values.reshape((3, -1))\n",
    "\n",
    "    fig = go.Figure()\n",
    "    fig.add_trace(\n",
    "        go.Cone(\n",
    "            x=grid[0, :],\n",
    "            y=grid[1, :],\n",
    "            z=grid[2, :],\n",
    "            u=scale_vec * values[0, :],\n",
    "            v=scale_vec * values[1, :],\n",
    "            w=scale_vec * values[2, :],\n",
    "            colorscale=\"Viridis\",\n",
    "            sizemode=\"absolute\",\n",
    "            sizeref=5,\n",
    "            showscale=True,\n",
    "            hoverinfo=\"skip\",\n",
    "        )\n",
    "    )\n",
    "    if title is not None:\n",
    "        fig.update_layout(title=title)\n",
    "    return fig"
   ]
  },
  {
   "cell_type": "code",
   "execution_count": null,
   "metadata": {},
   "outputs": [],
   "source": [
    "j, l, mj = 2, 1, 0\n",
    "plot_vector_signal(\n",
    "    vector_spherical_harmonics(j, l, mj), title=f\"VSH j={j}, l={l}, mj={mj}\"\n",
    ")"
   ]
  },
  {
   "cell_type": "markdown",
   "metadata": {},
   "source": [
    "## Reconstruction\n",
    "\n",
    "Check that we can emulate from_s2grid() and to_s2grid() with VSH."
   ]
  },
  {
   "cell_type": "code",
   "execution_count": null,
   "metadata": {},
   "outputs": [],
   "source": [
    "def wrap_fn_for_vector_signal(fn):\n",
    "    \"\"\"vmaps a fn over res_beta and res_alpha axes.\"\"\"\n",
    "    fn = jax.vmap(fn, in_axes=-1, out_axes=-1)\n",
    "    fn = jax.vmap(fn, in_axes=-1, out_axes=-1)\n",
    "    return fn\n",
    "\n",
    "\n",
    "def get_vsh_coeffs_at_mj(\n",
    "    sig: e3nn.SphericalSignal, j_out: int, l_out: int, mj_out: int\n",
    ") -> float:\n",
    "    \"\"\"Returns the component of Y_{j_out, l_out, mj_out} in the signal sig.\"\"\"\n",
    "    vsh_signal = vector_spherical_harmonics(j_out, l_out, mj_out)\n",
    "    dot_product = sig.replace_values(\n",
    "        wrap_fn_for_vector_signal(jnp.dot)(sig.grid_values, vsh_signal.grid_values)\n",
    "    )\n",
    "    return dot_product.integrate().array.item() / (4 * jnp.pi)\n",
    "\n",
    "\n",
    "def get_vsh_coeffs_at_j(\n",
    "    sig: e3nn.SphericalSignal,\n",
    "    j_out: int,\n",
    "    l_out: int,\n",
    ") -> e3nn.IrrepsArray:\n",
    "    \"\"\"Returns the components of Y_{j_out, l_out, mj_out} in the signal sig for all mj_out in [-j_out, ..., j_out].\"\"\"\n",
    "    computed_coeffs = jnp.asarray(\n",
    "        [\n",
    "            get_vsh_coeffs_at_mj(sig, j_out, l_out, mj_out)\n",
    "            for mj_out in range(-j_out, j_out + 1)\n",
    "        ]\n",
    "    )\n",
    "    computed_coeffs = e3nn.IrrepsArray(\n",
    "        e3nn.Irrep(j_out, (-1) ** (l_out + 1)), computed_coeffs\n",
    "    )\n",
    "    return computed_coeffs\n",
    "\n",
    "\n",
    "def get_vsh_coeffs(sig: e3nn.SphericalSignal, lmax: int) -> CoeffsDict:\n",
    "    \"\"\"Returns the components of Y_{j_out, l_out, mj_out} in the signal sig for all mj_out in [-j_out, ..., j_out] and j_out in [-l_out, ..., l_out] and l_out upto lmax.\"\"\"\n",
    "    if sig.shape[-3] != 3:\n",
    "        raise ValueError(f\"Invalid shape {sig.shape} for signal.\")\n",
    "\n",
    "    result = {}\n",
    "    for j_out, l_out in vsh_iterator(lmax):\n",
    "        result[j_out, l_out] = get_vsh_coeffs_at_j(sig, j_out, l_out)\n",
    "    return result\n",
    "\n",
    "\n",
    "def get_ssh_coeffs(sig: e3nn.SphericalSignal, lmax: int) -> e3nn.IrrepsArray:\n",
    "    \"\"\"Returns the components of the scalar spherical harmonics for each l and m in [-l, ..., l].\"\"\"\n",
    "    return e3nn.from_s2grid(sig, irreps=e3nn.s2_irreps(lmax))"
   ]
  },
  {
   "cell_type": "code",
   "execution_count": null,
   "metadata": {},
   "outputs": [],
   "source": [
    "# Reconstruction example\n",
    "lmax = 3\n",
    "coeffs_dict1 = create_random_coeffs_dict(lmax, key=jax.random.PRNGKey(0))\n",
    "sig1 = to_vector_signal(coeffs_dict1)\n",
    "reconstructed_coeffs_dict1 = get_vsh_coeffs(sig1, lmax)\n",
    "print(reconstructed_coeffs_dict1)\n",
    "print(coeffs_dict1)\n",
    "print(\n",
    "    jax.tree_map(\n",
    "        lambda x, y: jnp.isclose(x, y, atol=1e-5),\n",
    "        coeffs_dict1,\n",
    "        reconstructed_coeffs_dict1,\n",
    "    )\n",
    ")\n",
    "print(\n",
    "    all(\n",
    "        jax.tree_leaves(\n",
    "            jax.tree_map(\n",
    "                lambda x, y: jnp.allclose(x, y, atol=1e-5),\n",
    "                coeffs_dict1,\n",
    "                reconstructed_coeffs_dict1,\n",
    "            )\n",
    "        )\n",
    "    )\n",
    ")"
   ]
  },
  {
   "cell_type": "markdown",
   "metadata": {},
   "source": [
    "## Cross Product"
   ]
  },
  {
   "cell_type": "code",
   "execution_count": null,
   "metadata": {},
   "outputs": [],
   "source": [
    "# Cross product of vector fields\n",
    "def cross_gaunt_tensor_product(\n",
    "    coeffs_dict1: CoeffsDict, coeffs_dict2: CoeffsDict, output_lmax: int\n",
    ") -> e3nn.IrrepsArray:\n",
    "    sig1 = to_vector_signal(coeffs_dict1)\n",
    "    sig2 = to_vector_signal(coeffs_dict2)\n",
    "    cross_sig = sig1.replace_values(\n",
    "        wrap_fn_for_vector_signal(jnp.cross)(sig1.grid_values, sig2.grid_values)\n",
    "    )\n",
    "    return get_vsh_coeffs(cross_sig, lmax=output_lmax)"
   ]
  },
  {
   "cell_type": "code",
   "execution_count": null,
   "metadata": {},
   "outputs": [],
   "source": [
    "# Visualizing the cross product of two VSH\n",
    "coeffs_dict1 = {\n",
    "    (1, 2): e3nn.IrrepsArray(\"1o\", jnp.asarray([1.0, 1.0, 1.0])),\n",
    "}\n",
    "plot_vector_signal(to_vector_signal(coeffs_dict1), title=\"Signal 1\")"
   ]
  },
  {
   "cell_type": "code",
   "execution_count": null,
   "metadata": {},
   "outputs": [],
   "source": [
    "coeffs_dict2 = {\n",
    "    (1, 1): e3nn.IrrepsArray(\"1e\", jnp.asarray([0.0, 1.0, 0.0])),\n",
    "}\n",
    "plot_vector_signal(to_vector_signal(coeffs_dict2), title=\"Signal 2\")"
   ]
  },
  {
   "cell_type": "code",
   "execution_count": null,
   "metadata": {},
   "outputs": [],
   "source": [
    "cross_product_dict = cross_gaunt_tensor_product(\n",
    "    coeffs_dict1, coeffs_dict2, output_lmax=2\n",
    ")\n",
    "plot_vector_signal(to_vector_signal(cross_product_dict), title=\"Cross Product\")"
   ]
  },
  {
   "cell_type": "code",
   "execution_count": null,
   "metadata": {},
   "outputs": [],
   "source": [
    "cross_product_dict"
   ]
  },
  {
   "cell_type": "code",
   "execution_count": null,
   "metadata": {},
   "outputs": [],
   "source": [
    "flipped_cross_product = cross_gaunt_tensor_product(\n",
    "    coeffs_dict2, coeffs_dict1, output_lmax=2\n",
    ")\n",
    "plot_vector_signal(\n",
    "    to_vector_signal(flipped_cross_product), title=\"Flipped Cross Product\"\n",
    ")"
   ]
  },
  {
   "cell_type": "code",
   "execution_count": null,
   "metadata": {},
   "outputs": [],
   "source": [
    "coeffs_dict1 = {\n",
    "    (1, 2): e3nn.IrrepsArray(\"1o\", jnp.asarray([1.0, 0.0, 1.0])),\n",
    "}\n",
    "coeffs_dict2 = {\n",
    "    (1, 1): e3nn.IrrepsArray(\"1e\", jnp.asarray([1.0, 1.0, 1.0])),\n",
    "}\n",
    "\n",
    "(\n",
    "    cross_gaunt_tensor_product(coeffs_dict1, coeffs_dict2, output_lmax=3),\n",
    "    cross_gaunt_tensor_product(coeffs_dict2, coeffs_dict1, output_lmax=3),\n",
    ")"
   ]
  },
  {
   "cell_type": "markdown",
   "metadata": {},
   "source": [
    "## Check YuQing's selection rules\n",
    "\n",
    "YuQing:\n",
    "1. |l_i - 1|   <=  j_i  <= l_i + 1 for all i (usual selection rule for l_i times 1)\n",
    "2. |l_1 - l_2| <=  l_3  <= l_1 + l_2 (usual selection rule for l_1 times l_2)\n",
    "3. |j_1 - j_2| <=  j_3  <= j_1 + j_2 (usual selection rule for j_1 times j_2)\n",
    "4. j_1 + j_2 + j_3 is even\n",
    "5. There is no choice of a, b, c where l_a = j_a and (l_b, j_b) = (l_c, j_c)\n",
    "\n",
    "First one is guaranteed by our construction."
   ]
  },
  {
   "cell_type": "code",
   "execution_count": null,
   "metadata": {},
   "outputs": [],
   "source": [
    "coeffs_dict1 = {\n",
    "    (3, 4): e3nn.IrrepsArray(\"3o\", jnp.asarray([1.0, 0.0, 1.0, 1.0, 1.0, 0.0, 1.0])),\n",
    "}\n",
    "coeffs_dict2 = {\n",
    "    (1, 1): e3nn.IrrepsArray(\"1e\", jnp.asarray([1.0, 1.0, 1.0])),\n",
    "}\n",
    "\n",
    "cross_product_dict = cross_gaunt_tensor_product(\n",
    "    coeffs_dict1, coeffs_dict2, output_lmax=4\n",
    ")\n",
    "cross_product_dict"
   ]
  },
  {
   "cell_type": "code",
   "execution_count": null,
   "metadata": {},
   "outputs": [],
   "source": [
    "for (j3, l3), coeffs in cross_product_dict.items():\n",
    "    if jnp.allclose(cross_product_dict[(j3, l3)].array, 0, atol=1e-3):\n",
    "        continue\n",
    "\n",
    "    print(f\"Checking (j3, l3) = ({j3}, {l3})\")\n",
    "    for j2, l2 in coeffs_dict2.keys():\n",
    "        for j1, l1 in coeffs_dict1.keys():\n",
    "            # Check first conditions\n",
    "            assert l1 - 1 <= j1 <= l1 + 1\n",
    "            assert l2 - 1 <= j2 <= l2 + 1\n",
    "            assert l3 - 1 <= j3 <= l3 + 1\n",
    "\n",
    "            # Check second condition\n",
    "            assert abs(l1 - l2) <= l3 <= l1 + l2, (l1, l2, l3)\n",
    "\n",
    "            # Check third condition\n",
    "            assert abs(j1 - j2) <= j3 <= j1 + j2, (j1, j2, j3)\n",
    "\n",
    "            # Check fourth condition\n",
    "            assert (l1 + l2 + l3) % 2 == 0, (l1, l2, l3)\n",
    "\n",
    "            # Check fifth condition\n",
    "            ls = [l1, l2, l3]\n",
    "            js = [j1, j2, j3]\n",
    "            for a, b, c in itertools.permutations(range(3)):\n",
    "                assert not ((ls[a], ls[b], js[b]) == (js[a], ls[c], js[c]))"
   ]
  },
  {
   "cell_type": "markdown",
   "metadata": {},
   "source": [
    "# Dot Product"
   ]
  },
  {
   "cell_type": "code",
   "execution_count": null,
   "metadata": {},
   "outputs": [],
   "source": [
    "# Dot product of vector fields\n",
    "def dot_gaunt_tensor_product(\n",
    "    coeffs_dict1: CoeffsDict, coeffs_dict2: CoeffsDict, output_lmax: int\n",
    ") -> e3nn.IrrepsArray:\n",
    "    sig1 = to_vector_signal(coeffs_dict1)\n",
    "    sig2 = to_vector_signal(coeffs_dict2)\n",
    "    dot_sig = sig1.replace_values(\n",
    "        wrap_fn_for_vector_signal(jnp.dot)(sig1.grid_values, sig2.grid_values)\n",
    "    )\n",
    "    return get_ssh_coeffs(dot_sig, lmax=output_lmax)"
   ]
  },
  {
   "cell_type": "code",
   "execution_count": null,
   "metadata": {},
   "outputs": [],
   "source": [
    "coeffs_dict1 = {\n",
    "    (1, 2): e3nn.IrrepsArray(\"1o\", jnp.asarray([1.0, 0.0, 1.0])),\n",
    "}\n",
    "coeffs_dict2 = {\n",
    "    (1, 1): e3nn.IrrepsArray(\"1e\", jnp.asarray([1.0, 1.0, 1.0])),\n",
    "}\n",
    "\n",
    "(\n",
    "    dot_gaunt_tensor_product(coeffs_dict1, coeffs_dict2, output_lmax=4),\n",
    "    dot_gaunt_tensor_product(coeffs_dict2, coeffs_dict1, output_lmax=4),\n",
    ")"
   ]
  }
 ],
 "metadata": {
  "kernelspec": {
   "display_name": ".venv",
   "language": "python",
   "name": "python3"
  },
  "language_info": {
   "codemirror_mode": {
    "name": "ipython",
    "version": 3
   },
   "file_extension": ".py",
   "mimetype": "text/x-python",
   "name": "python",
   "nbconvert_exporter": "python",
   "pygments_lexer": "ipython3",
   "version": "3.11.4"
  }
 },
 "nbformat": 4,
 "nbformat_minor": 2
}
