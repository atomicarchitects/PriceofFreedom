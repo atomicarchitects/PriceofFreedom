{
 "cells": [
  {
   "cell_type": "code",
   "execution_count": 249,
   "metadata": {},
   "outputs": [],
   "source": [
    "import e3nn_jax as e3nn\n",
    "import jax\n",
    "import jax.numpy as jnp"
   ]
  },
  {
   "cell_type": "markdown",
   "metadata": {},
   "source": [
    "## Tensor Product in $O(L^2)$ time!\n",
    "\n",
    "Fix $l_1, l_2, l_3$ in $l_1 \\times l_2 \\rightarrow l_3$.\n",
    "Naively,\n",
    "- Loop over $m_1$: $O(l_1)$ iterations\n",
    "- Loop over $m_2$: $O(l_2)$ iterations\n",
    "- Loop over $m_3$: $O(l_3)$ iterations\n",
    "- Compute output of TP at $m_1$, $m_2$, $m_3$.\n",
    "But this is $O(L^3)$.\n",
    "\n",
    "However, the selection rules for $m_3$ are:\n",
    "$$\n",
    "m_3 = \\pm m_1 \\pm m_2\n",
    "$$\n",
    "So, instead:\n",
    "- Loop over $m_1$: $O(l_1)$ iterations\n",
    "- Loop over $m_3$: $O(l_3)$ iterations\n",
    "- Loop over $m_2$: $O(4)$ iterations.\n",
    "- Compute output of TP at $m_1$, $m_2$, $m_3$. \n",
    "This is $O(L^2)$."
   ]
  },
  {
   "cell_type": "code",
   "execution_count": 250,
   "metadata": {},
   "outputs": [],
   "source": [
    "x1 = e3nn.normal(\"2x2o\", jax.random.PRNGKey(0))\n",
    "x2 = e3nn.normal(\"3x2o\", jax.random.PRNGKey(1))\n",
    "filter_ir_out = None"
   ]
  },
  {
   "cell_type": "code",
   "execution_count": 251,
   "metadata": {},
   "outputs": [],
   "source": [
    "def _prepare_inputs(input1, input2):\n",
    "    input1 = e3nn.as_irreps_array(input1)\n",
    "    input2 = e3nn.as_irreps_array(input2)\n",
    "\n",
    "    leading_shape = jnp.broadcast_shapes(input1.shape[:-1], input2.shape[:-1])\n",
    "    input1 = input1.broadcast_to(leading_shape + (-1,))\n",
    "    input2 = input2.broadcast_to(leading_shape + (-1,))\n",
    "    return input1, input2, leading_shape\n",
    "\n",
    "\n",
    "def _validate_filter_ir_out(filter_ir_out):\n",
    "    if filter_ir_out is not None:\n",
    "        if isinstance(filter_ir_out, str):\n",
    "            filter_ir_out = e3nn.Irreps(filter_ir_out)\n",
    "        if isinstance(filter_ir_out, e3nn.Irrep):\n",
    "            filter_ir_out = [filter_ir_out]\n",
    "        filter_ir_out = [e3nn.Irrep(ir) for ir in filter_ir_out]\n",
    "    return filter_ir_out"
   ]
  },
  {
   "cell_type": "markdown",
   "metadata": {},
   "source": [
    "## Original TP"
   ]
  },
  {
   "cell_type": "code",
   "execution_count": 252,
   "metadata": {},
   "outputs": [],
   "source": [
    "def tensor_product(\n",
    "    input1: e3nn.IrrepsArray,\n",
    "    input2: e3nn.IrrepsArray,\n",
    "    *,\n",
    "    filter_ir_out=None,\n",
    ") -> e3nn.IrrepsArray:\n",
    "    input1, input2, leading_shape = _prepare_inputs(input1, input2)\n",
    "    filter_ir_out = _validate_filter_ir_out(filter_ir_out)\n",
    "\n",
    "    irreps_out = []\n",
    "    chunks = []\n",
    "    for (mul_1, ir_1), x1 in zip(input1.irreps, input1.chunks):\n",
    "        for (mul_2, ir_2), x2 in zip(input2.irreps, input2.chunks):\n",
    "            for ir_out in ir_1 * ir_2:\n",
    "                if filter_ir_out is not None and ir_out not in filter_ir_out:\n",
    "                    continue\n",
    "\n",
    "                irreps_out.append((mul_1 * mul_2, ir_out))\n",
    "\n",
    "                if x1 is not None and x2 is not None:\n",
    "                    cg = e3nn.clebsch_gordan(ir_1.l, ir_2.l, ir_out.l)\n",
    "                    cg = cg.astype(x1.dtype)\n",
    "                    chunk = jnp.einsum(\"...ui , ...vj , ijk -> ...uvk\", x1, x2, cg)\n",
    "                    chunk = jnp.reshape(\n",
    "                        chunk, chunk.shape[:-3] + (mul_1 * mul_2, ir_out.dim)\n",
    "                    )\n",
    "                else:\n",
    "                    chunk = None\n",
    "\n",
    "                chunks.append(chunk)\n",
    "\n",
    "    output = e3nn.from_chunks(irreps_out, chunks, leading_shape, input1.dtype)\n",
    "    output = output.sort()\n",
    "    return output"
   ]
  },
  {
   "cell_type": "code",
   "execution_count": 253,
   "metadata": {},
   "outputs": [
    {
     "data": {
      "text/plain": [
       "6x0e+6x1e+6x2e+6x3e+6x4e\n",
       "[-0.30594468  0.65587217  0.8156828   0.43714806 -0.04631896 -0.8187588\n",
       "  0.07375173  0.13654615 -0.26689768 -0.1876133   0.10305031 -0.3133805\n",
       "  0.33506107 -0.03605647 -0.21220711 -0.37972197 -0.19940192 -0.18087739\n",
       "  0.40132776 -0.49416944  0.3329233  -0.05897088 -0.5503977   0.20598856\n",
       "  0.32779682 -0.10878956 -0.18368451  0.1075291   0.03287186  0.06962056\n",
       "  0.06809835 -0.06248124  0.5807315   0.11280058  0.11679052  0.26604736\n",
       " -0.26138645  0.5083903   0.19740054 -0.324839    0.18261841  0.19158448\n",
       "  0.04468798 -0.29023015 -0.12107493  0.18791169  0.35540935 -0.3038459\n",
       " -0.49011904 -0.05223124 -0.24283403  0.20550597 -0.26107872 -0.75380576\n",
       "  0.24322642  0.08006992  0.04031758  0.28545618  0.1339949  -0.04789218\n",
       "  0.12223046  0.2194841  -0.04944647 -0.0719676   0.41960192  0.01269295\n",
       "  0.0945653   0.273924    0.3423461   0.18685225  0.00434232  0.33810347\n",
       "  0.15372635 -0.08647925  0.21101776 -0.09164129  0.01596775  0.02483024\n",
       " -0.19484337 -0.40859804 -0.02656908 -0.25947893 -0.04322676  0.39392695\n",
       "  0.32845354 -0.44923848 -0.3680899   0.01352276 -0.29689178 -0.25369984\n",
       "  0.29947156  0.17567746 -0.29348645 -0.58826697 -0.11864775 -0.30360162\n",
       "  0.05258531  0.07270716  0.2242612   0.14274794  0.12689477 -0.14415392\n",
       " -0.00864874 -0.07750881  0.05156089  0.15010181  0.15459178  0.21126477\n",
       " -0.01694825 -0.01336754  0.0795805   0.36029157  0.18985422  0.1392491\n",
       "  0.27726948  0.11884354  0.06336114  0.00608772 -0.07299337 -0.20537437\n",
       "  0.23979768  0.352247    0.2010034   0.01257942 -0.12043087 -0.29382136\n",
       "  0.12184382 -0.3227405  -0.0119059  -0.04170558 -0.06212676 -0.0739722\n",
       "  0.02927282  0.02845128 -0.00845464  0.35936335  0.09787636  0.09664106\n",
       " -0.31609994 -0.36747015 -0.20654094  0.00703043  0.13261287  0.05205762\n",
       "  0.13277303 -0.10146768  0.37044144 -0.01108164 -0.5081643  -0.34884685]"
      ]
     },
     "execution_count": 253,
     "metadata": {},
     "output_type": "execute_result"
    }
   ],
   "source": [
    "jax.jit(tensor_product)(x1, x2, filter_ir_out=filter_ir_out)"
   ]
  },
  {
   "cell_type": "markdown",
   "metadata": {},
   "source": [
    "# Optimized TP"
   ]
  },
  {
   "cell_type": "code",
   "execution_count": 254,
   "metadata": {},
   "outputs": [],
   "source": [
    "def tensor_product_optimized(\n",
    "    input1: e3nn.IrrepsArray,\n",
    "    input2: e3nn.IrrepsArray,\n",
    "    *,\n",
    "    filter_ir_out=None,\n",
    ") -> e3nn.IrrepsArray:\n",
    "    input1, input2, leading_shape = _prepare_inputs(input1, input2)\n",
    "    filter_ir_out = _validate_filter_ir_out(filter_ir_out)\n",
    "\n",
    "    irreps_out = []\n",
    "    chunks = []\n",
    "    for (mul_1, ir_1), x1 in zip(input1.irreps, input1.chunks):\n",
    "        for (mul_2, ir_2), x2 in zip(input2.irreps, input2.chunks):\n",
    "            if x1 is None or x2 is None:\n",
    "                continue\n",
    "\n",
    "            x1_t = jnp.moveaxis(x1, -1, 0)\n",
    "            x2_t = jnp.moveaxis(x2, -1, 0)\n",
    "\n",
    "            for ir_out in ir_1 * ir_2:\n",
    "                if filter_ir_out is not None and ir_out not in filter_ir_out:\n",
    "                    continue\n",
    "\n",
    "                irreps_out.append((mul_1 * mul_2, ir_out))\n",
    "\n",
    "                l1, l2, l3 = ir_1.l, ir_2.l, ir_out.l\n",
    "                cg = e3nn.clebsch_gordan(l1, l2, l3)\n",
    "                chunk = jnp.zeros((2 * l3 + 1, x1.shape[-2], x2.shape[-2]))\n",
    "                for m3 in range(-l3, l3 + 1):\n",
    "                    sum = 0\n",
    "                    for m1 in range(-l1, l1 + 1):\n",
    "                        for m2 in set([m3 - m1, m3 + m1, -m3 + m1, -m3 - m1]):\n",
    "                            if m2 < -l2 or m2 > l2:\n",
    "                                continue\n",
    "\n",
    "                            path = jnp.einsum(\n",
    "                                \"u...,v... -> uv...\",\n",
    "                                x1_t[l1 + m1, ...],\n",
    "                                x2_t[l2 + m2, ...],\n",
    "                            )\n",
    "                            path *= cg[l1 + m1][l2 + m2][l3 + m3]\n",
    "                            sum += path\n",
    "                    chunk = chunk.at[l3 + m3].set(sum)\n",
    "\n",
    "                chunk = jnp.moveaxis(chunk, 0, -1)\n",
    "                chunk = jnp.reshape(\n",
    "                    chunk, chunk.shape[:-3] + (mul_1 * mul_2, ir_out.dim)\n",
    "                )\n",
    "                chunks.append(chunk)\n",
    "\n",
    "    output = e3nn.from_chunks(irreps_out, chunks, leading_shape, input1.dtype)\n",
    "    output = output.sort()\n",
    "    return output"
   ]
  },
  {
   "cell_type": "code",
   "execution_count": 255,
   "metadata": {},
   "outputs": [
    {
     "data": {
      "text/plain": [
       "6x0e+6x1e+6x2e+6x3e+6x4e\n",
       "[-0.30594468  0.65587217  0.8156828   0.43714795 -0.04631888 -0.8187588\n",
       "  0.07375173  0.13654613 -0.2668977  -0.1876133   0.10305033 -0.3133805\n",
       "  0.33506107 -0.03605647 -0.2122071  -0.37972197 -0.19940192 -0.18087742\n",
       "  0.40132776 -0.49416947  0.3329233  -0.05897085 -0.5503977   0.20598854\n",
       "  0.32779682 -0.10878956 -0.18368451  0.10752911  0.03287186  0.06962059\n",
       "  0.06809834 -0.06248123  0.58073145  0.11280058  0.11679052  0.26604736\n",
       " -0.26138645  0.50839025  0.19740053 -0.32483903  0.18261841  0.1915845\n",
       "  0.04468796 -0.29023015 -0.12107492  0.18791166  0.35540938 -0.30384594\n",
       " -0.49011907 -0.05223123 -0.24283405  0.20550597 -0.26107872 -0.7538057\n",
       "  0.24322641  0.08006992  0.04031758  0.28545618  0.1339949  -0.04789218\n",
       "  0.12223046  0.2194841  -0.04944647 -0.07196759  0.41960192  0.01269295\n",
       "  0.09456529  0.273924    0.34234613  0.18685226  0.00434231  0.3381035\n",
       "  0.15372634 -0.08647925  0.21101774 -0.09164129  0.01596775  0.02483024\n",
       " -0.19484337 -0.40859804 -0.02656908 -0.25947893 -0.04322677  0.39392698\n",
       "  0.32845354 -0.44923848 -0.36808994  0.01352276 -0.29689178 -0.25369987\n",
       "  0.29947153  0.17567746 -0.29348642 -0.58826697 -0.11864775 -0.3036016\n",
       "  0.05258531  0.07270716  0.22426116  0.14274794  0.12689476 -0.14415392\n",
       " -0.00864874 -0.0775088   0.05156089  0.15010183  0.15459178  0.21126476\n",
       " -0.01694825 -0.01336754  0.07958051  0.36029154  0.18985422  0.1392491\n",
       "  0.27726948  0.11884356  0.06336112  0.00608772 -0.07299336 -0.20537437\n",
       "  0.23979767  0.352247    0.2010034   0.01257942 -0.12043087 -0.29382136\n",
       "  0.12184383 -0.3227405  -0.01190589 -0.04170557 -0.06212676 -0.0739722\n",
       "  0.02927282  0.0284513  -0.00845465  0.35936335  0.09787634  0.09664105\n",
       " -0.31609994 -0.36747018 -0.20654094  0.00703043  0.13261287  0.05205763\n",
       "  0.13277301 -0.10146768  0.3704414  -0.01108163 -0.5081642  -0.34884685]"
      ]
     },
     "execution_count": 255,
     "metadata": {},
     "output_type": "execute_result"
    }
   ],
   "source": [
    "jax.jit(tensor_product_optimized)(x1, x2, filter_ir_out=filter_ir_out)"
   ]
  },
  {
   "cell_type": "code",
   "execution_count": 256,
   "metadata": {},
   "outputs": [
    {
     "data": {
      "text/plain": [
       "Array([ 0.0000000e+00,  0.0000000e+00,  5.9604645e-08,  8.9406967e-08,\n",
       "       -7.4505806e-08,  0.0000000e+00, -7.4505806e-09,  1.4901161e-08,\n",
       "        0.0000000e+00,  1.4901161e-08, -1.4901161e-08,  0.0000000e+00,\n",
       "        0.0000000e+00,  0.0000000e+00, -2.9802322e-08,  0.0000000e+00,\n",
       "        0.0000000e+00,  2.9802322e-08,  2.9802322e-08,  2.9802322e-08,\n",
       "        0.0000000e+00,  1.4901161e-08, -5.9604645e-08,  4.4703484e-08,\n",
       "        0.0000000e+00,  0.0000000e+00,  0.0000000e+00,  0.0000000e+00,\n",
       "        3.7252903e-09, -1.4901161e-08,  0.0000000e+00, -1.1175871e-08,\n",
       "        5.9604645e-08, -7.4505806e-09,  0.0000000e+00,  0.0000000e+00,\n",
       "       -2.9802322e-08,  0.0000000e+00,  1.4901161e-08,  2.9802322e-08,\n",
       "        0.0000000e+00,  1.4901161e-08,  1.1175871e-08,  0.0000000e+00,\n",
       "       -1.4901161e-08,  4.4703484e-08, -2.9802322e-08,  2.9802322e-08,\n",
       "        0.0000000e+00, -1.4901161e-08,  1.4901161e-08,  0.0000000e+00,\n",
       "        0.0000000e+00, -5.9604645e-08,  0.0000000e+00,  0.0000000e+00,\n",
       "       -3.7252903e-09,  0.0000000e+00,  1.4901161e-08,  0.0000000e+00,\n",
       "       -7.4505806e-09,  2.9802322e-08,  3.7252903e-09, -1.4901161e-08,\n",
       "        0.0000000e+00,  1.3038516e-08,  7.4505806e-09,  0.0000000e+00,\n",
       "        0.0000000e+00, -1.4901161e-08,  0.0000000e+00, -2.9802322e-08,\n",
       "        1.4901161e-08,  0.0000000e+00,  0.0000000e+00,  0.0000000e+00,\n",
       "       -1.8626451e-09, -7.4505806e-09,  0.0000000e+00,  0.0000000e+00,\n",
       "        0.0000000e+00,  0.0000000e+00,  0.0000000e+00, -2.9802322e-08,\n",
       "        0.0000000e+00,  2.9802322e-08,  0.0000000e+00,  2.7939677e-09,\n",
       "        2.9802322e-08,  5.9604645e-08,  2.9802322e-08,  0.0000000e+00,\n",
       "       -2.9802322e-08,  0.0000000e+00,  0.0000000e+00, -2.9802322e-08,\n",
       "       -3.7252903e-09,  0.0000000e+00,  2.9802322e-08,  0.0000000e+00,\n",
       "        0.0000000e+00,  0.0000000e+00,  9.3132257e-10,  0.0000000e+00,\n",
       "        3.7252903e-09,  0.0000000e+00,  0.0000000e+00,  2.9802322e-08,\n",
       "       -5.5879354e-09, -1.8626451e-09, -7.4505806e-09,  2.9802322e-08,\n",
       "        1.4901161e-08,  0.0000000e+00,  0.0000000e+00, -7.4505806e-09,\n",
       "        1.4901161e-08, -1.8626451e-09, -1.4901161e-08,  0.0000000e+00,\n",
       "        1.4901161e-08,  0.0000000e+00,  0.0000000e+00,  9.3132257e-10,\n",
       "       -7.4505806e-09,  0.0000000e+00, -7.4505806e-09,  0.0000000e+00,\n",
       "       -8.3819032e-09, -3.7252903e-09,  7.4505806e-09,  0.0000000e+00,\n",
       "        1.8626451e-09, -2.4214387e-08,  1.4901161e-08, -2.9802322e-08,\n",
       "        0.0000000e+00,  0.0000000e+00,  0.0000000e+00,  2.9802322e-08,\n",
       "        0.0000000e+00,  7.4505806e-09,  0.0000000e+00,  7.4505806e-09,\n",
       "       -1.4901161e-08, -1.4901161e-08,  2.9802322e-08,  0.0000000e+00,\n",
       "       -5.9604645e-08,  0.0000000e+00], dtype=float32)"
      ]
     },
     "execution_count": 256,
     "metadata": {},
     "output_type": "execute_result"
    }
   ],
   "source": [
    "assert jnp.allclose(\n",
    "    tensor_product(x1, x2, filter_ir_out=filter_ir_out).array,\n",
    "    tensor_product_optimized(x1, x2, filter_ir_out=filter_ir_out).array,\n",
    ")\n",
    "\n",
    "(\n",
    "    tensor_product(x1, x2, filter_ir_out=filter_ir_out).array\n",
    "    - tensor_product_optimized(x1, x2, filter_ir_out=filter_ir_out).array\n",
    ")"
   ]
  }
 ],
 "metadata": {
  "kernelspec": {
   "display_name": ".venv",
   "language": "python",
   "name": "python3"
  },
  "language_info": {
   "codemirror_mode": {
    "name": "ipython",
    "version": 3
   },
   "file_extension": ".py",
   "mimetype": "text/x-python",
   "name": "python",
   "nbconvert_exporter": "python",
   "pygments_lexer": "ipython3",
   "version": "3.11.4"
  }
 },
 "nbformat": 4,
 "nbformat_minor": 2
}
