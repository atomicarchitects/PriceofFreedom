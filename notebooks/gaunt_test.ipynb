{
 "cells": [
  {
   "cell_type": "code",
   "execution_count": 16,
   "metadata": {},
   "outputs": [
    {
     "name": "stdout",
     "output_type": "stream",
     "text": [
      "The autoreload extension is already loaded. To reload it, use:\n",
      "  %reload_ext autoreload\n"
     ]
    }
   ],
   "source": [
    "%load_ext autoreload\n",
    "%autoreload 2"
   ]
  },
  {
   "cell_type": "code",
   "execution_count": 17,
   "metadata": {},
   "outputs": [],
   "source": [
    "import e3nn_jax as e3nn\n",
    "import jax\n",
    "jax.config.update(\"jax_enable_x64\", True)\n",
    "import jax.numpy as jnp\n",
    "\n",
    "import sys\n",
    "sys.path.append('.')\n",
    "\n",
    "from freedom.tensor_products import functional\n",
    "from freedom.tensor_products import gaunt_tensor_product_utils as gtp_utils"
   ]
  },
  {
   "cell_type": "code",
   "execution_count": 18,
   "metadata": {},
   "outputs": [
    {
     "name": "stdout",
     "output_type": "stream",
     "text": [
      "True\n"
     ]
    },
    {
     "data": {
      "text/plain": [
       "Array([[[0.+0.j, 0.+0.j, 0.+0.j],\n",
       "        [0.+0.j, 0.+0.j, 0.+0.j],\n",
       "        [0.+0.j, 0.+0.j, 0.+0.j]],\n",
       "\n",
       "       [[0.+0.j, 0.+0.j, 0.+0.j],\n",
       "        [0.+0.j, 0.+0.j, 0.+0.j],\n",
       "        [0.+0.j, 0.+0.j, 0.+0.j]],\n",
       "\n",
       "       [[0.+0.j, 0.+0.j, 0.+0.j],\n",
       "        [0.+0.j, 0.+0.j, 0.+0.j],\n",
       "        [0.+0.j, 0.+0.j, 0.+0.j]],\n",
       "\n",
       "       [[0.+0.j, 0.+0.j, 0.+0.j],\n",
       "        [0.+0.j, 0.+0.j, 0.+0.j],\n",
       "        [0.+0.j, 0.+0.j, 0.+0.j]]], dtype=complex64)"
      ]
     },
     "execution_count": 18,
     "metadata": {},
     "output_type": "execute_result"
    }
   ],
   "source": [
    "l1 = 1\n",
    "lmax = 3\n",
    "\n",
    "y_grid_lmax = gtp_utils.compute_y_grid(lmax=lmax, res_theta=10, res_phi=10)\n",
    "y_grid_l1 = gtp_utils.compute_y_grid(lmax=l1, res_theta=10, res_phi=10)\n",
    "\n",
    "\n",
    "print(jnp.allclose(\n",
    "    y_grid_l1, y_grid_lmax[\n",
    "        :(l1 + 1) ** 2,\n",
    "        (lmax - l1): (lmax + l1) + 1, \n",
    "        (lmax - l1): (lmax + l1) + 1\n",
    "    ]\n",
    "))\n",
    "\n",
    "\n",
    "(y_grid_l1 - y_grid_lmax[\n",
    "        :(l1 + 1) ** 2,\n",
    "        (lmax - l1): (lmax + l1) + 1, \n",
    "        (lmax - l1): (lmax + l1) + 1\n",
    "    ])"
   ]
  },
  {
   "cell_type": "code",
   "execution_count": 19,
   "metadata": {},
   "outputs": [],
   "source": [
    "x1 = e3nn.normal(e3nn.s2_irreps(1), jax.random.PRNGKey(0))\n",
    "x2 = e3nn.normal(e3nn.s2_irreps(1), jax.random.PRNGKey(1))"
   ]
  },
  {
   "cell_type": "code",
   "execution_count": 25,
   "metadata": {},
   "outputs": [
    {
     "data": {
      "text/plain": [
       "(1x0e+1x1o+1x2e\n",
       " [ 4.78374296 -0.12593093  2.32481884 -0.53660116 -0.18851345  2.56294331\n",
       "   5.14723947  4.56951574 -0.48273899],\n",
       " 1x0e+1x1o+1x2e\n",
       " [ 4.77679677 -0.1266162   2.32764077 -0.53664273 -0.18808556  2.56422721\n",
       "   5.12660184  4.56959155 -0.48566406])"
      ]
     },
     "execution_count": 25,
     "metadata": {},
     "output_type": "execute_result"
    }
   ],
   "source": [
    "# Test equivariance\n",
    "gaunt_tensor_product_2D_fourier_fn = lambda x1, x2: functional.gaunt_tensor_product_2D_fourier(\n",
    "    x1, x2,\n",
    "    res_theta=100, res_phi=100, convolution_type=\"fft\"\n",
    ")\n",
    "gaunt_tensor_product_2D_fourier_fn = jax.jit(gaunt_tensor_product_2D_fourier_fn)\n",
    "\n",
    "tp_original = gaunt_tensor_product_2D_fourier_fn(\n",
    "    x1, x2\n",
    ")\n",
    "\n",
    "R = e3nn.rand_matrix(jax.random.PRNGKey(3))\n",
    "tp_rotated = gaunt_tensor_product_2D_fourier_fn(\n",
    "    x1.transform_by_matrix(R), x2.transform_by_matrix(R)\n",
    ")\n",
    "\n",
    "tp_original.transform_by_matrix(R), tp_rotated"
   ]
  },
  {
   "cell_type": "code",
   "execution_count": 21,
   "metadata": {},
   "outputs": [
    {
     "data": {
      "text/plain": [
       "1x0e+1x1o+1x2e\n",
       "[ 2.69984163  0.46553642  0.18777085 -1.25098149  1.78401518 -0.0545106\n",
       " -0.45766027 -2.50128504  2.75731263]"
      ]
     },
     "execution_count": 21,
     "metadata": {},
     "output_type": "execute_result"
    }
   ],
   "source": [
    "tp_s2grid = functional.gaunt_tensor_product_s2grid(\n",
    "    x1, x2, \n",
    "    res_beta=100, res_alpha=99, quadrature=\"gausslegendre\", p_val1=1, p_val2=1, s2grid_fft=False\n",
    ")\n",
    "tp_s2grid"
   ]
  },
  {
   "cell_type": "code",
   "execution_count": 24,
   "metadata": {},
   "outputs": [
    {
     "name": "stderr",
     "output_type": "stream",
     "text": [
      "/Users/ameyad/Documents/vector-spherical-harmonics/.venv/lib/python3.11/site-packages/jax/_src/ops/scatter.py:96: FutureWarning: scatter inputs have incompatible types: cannot safely cast value from dtype=complex128 to dtype=complex64 with jax_numpy_dtype_promotion='standard'. In future JAX releases this will result in an error.\n",
      "  warnings.warn(\n",
      "/Users/ameyad/Documents/vector-spherical-harmonics/.venv/lib/python3.11/site-packages/jax/_src/ops/scatter.py:96: FutureWarning: scatter inputs have incompatible types: cannot safely cast value from dtype=complex128 to dtype=complex64 with jax_numpy_dtype_promotion='standard'. In future JAX releases this will result in an error.\n",
      "  warnings.warn(\n",
      "/Users/ameyad/Documents/vector-spherical-harmonics/.venv/lib/python3.11/site-packages/jax/_src/ops/scatter.py:96: FutureWarning: scatter inputs have incompatible types: cannot safely cast value from dtype=complex128 to dtype=complex64 with jax_numpy_dtype_promotion='standard'. In future JAX releases this will result in an error.\n",
      "  warnings.warn(\n",
      "/Users/ameyad/Documents/vector-spherical-harmonics/.venv/lib/python3.11/site-packages/jax/_src/ops/scatter.py:96: FutureWarning: scatter inputs have incompatible types: cannot safely cast value from dtype=complex128 to dtype=complex64 with jax_numpy_dtype_promotion='standard'. In future JAX releases this will result in an error.\n",
      "  warnings.warn(\n",
      "/Users/ameyad/Documents/vector-spherical-harmonics/.venv/lib/python3.11/site-packages/jax/_src/ops/scatter.py:96: FutureWarning: scatter inputs have incompatible types: cannot safely cast value from dtype=complex128 to dtype=complex64 with jax_numpy_dtype_promotion='standard'. In future JAX releases this will result in an error.\n",
      "  warnings.warn(\n",
      "/Users/ameyad/Documents/vector-spherical-harmonics/.venv/lib/python3.11/site-packages/jax/_src/ops/scatter.py:96: FutureWarning: scatter inputs have incompatible types: cannot safely cast value from dtype=complex128 to dtype=complex64 with jax_numpy_dtype_promotion='standard'. In future JAX releases this will result in an error.\n",
      "  warnings.warn(\n",
      "/Users/ameyad/Documents/vector-spherical-harmonics/.venv/lib/python3.11/site-packages/jax/_src/ops/scatter.py:96: FutureWarning: scatter inputs have incompatible types: cannot safely cast value from dtype=complex128 to dtype=complex64 with jax_numpy_dtype_promotion='standard'. In future JAX releases this will result in an error.\n",
      "  warnings.warn(\n",
      "/Users/ameyad/Documents/vector-spherical-harmonics/.venv/lib/python3.11/site-packages/jax/_src/ops/scatter.py:96: FutureWarning: scatter inputs have incompatible types: cannot safely cast value from dtype=complex128 to dtype=complex64 with jax_numpy_dtype_promotion='standard'. In future JAX releases this will result in an error.\n",
      "  warnings.warn(\n",
      "/Users/ameyad/Documents/vector-spherical-harmonics/.venv/lib/python3.11/site-packages/jax/_src/ops/scatter.py:96: FutureWarning: scatter inputs have incompatible types: cannot safely cast value from dtype=complex128 to dtype=complex64 with jax_numpy_dtype_promotion='standard'. In future JAX releases this will result in an error.\n",
      "  warnings.warn(\n",
      "/Users/ameyad/Documents/vector-spherical-harmonics/.venv/lib/python3.11/site-packages/jax/_src/ops/scatter.py:96: FutureWarning: scatter inputs have incompatible types: cannot safely cast value from dtype=complex128 to dtype=complex64 with jax_numpy_dtype_promotion='standard'. In future JAX releases this will result in an error.\n",
      "  warnings.warn(\n",
      "/Users/ameyad/Documents/vector-spherical-harmonics/.venv/lib/python3.11/site-packages/jax/_src/ops/scatter.py:96: FutureWarning: scatter inputs have incompatible types: cannot safely cast value from dtype=complex128 to dtype=complex64 with jax_numpy_dtype_promotion='standard'. In future JAX releases this will result in an error.\n",
      "  warnings.warn(\n",
      "/Users/ameyad/Documents/vector-spherical-harmonics/.venv/lib/python3.11/site-packages/jax/_src/ops/scatter.py:96: FutureWarning: scatter inputs have incompatible types: cannot safely cast value from dtype=complex128 to dtype=complex64 with jax_numpy_dtype_promotion='standard'. In future JAX releases this will result in an error.\n",
      "  warnings.warn(\n",
      "/Users/ameyad/Documents/vector-spherical-harmonics/.venv/lib/python3.11/site-packages/jax/_src/ops/scatter.py:96: FutureWarning: scatter inputs have incompatible types: cannot safely cast value from dtype=complex128 to dtype=complex64 with jax_numpy_dtype_promotion='standard'. In future JAX releases this will result in an error.\n",
      "  warnings.warn(\n",
      "/Users/ameyad/Documents/vector-spherical-harmonics/.venv/lib/python3.11/site-packages/jax/_src/ops/scatter.py:96: FutureWarning: scatter inputs have incompatible types: cannot safely cast value from dtype=complex128 to dtype=complex64 with jax_numpy_dtype_promotion='standard'. In future JAX releases this will result in an error.\n",
      "  warnings.warn(\n",
      "/Users/ameyad/Documents/vector-spherical-harmonics/.venv/lib/python3.11/site-packages/jax/_src/ops/scatter.py:96: FutureWarning: scatter inputs have incompatible types: cannot safely cast value from dtype=complex128 to dtype=complex64 with jax_numpy_dtype_promotion='standard'. In future JAX releases this will result in an error.\n",
      "  warnings.warn(\n",
      "/Users/ameyad/Documents/vector-spherical-harmonics/.venv/lib/python3.11/site-packages/jax/_src/ops/scatter.py:96: FutureWarning: scatter inputs have incompatible types: cannot safely cast value from dtype=complex128 to dtype=complex64 with jax_numpy_dtype_promotion='standard'. In future JAX releases this will result in an error.\n",
      "  warnings.warn(\n",
      "/Users/ameyad/Documents/vector-spherical-harmonics/.venv/lib/python3.11/site-packages/jax/_src/ops/scatter.py:96: FutureWarning: scatter inputs have incompatible types: cannot safely cast value from dtype=complex128 to dtype=complex64 with jax_numpy_dtype_promotion='standard'. In future JAX releases this will result in an error.\n",
      "  warnings.warn(\n",
      "/Users/ameyad/Documents/vector-spherical-harmonics/.venv/lib/python3.11/site-packages/jax/_src/ops/scatter.py:96: FutureWarning: scatter inputs have incompatible types: cannot safely cast value from dtype=complex128 to dtype=complex64 with jax_numpy_dtype_promotion='standard'. In future JAX releases this will result in an error.\n",
      "  warnings.warn(\n",
      "/Users/ameyad/Documents/vector-spherical-harmonics/.venv/lib/python3.11/site-packages/jax/_src/ops/scatter.py:96: FutureWarning: scatter inputs have incompatible types: cannot safely cast value from dtype=complex128 to dtype=complex64 with jax_numpy_dtype_promotion='standard'. In future JAX releases this will result in an error.\n",
      "  warnings.warn(\n",
      "/Users/ameyad/Documents/vector-spherical-harmonics/.venv/lib/python3.11/site-packages/jax/_src/ops/scatter.py:96: FutureWarning: scatter inputs have incompatible types: cannot safely cast value from dtype=complex128 to dtype=complex64 with jax_numpy_dtype_promotion='standard'. In future JAX releases this will result in an error.\n",
      "  warnings.warn(\n",
      "/Users/ameyad/Documents/vector-spherical-harmonics/.venv/lib/python3.11/site-packages/jax/_src/ops/scatter.py:96: FutureWarning: scatter inputs have incompatible types: cannot safely cast value from dtype=complex128 to dtype=complex64 with jax_numpy_dtype_promotion='standard'. In future JAX releases this will result in an error.\n",
      "  warnings.warn(\n",
      "/Users/ameyad/Documents/vector-spherical-harmonics/.venv/lib/python3.11/site-packages/jax/_src/ops/scatter.py:96: FutureWarning: scatter inputs have incompatible types: cannot safely cast value from dtype=complex128 to dtype=complex64 with jax_numpy_dtype_promotion='standard'. In future JAX releases this will result in an error.\n",
      "  warnings.warn(\n",
      "/Users/ameyad/Documents/vector-spherical-harmonics/.venv/lib/python3.11/site-packages/jax/_src/ops/scatter.py:96: FutureWarning: scatter inputs have incompatible types: cannot safely cast value from dtype=complex128 to dtype=complex64 with jax_numpy_dtype_promotion='standard'. In future JAX releases this will result in an error.\n",
      "  warnings.warn(\n",
      "/Users/ameyad/Documents/vector-spherical-harmonics/.venv/lib/python3.11/site-packages/jax/_src/ops/scatter.py:96: FutureWarning: scatter inputs have incompatible types: cannot safely cast value from dtype=complex128 to dtype=complex64 with jax_numpy_dtype_promotion='standard'. In future JAX releases this will result in an error.\n",
      "  warnings.warn(\n",
      "/Users/ameyad/Documents/vector-spherical-harmonics/.venv/lib/python3.11/site-packages/jax/_src/ops/scatter.py:96: FutureWarning: scatter inputs have incompatible types: cannot safely cast value from dtype=complex128 to dtype=complex64 with jax_numpy_dtype_promotion='standard'. In future JAX releases this will result in an error.\n",
      "  warnings.warn(\n",
      "/Users/ameyad/Documents/vector-spherical-harmonics/.venv/lib/python3.11/site-packages/jax/_src/ops/scatter.py:96: FutureWarning: scatter inputs have incompatible types: cannot safely cast value from dtype=complex128 to dtype=complex64 with jax_numpy_dtype_promotion='standard'. In future JAX releases this will result in an error.\n",
      "  warnings.warn(\n",
      "/Users/ameyad/Documents/vector-spherical-harmonics/.venv/lib/python3.11/site-packages/jax/_src/ops/scatter.py:96: FutureWarning: scatter inputs have incompatible types: cannot safely cast value from dtype=complex128 to dtype=complex64 with jax_numpy_dtype_promotion='standard'. In future JAX releases this will result in an error.\n",
      "  warnings.warn(\n",
      "/Users/ameyad/Documents/vector-spherical-harmonics/.venv/lib/python3.11/site-packages/jax/_src/ops/scatter.py:96: FutureWarning: scatter inputs have incompatible types: cannot safely cast value from dtype=complex128 to dtype=complex64 with jax_numpy_dtype_promotion='standard'. In future JAX releases this will result in an error.\n",
      "  warnings.warn(\n",
      "/Users/ameyad/Documents/vector-spherical-harmonics/.venv/lib/python3.11/site-packages/jax/_src/ops/scatter.py:96: FutureWarning: scatter inputs have incompatible types: cannot safely cast value from dtype=complex128 to dtype=complex64 with jax_numpy_dtype_promotion='standard'. In future JAX releases this will result in an error.\n",
      "  warnings.warn(\n",
      "/Users/ameyad/Documents/vector-spherical-harmonics/.venv/lib/python3.11/site-packages/jax/_src/ops/scatter.py:96: FutureWarning: scatter inputs have incompatible types: cannot safely cast value from dtype=complex128 to dtype=complex64 with jax_numpy_dtype_promotion='standard'. In future JAX releases this will result in an error.\n",
      "  warnings.warn(\n",
      "/Users/ameyad/Documents/vector-spherical-harmonics/.venv/lib/python3.11/site-packages/jax/_src/ops/scatter.py:96: FutureWarning: scatter inputs have incompatible types: cannot safely cast value from dtype=complex128 to dtype=complex64 with jax_numpy_dtype_promotion='standard'. In future JAX releases this will result in an error.\n",
      "  warnings.warn(\n"
     ]
    },
    {
     "ename": "ValueError",
     "evalue": "Size of label 'a' for operand 1 (4) does not match previous terms (16).",
     "output_type": "error",
     "traceback": [
      "\u001b[0;31m---------------------------------------------------------------------------\u001b[0m",
      "\u001b[0;31mValueError\u001b[0m                                Traceback (most recent call last)",
      "Cell \u001b[0;32mIn[24], line 3\u001b[0m\n\u001b[1;32m      1\u001b[0m y1_grid \u001b[38;5;241m=\u001b[39m gtp_utils\u001b[38;5;241m.\u001b[39mcompute_y_grid(lmax, res_theta\u001b[38;5;241m=\u001b[39m\u001b[38;5;241m100\u001b[39m, res_phi\u001b[38;5;241m=\u001b[39m\u001b[38;5;241m200\u001b[39m)\n\u001b[1;32m      2\u001b[0m z_grid \u001b[38;5;241m=\u001b[39m gtp_utils\u001b[38;5;241m.\u001b[39mcompute_z_grid(lmax, res_theta\u001b[38;5;241m=\u001b[39m\u001b[38;5;241m100\u001b[39m, res_phi\u001b[38;5;241m=\u001b[39m\u001b[38;5;241m200\u001b[39m)\n\u001b[0;32m----> 3\u001b[0m x1_uv \u001b[38;5;241m=\u001b[39m \u001b[43mjnp\u001b[49m\u001b[38;5;241;43m.\u001b[39;49m\u001b[43meinsum\u001b[49m\u001b[43m(\u001b[49m\u001b[38;5;124;43m\"\u001b[39;49m\u001b[38;5;124;43ma,auv->uv\u001b[39;49m\u001b[38;5;124;43m\"\u001b[39;49m\u001b[43m,\u001b[49m\u001b[43m \u001b[49m\u001b[43mx1\u001b[49m\u001b[38;5;241;43m.\u001b[39;49m\u001b[43marray\u001b[49m\u001b[43m,\u001b[49m\u001b[43m \u001b[49m\u001b[43my1_grid\u001b[49m\u001b[43m)\u001b[49m\n\u001b[1;32m      4\u001b[0m x1_restored \u001b[38;5;241m=\u001b[39m jnp\u001b[38;5;241m.\u001b[39meinsum(\u001b[38;5;124m\"\u001b[39m\u001b[38;5;124muv,auv->a\u001b[39m\u001b[38;5;124m\"\u001b[39m, x1_uv\u001b[38;5;241m.\u001b[39mconj(), z_grid)\n\u001b[1;32m      5\u001b[0m x1\u001b[38;5;241m.\u001b[39marray, x1_restored\u001b[38;5;241m.\u001b[39mreal, jnp\u001b[38;5;241m.\u001b[39misclose(x1\u001b[38;5;241m.\u001b[39marray, x1_restored\u001b[38;5;241m.\u001b[39mreal, atol\u001b[38;5;241m=\u001b[39m\u001b[38;5;241m5e-3\u001b[39m)\n",
      "File \u001b[0;32m~/Documents/vector-spherical-harmonics/.venv/lib/python3.11/site-packages/jax/_src/numpy/lax_numpy.py:3555\u001b[0m, in \u001b[0;36meinsum\u001b[0;34m(subscripts, out, optimize, precision, preferred_element_type, _dot_general, *operands)\u001b[0m\n\u001b[1;32m   3553\u001b[0m   contract_path \u001b[38;5;241m=\u001b[39m _poly_einsum_handlers\u001b[38;5;241m.\u001b[39mget(ty, _default_poly_einsum_handler)\n\u001b[1;32m   3554\u001b[0m \u001b[38;5;66;03m# using einsum_call=True here is an internal api for opt_einsum... sorry\u001b[39;00m\n\u001b[0;32m-> 3555\u001b[0m operands, contractions \u001b[38;5;241m=\u001b[39m \u001b[43mcontract_path\u001b[49m\u001b[43m(\u001b[49m\n\u001b[1;32m   3556\u001b[0m \u001b[43m      \u001b[49m\u001b[38;5;241;43m*\u001b[39;49m\u001b[43moperands\u001b[49m\u001b[43m,\u001b[49m\u001b[43m \u001b[49m\u001b[43meinsum_call\u001b[49m\u001b[38;5;241;43m=\u001b[39;49m\u001b[38;5;28;43;01mTrue\u001b[39;49;00m\u001b[43m,\u001b[49m\u001b[43m \u001b[49m\u001b[43muse_blas\u001b[49m\u001b[38;5;241;43m=\u001b[39;49m\u001b[38;5;28;43;01mTrue\u001b[39;49;00m\u001b[43m,\u001b[49m\u001b[43m \u001b[49m\u001b[43moptimize\u001b[49m\u001b[38;5;241;43m=\u001b[39;49m\u001b[43moptimize\u001b[49m\u001b[43m)\u001b[49m\n\u001b[1;32m   3558\u001b[0m contractions \u001b[38;5;241m=\u001b[39m \u001b[38;5;28mtuple\u001b[39m((a, \u001b[38;5;28mfrozenset\u001b[39m(b), c) \u001b[38;5;28;01mfor\u001b[39;00m a, b, c, \u001b[38;5;241m*\u001b[39m_ \u001b[38;5;129;01min\u001b[39;00m contractions)\n\u001b[1;32m   3560\u001b[0m einsum \u001b[38;5;241m=\u001b[39m jit(_einsum, static_argnums\u001b[38;5;241m=\u001b[39m(\u001b[38;5;241m1\u001b[39m, \u001b[38;5;241m2\u001b[39m, \u001b[38;5;241m3\u001b[39m, \u001b[38;5;241m4\u001b[39m), inline\u001b[38;5;241m=\u001b[39m\u001b[38;5;28;01mTrue\u001b[39;00m)\n",
      "File \u001b[0;32m~/Documents/vector-spherical-harmonics/.venv/lib/python3.11/site-packages/opt_einsum/contract.py:238\u001b[0m, in \u001b[0;36mcontract_path\u001b[0;34m(*operands, **kwargs)\u001b[0m\n\u001b[1;32m    236\u001b[0m         size_dict[char] \u001b[38;5;241m=\u001b[39m dim\n\u001b[1;32m    237\u001b[0m     \u001b[38;5;28;01melif\u001b[39;00m dim \u001b[38;5;129;01mnot\u001b[39;00m \u001b[38;5;129;01min\u001b[39;00m (\u001b[38;5;241m1\u001b[39m, size_dict[char]):\n\u001b[0;32m--> 238\u001b[0m         \u001b[38;5;28;01mraise\u001b[39;00m \u001b[38;5;167;01mValueError\u001b[39;00m(\u001b[38;5;124m\"\u001b[39m\u001b[38;5;124mSize of label \u001b[39m\u001b[38;5;124m'\u001b[39m\u001b[38;5;132;01m{}\u001b[39;00m\u001b[38;5;124m'\u001b[39m\u001b[38;5;124m for operand \u001b[39m\u001b[38;5;132;01m{}\u001b[39;00m\u001b[38;5;124m (\u001b[39m\u001b[38;5;132;01m{}\u001b[39;00m\u001b[38;5;124m) does not match previous \u001b[39m\u001b[38;5;124m\"\u001b[39m\n\u001b[1;32m    239\u001b[0m                          \u001b[38;5;124m\"\u001b[39m\u001b[38;5;124mterms (\u001b[39m\u001b[38;5;132;01m{}\u001b[39;00m\u001b[38;5;124m).\u001b[39m\u001b[38;5;124m\"\u001b[39m\u001b[38;5;241m.\u001b[39mformat(char, tnum, size_dict[char], dim))\n\u001b[1;32m    240\u001b[0m \u001b[38;5;28;01melse\u001b[39;00m:\n\u001b[1;32m    241\u001b[0m     size_dict[char] \u001b[38;5;241m=\u001b[39m dim\n",
      "\u001b[0;31mValueError\u001b[0m: Size of label 'a' for operand 1 (4) does not match previous terms (16)."
     ]
    }
   ],
   "source": [
    "y1_grid = gtp_utils.compute_y_grid(lmax, res_theta=100, res_phi=200)\n",
    "z_grid = gtp_utils.compute_z_grid(lmax, res_theta=100, res_phi=200)\n",
    "x1_uv = jnp.einsum(\"a,auv->uv\", x1.array, y1_grid)\n",
    "x1_restored = jnp.einsum(\"uv,auv->a\", x1_uv.conj(), z_grid)\n",
    "x1.array, x1_restored.real, jnp.isclose(x1.array, x1_restored.real, atol=5e-3)"
   ]
  },
  {
   "cell_type": "code",
   "execution_count": null,
   "metadata": {},
   "outputs": [],
   "source": [
    "tp_2D_fourier_direct = functional.gaunt_tensor_product_2D_fourier(\n",
    "    x1, x2,\n",
    "    res_theta=100, res_phi=99, convolution_type=\"direct\"\n",
    ")\n",
    "tp_2D_fourier_fft = functional.gaunt_tensor_product_2D_fourier(\n",
    "    x1, x2,\n",
    "    res_theta=100, res_phi=99, convolution_type=\"fft\"\n",
    ")\n",
    "jnp.isclose(tp_2D_fourier_direct.array, tp_2D_fourier_fft.array)"
   ]
  },
  {
   "cell_type": "code",
   "execution_count": null,
   "metadata": {},
   "outputs": [],
   "source": [
    "# Test equivariance\n",
    "tp_original = functional.gaunt_tensor_product_s2grid(\n",
    "    x1, x2,\n",
    "    res_beta=100, res_alpha=99, quadrature=\"gausslegendre\", p_val1=1, p_val2=1, s2grid_fft=False\n",
    "\n",
    ")\n",
    "R = e3nn.rand_matrix(jax.random.PRNGKey(0))\n",
    "tp_rotated = functional.gaunt_tensor_product_s2grid(\n",
    "    x1.transform_by_matrix(R), x2.transform_by_matrix(R),\n",
    "    res_beta=100, res_alpha=99, quadrature=\"gausslegendre\", p_val1=1, p_val2=1, s2grid_fft=False\n",
    ")\n",
    "tp_original.transform_by_matrix(R), tp_rotated"
   ]
  }
 ],
 "metadata": {
  "kernelspec": {
   "display_name": ".venv",
   "language": "python",
   "name": "python3"
  },
  "language_info": {
   "codemirror_mode": {
    "name": "ipython",
    "version": 3
   },
   "file_extension": ".py",
   "mimetype": "text/x-python",
   "name": "python",
   "nbconvert_exporter": "python",
   "pygments_lexer": "ipython3",
   "version": "3.11.4"
  }
 },
 "nbformat": 4,
 "nbformat_minor": 2
}
