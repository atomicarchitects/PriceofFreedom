{
 "cells": [
  {
   "cell_type": "code",
   "execution_count": 1,
   "metadata": {},
   "outputs": [],
   "source": [
    "%load_ext autoreload\n",
    "%autoreload 2"
   ]
  },
  {
   "cell_type": "code",
   "execution_count": 3,
   "metadata": {},
   "outputs": [],
   "source": [
    "import e3nn_jax as e3nn\n",
    "import jax\n",
    "jax.config.update(\"jax_enable_x64\", True)\n",
    "import jax.numpy as jnp\n",
    "\n",
    "import sys\n",
    "sys.path.append('../..')\n",
    "\n",
    "from src.tensor_products import functional\n",
    "from src.tensor_products import gaunt_tensor_product_utils as gtp_utils"
   ]
  },
  {
   "cell_type": "code",
   "execution_count": 4,
   "metadata": {},
   "outputs": [],
   "source": [
    "x1 = e3nn.normal(e3nn.s2_irreps(5), jax.random.PRNGKey(0))\n",
    "x2 = e3nn.normal(e3nn.s2_irreps(5), jax.random.PRNGKey(1))"
   ]
  },
  {
   "cell_type": "code",
   "execution_count": 7,
   "metadata": {},
   "outputs": [],
   "source": [
    "y_grid_lmax = gtp_utils.compute_y_grid(lmax=3, res_theta=10, res_phi=10)"
   ]
  },
  {
   "cell_type": "code",
   "execution_count": 70,
   "metadata": {},
   "outputs": [
    {
     "data": {
      "text/plain": [
       "Array([[[ 0.00000000e+00-2.0840433e-16j, -2.09257081e-16-1.4384636e-16j,\n",
       "         -5.98179366e-17-1.7090911e-16j],\n",
       "        [-2.10468762e-16-1.2317270e-16j,  1.77245390e+00-2.1263174e-16j,\n",
       "         -4.00913849e-16-1.2057673e-16j],\n",
       "        [-6.44680879e-17-1.6782113e-16j, -4.00124918e-16-8.4842281e-17j,\n",
       "         -1.27033846e-16-4.1933054e-16j]],\n",
       "\n",
       "       [[ 0.00000000e+00-8.7196715e-17j, -1.41100442e-16+9.6885250e-18j,\n",
       "          7.67495036e-01-2.9065572e-17j],\n",
       "        [-1.09067331e-16-1.0484547e-17j, -9.89215302e-17-6.6009417e-17j,\n",
       "         -7.60934894e-17+4.6924315e-17j],\n",
       "        [ 7.67495036e-01-1.6736514e-17j, -8.53937986e-17+3.4551837e-17j,\n",
       "         -7.67495036e-01+8.2902198e-17j]],\n",
       "\n",
       "       [[ 0.00000000e+00-3.3909834e-16j,  1.53499007e+00-4.5637061e-16j,\n",
       "         -1.45327852e-16+8.7196715e-17j],\n",
       "        [ 2.40962709e-17+3.6968329e-17j, -2.90423457e-16-6.6396305e-17j,\n",
       "          1.46691336e-16+5.2963504e-17j],\n",
       "        [-1.81718160e-16-4.3653762e-18j,  1.53499007e+00+2.4142856e-16j,\n",
       "         -4.01121055e-16+2.6941111e-16j]],\n",
       "\n",
       "       [[ 0.00000000e+00-1.5349901e+00j, -1.21904394e-17+1.8892621e-16j,\n",
       "          2.95499964e-16-7.6749504e-01j],\n",
       "        [ 4.57617788e-17+5.9597594e-18j,  1.89282548e-16+1.2402157e-16j,\n",
       "          1.87063173e-17-1.3316360e-17j],\n",
       "        [ 4.59276087e-17+7.6749504e-01j, -1.01669358e-16-1.4653330e-16j,\n",
       "          2.39926731e-17+7.6749504e-01j]]], dtype=complex64)"
      ]
     },
     "execution_count": 70,
     "metadata": {},
     "output_type": "execute_result"
    }
   ],
   "source": [
    "l1 = 1\n",
    "lmax = 3\n",
    "\n",
    "y_grid_lmax = gtp_utils.compute_y_grid(lmax=lmax, res_theta=10, res_phi=10)\n",
    "y_grid_l1 = gtp_utils.compute_y_grid(lmax=l1, res_theta=10, res_phi=10)\n",
    "\n",
    "\n",
    "y_grid_l1 - y_grid_lmax[\n",
    "        :(l1 + 1) ** 2,\n",
    "        2 * (lmax - l1): 2 * (lmax + l1) + 1, \n",
    "        2 * (lmax - l1): 2 * (lmax + l1) + 1\n",
    "    ]"
   ]
  },
  {
   "cell_type": "code",
   "execution_count": 72,
   "metadata": {},
   "outputs": [
    {
     "name": "stdout",
     "output_type": "stream",
     "text": [
      "0 0 BCOO(complex64[7, 7], nse=1)\n",
      "1 -1 BCOO(complex64[7, 7], nse=4)\n",
      "1 0 BCOO(complex64[7, 7], nse=2)\n",
      "1 1 BCOO(complex64[7, 7], nse=4)\n",
      "2 -2 BCOO(complex64[7, 7], nse=6)\n",
      "2 -1 BCOO(complex64[7, 7], nse=4)\n",
      "2 0 BCOO(complex64[7, 7], nse=3)\n",
      "2 1 BCOO(complex64[7, 7], nse=4)\n",
      "2 2 BCOO(complex64[7, 7], nse=6)\n",
      "3 -3 BCOO(complex64[7, 7], nse=8)\n",
      "3 -2 BCOO(complex64[7, 7], nse=8)\n",
      "3 -1 BCOO(complex64[7, 7], nse=8)\n",
      "3 0 BCOO(complex64[7, 7], nse=4)\n",
      "3 1 BCOO(complex64[7, 7], nse=8)\n",
      "3 2 BCOO(complex64[7, 7], nse=8)\n",
      "3 3 BCOO(complex64[7, 7], nse=8)\n",
      "0.1096938775510204\n",
      "BCOO(complex64[16, 7, 7], nse=86)\n"
     ]
    }
   ],
   "source": [
    "from jax.experimental import sparse\n",
    "\n",
    "y_grid_lmax = y_grid_lmax.round(8)\n",
    "for l in range(lmax + 1):\n",
    "    for m in range(-l, l + 1):\n",
    "        lm_index = gtp_utils.to_lm_index(l, m)\n",
    "        y_grid_l = y_grid_lmax[lm_index, :, :]\n",
    "        y_grid_sp = sparse.BCOO.fromdense(y_grid_l)\n",
    "        print(l, m, y_grid_sp)\n",
    "\n",
    "y_grid_sp = sparse.BCOO.fromdense(y_grid_lmax)\n",
    "print(y_grid_sp.nse / y_grid_sp.size)\n",
    "print(y_grid_sp)"
   ]
  },
  {
   "cell_type": "code",
   "execution_count": 69,
   "metadata": {},
   "outputs": [
    {
     "name": "stdout",
     "output_type": "stream",
     "text": [
      "[[ 1.80000003 +3.00000004j -8.40000033 +6.00000024j\n",
      "  -9.89999974-11.69999969j 18.         +0.j\n",
      "   9.89999974-11.69999969j -8.40000033 -6.00000024j\n",
      "  -1.80000003 +3.00000004j]\n",
      " [ 0.         +0.j         -3.20000005 +1.60000002j\n",
      "  -4.49999988 -6.29999983j  9.         +0.j\n",
      "   4.49999988 -6.29999983j -3.20000005 -1.60000002j\n",
      "   0.         +0.j        ]\n",
      " [-6.29999989-10.49999982j  8.40000033 -6.00000024j\n",
      "  -3.00000004 -5.00000007j 13.79999971 +0.j\n",
      "   3.00000004 -5.00000007j  8.40000033 +6.00000024j\n",
      "   6.29999989-10.49999982j]\n",
      " [ 0.         +0.j          7.19999981 -3.5999999j\n",
      "   0.         +0.j          6.         +0.j\n",
      "   0.         +0.j          7.19999981 +3.5999999j\n",
      "   0.         +0.j        ]\n",
      " [ 6.29999989+10.49999982j  8.40000033 -6.00000024j\n",
      "   3.00000004 +5.00000007j 13.79999971 +0.j\n",
      "  -3.00000004 +5.00000007j  8.40000033 +6.00000024j\n",
      "  -6.29999989+10.49999982j]\n",
      " [ 0.         +0.j         -3.20000005 +1.60000002j\n",
      "   4.49999988 +6.29999983j  9.         +0.j\n",
      "  -4.49999988 +6.29999983j -3.20000005 -1.60000002j\n",
      "   0.         +0.j        ]\n",
      " [-1.80000003 -3.00000004j -8.40000033 +6.00000024j\n",
      "   9.89999974+11.69999969j 18.         +0.j\n",
      "  -9.89999974+11.69999969j -8.40000033 -6.00000024j\n",
      "   1.80000003 -3.00000004j]]\n"
     ]
    }
   ],
   "source": [
    "x = jnp.arange(y_grid_sp.shape[0]).astype(jnp.float64)\n",
    "\n",
    "def to_fourier(x, y_grid):\n",
    "    return jnp.einsum(\"...a, auv -> ...uv\", x, y_grid)\n",
    "\n",
    "\n",
    "x_fourier = to_fourier(x, y_grid_lmax)\n",
    "x_fourier_sparse = sparse.sparsify(to_fourier)(x, y_grid_sp)\n",
    "\n",
    "print(x_fourier_sparse)"
   ]
  },
  {
   "cell_type": "code",
   "execution_count": 56,
   "metadata": {},
   "outputs": [
    {
     "data": {
      "image/png": "[encoded data removed]",
      "text/plain": [
       "<Figure size 640x480 with 2 Axes>"
      ]
     },
     "metadata": {},
     "output_type": "display_data"
    }
   ],
   "source": [
    "import matplotlib.pyplot as plt\n",
    "\n",
    "# Pick an l and m.\n",
    "l = 1\n",
    "m = 0\n",
    "lm_index = gtp_utils.to_lm_index(l, m)\n",
    "plt.imshow(jnp.abs(y_grid_lmax)[lm_index, :, :].T)\n",
    "plt.xlabel('u')\n",
    "plt.ylabel('v')\n",
    "plt.xticks(ticks=jnp.arange(2 * lmax + 1), labels=jnp.arange(-lmax, lmax + 1))\n",
    "plt.yticks(ticks=jnp.arange(2 * lmax + 1), labels=jnp.arange(-lmax, lmax + 1))\n",
    "plt.colorbar()\n",
    "plt.show()"
   ]
  },
  {
   "cell_type": "code",
   "execution_count": null,
   "metadata": {},
   "outputs": [],
   "source": [
    "# Test equivariance\n",
    "gaunt_tensor_product_fourier_2D_fn = lambda x1, x2: functional.gaunt_tensor_product_fourier_2D(\n",
    "    x1, x2,\n",
    "    res_theta=6, res_phi=6, convolution_type=\"direct\"\n",
    ")\n",
    "gaunt_tensor_product_fourier_2D_fn = jax.jit(gaunt_tensor_product_fourier_2D_fn)\n",
    "\n",
    "tp_original = gaunt_tensor_product_fourier_2D_fn(\n",
    "    x1, x2\n",
    ")\n",
    "\n",
    "R = e3nn.rand_matrix(jax.random.PRNGKey(3))\n",
    "tp_rotated = gaunt_tensor_product_fourier_2D_fn(\n",
    "    x1.transform_by_matrix(R), x2.transform_by_matrix(R)\n",
    ")\n",
    "\n",
    "tp_original.transform_by_matrix(R), tp_rotated"
   ]
  },
  {
   "cell_type": "code",
   "execution_count": null,
   "metadata": {},
   "outputs": [],
   "source": [
    "tp_s2grid = functional.gaunt_tensor_product_s2grid(\n",
    "    x1, x2, \n",
    "    res_beta=100, res_alpha=99, quadrature=\"gausslegendre\", p_val1=1, p_val2=1, s2grid_fft=False\n",
    ")\n",
    "tp_s2grid"
   ]
  },
  {
   "cell_type": "code",
   "execution_count": null,
   "metadata": {},
   "outputs": [],
   "source": [
    "y1_grid = gtp_utils.compute_y_grid(2, res_theta=100, res_phi=200)\n",
    "z_grid = gtp_utils.compute_z_grid(2, res_theta=100, res_phi=200)\n",
    "x1_uv = jnp.einsum(\"a,auv->uv\", x1.array, y1_grid)\n",
    "x1_restored = jnp.einsum(\"uv,auv->a\", x1_uv.conj(), z_grid)\n",
    "x1.array, x1_restored.real, jnp.isclose(x1.array, x1_restored.real, atol=5e-3)"
   ]
  },
  {
   "cell_type": "code",
   "execution_count": null,
   "metadata": {},
   "outputs": [],
   "source": [
    "tp_fourier_2D_direct = functional.gaunt_tensor_product_fourier_2D(\n",
    "    x1, x2,\n",
    "    res_theta=100, res_phi=99, convolution_type=\"direct\"\n",
    ")\n",
    "tp_fourier_2D_fft = functional.gaunt_tensor_product_fourier_2D(\n",
    "    x1, x2,\n",
    "    res_theta=100, res_phi=99, convolution_type=\"fft\"\n",
    ")\n",
    "jnp.isclose(tp_fourier_2D_direct.array, tp_fourier_2D_fft.array)"
   ]
  },
  {
   "cell_type": "code",
   "execution_count": null,
   "metadata": {},
   "outputs": [],
   "source": [
    "# Test equivariance\n",
    "tp_original = functional.gaunt_tensor_product_s2grid(\n",
    "    x1, x2,\n",
    "    res_beta=100, res_alpha=99, quadrature=\"gausslegendre\", p_val1=1, p_val2=1, s2grid_fft=False\n",
    "\n",
    ")\n",
    "R = e3nn.rand_matrix(jax.random.PRNGKey(0))\n",
    "tp_rotated = functional.gaunt_tensor_product_s2grid(\n",
    "    x1.transform_by_matrix(R), x2.transform_by_matrix(R),\n",
    "    res_beta=100, res_alpha=99, quadrature=\"gausslegendre\", p_val1=1, p_val2=1, s2grid_fft=False\n",
    ")\n",
    "tp_original.transform_by_matrix(R), tp_rotated"
   ]
  }
 ],
 "metadata": {
  "kernelspec": {
   "display_name": ".venv",
   "language": "python",
   "name": "python3"
  },
  "language_info": {
   "codemirror_mode": {
    "name": "ipython",
    "version": 3
   },
   "file_extension": ".py",
   "mimetype": "text/x-python",
   "name": "python",
   "nbconvert_exporter": "python",
   "pygments_lexer": "ipython3",
   "version": "3.11.4"
  }
 },
 "nbformat": 4,
 "nbformat_minor": 2
}
