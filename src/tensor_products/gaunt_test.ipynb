{
 "cells": [
  {
   "cell_type": "code",
   "execution_count": null,
   "metadata": {},
   "outputs": [],
   "source": [
    "%load_ext autoreload\n",
    "%autoreload 2"
   ]
  },
  {
   "cell_type": "code",
   "execution_count": null,
   "metadata": {},
   "outputs": [],
   "source": [
    "import e3nn_jax as e3nn\n",
    "import jax\n",
    "jax.config.update(\"jax_enable_x64\", True)\n",
    "import jax.numpy as jnp\n",
    "\n",
    "import sys\n",
    "sys.path.append('../..')\n",
    "\n",
    "from src.tensor_products import functional\n",
    "from src.tensor_products import gaunt_tensor_product_utils as gtp_utils"
   ]
  },
  {
   "cell_type": "code",
   "execution_count": null,
   "metadata": {},
   "outputs": [],
   "source": [
    "x1 = e3nn.normal(e3nn.s2_irreps(5), jax.random.PRNGKey(0))\n",
    "x2 = e3nn.normal(e3nn.s2_irreps(5), jax.random.PRNGKey(1))"
   ]
  },
  {
   "cell_type": "code",
   "execution_count": null,
   "metadata": {},
   "outputs": [],
   "source": [
    "l1 = 1\n",
    "lmax = 3\n",
    "\n",
    "y_grid_lmax = gtp_utils.compute_y_grid(lmax=lmax, res_theta=10, res_phi=10)\n",
    "y_grid_l1 = gtp_utils.compute_y_grid(lmax=l1, res_theta=10, res_phi=10)\n",
    "\n",
    "\n",
    "jnp.allclose(\n",
    "    y_grid_l1, y_grid_lmax[\n",
    "        :(l1 + 1) ** 2,\n",
    "        2 * (lmax - l1): 2 * (lmax + l1) + 1, \n",
    "        2 * (lmax - l1): 2 * (lmax + l1) + 1\n",
    "    ]\n",
    ")"
   ]
  },
  {
   "cell_type": "code",
   "execution_count": null,
   "metadata": {},
   "outputs": [],
   "source": [
    "# Test equivariance\n",
    "gaunt_tensor_product_fourier_2D_fn = lambda x1, x2: functional.gaunt_tensor_product_fourier_2D(\n",
    "    x1, x2,\n",
    "    res_theta=6, res_phi=6, convolution_type=\"direct\"\n",
    ")\n",
    "gaunt_tensor_product_fourier_2D_fn = jax.jit(gaunt_tensor_product_fourier_2D_fn)\n",
    "\n",
    "tp_original = gaunt_tensor_product_fourier_2D_fn(\n",
    "    x1, x2\n",
    ")\n",
    "\n",
    "R = e3nn.rand_matrix(jax.random.PRNGKey(3))\n",
    "tp_rotated = gaunt_tensor_product_fourier_2D_fn(\n",
    "    x1.transform_by_matrix(R), x2.transform_by_matrix(R)\n",
    ")\n",
    "\n",
    "tp_original.transform_by_matrix(R), tp_rotated"
   ]
  },
  {
   "cell_type": "code",
   "execution_count": null,
   "metadata": {},
   "outputs": [],
   "source": [
    "tp_s2grid = functional.gaunt_tensor_product_s2grid(\n",
    "    x1, x2, \n",
    "    res_beta=100, res_alpha=99, quadrature=\"gausslegendre\", p_val1=1, p_val2=1, s2grid_fft=False\n",
    ")\n",
    "tp_s2grid"
   ]
  },
  {
   "cell_type": "code",
   "execution_count": null,
   "metadata": {},
   "outputs": [],
   "source": [
    "y1_grid = gtp_utils.compute_y_grid(2, res_theta=100, res_phi=200)\n",
    "z_grid = gtp_utils.compute_z_grid(2, res_theta=100, res_phi=200)\n",
    "x1_uv = jnp.einsum(\"a,auv->uv\", x1.array, y1_grid)\n",
    "x1_restored = jnp.einsum(\"uv,auv->a\", x1_uv.conj(), z_grid)\n",
    "x1.array, x1_restored.real, jnp.isclose(x1.array, x1_restored.real, atol=5e-3)"
   ]
  },
  {
   "cell_type": "code",
   "execution_count": null,
   "metadata": {},
   "outputs": [],
   "source": [
    "tp_fourier_2D_direct = functional.gaunt_tensor_product_fourier_2D(\n",
    "    x1, x2,\n",
    "    res_theta=100, res_phi=99, convolution_type=\"direct\"\n",
    ")\n",
    "tp_fourier_2D_fft = functional.gaunt_tensor_product_fourier_2D(\n",
    "    x1, x2,\n",
    "    res_theta=100, res_phi=99, convolution_type=\"fft\"\n",
    ")\n",
    "jnp.isclose(tp_fourier_2D_direct.array, tp_fourier_2D_fft.array)"
   ]
  },
  {
   "cell_type": "code",
   "execution_count": null,
   "metadata": {},
   "outputs": [],
   "source": [
    "# Test equivariance\n",
    "tp_original = functional.gaunt_tensor_product_s2grid(\n",
    "    x1, x2,\n",
    "    res_beta=100, res_alpha=99, quadrature=\"gausslegendre\", p_val1=1, p_val2=1, s2grid_fft=False\n",
    "\n",
    ")\n",
    "R = e3nn.rand_matrix(jax.random.PRNGKey(0))\n",
    "tp_rotated = functional.gaunt_tensor_product_s2grid(\n",
    "    x1.transform_by_matrix(R), x2.transform_by_matrix(R),\n",
    "    res_beta=100, res_alpha=99, quadrature=\"gausslegendre\", p_val1=1, p_val2=1, s2grid_fft=False\n",
    ")\n",
    "tp_original.transform_by_matrix(R), tp_rotated"
   ]
  }
 ],
 "metadata": {
  "kernelspec": {
   "display_name": ".venv",
   "language": "python",
   "name": "python3"
  },
  "language_info": {
   "codemirror_mode": {
    "name": "ipython",
    "version": 3
   },
   "file_extension": ".py",
   "mimetype": "text/x-python",
   "name": "python",
   "nbconvert_exporter": "python",
   "pygments_lexer": "ipython3",
   "version": "3.11.4"
  }
 },
 "nbformat": 4,
 "nbformat_minor": 2
}
