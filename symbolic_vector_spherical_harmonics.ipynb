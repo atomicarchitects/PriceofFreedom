{
 "cells": [
  {
   "cell_type": "code",
   "execution_count": 10,
   "metadata": {},
   "outputs": [],
   "source": [
    "from sympy import Ynm, Symbol, diff, simplify, sqrt, conjugate\n",
    "from sympy import latex\n",
    "from sympy.vector import CoordSys3D, gradient\n",
    "from sympy.abc import l, m\n",
    "import IPython.display as disp"
   ]
  },
  {
   "cell_type": "markdown",
   "metadata": {},
   "source": [
    "# Helpers"
   ]
  },
  {
   "cell_type": "code",
   "execution_count": 11,
   "metadata": {},
   "outputs": [],
   "source": [
    "def pprint(x, simplify_expression: bool = False):\n",
    "    if simplify_expression:\n",
    "        return disp.display(simplify(x.expand(func=True)))\n",
    "    return disp.display(x)\n",
    "\n",
    "\n",
    "def to_latex(x):\n",
    "    print(\n",
    "        latex(x)\n",
    "        .replace(\"\\\\mathbf{{phi}_{S}}\", \"\\\\phi\")\n",
    "        .replace(\"\\\\mathbf{{theta}_{S}}\", \"\\\\theta\")\n",
    "        .replace(\"\\\\mathbf{{r}_{S}}\", \"r\")\n",
    "    )\n"
   ]
  },
  {
   "cell_type": "markdown",
   "metadata": {},
   "source": [
    "# Coordinate System"
   ]
  },
  {
   "cell_type": "code",
   "execution_count": 12,
   "metadata": {},
   "outputs": [],
   "source": [
    "S = CoordSys3D(\n",
    "    \"S\",\n",
    "    transformation=\"spherical\",\n",
    "    variable_names=(\"r\", \"theta\", \"phi\"),\n",
    "    vector_names=(\"e_r\", \"e_t\", \"e_p\"),\n",
    ")\n",
    "\n",
    "def conjugate_vector(x):\n",
    "    res = conjugate(x.dot(S.e_r)) * S.e_r + conjugate(x.dot(S.e_t)) * S.e_t + conjugate(x.dot(S.e_p)) * S.e_p\n",
    "    return res.subs({conjugate(S.theta): S.theta, conjugate(S.phi): S.phi, conjugate(S.r): S.r,\n",
    "                     conjugate(m): m, conjugate(l): l})"
   ]
  },
  {
   "cell_type": "markdown",
   "metadata": {},
   "source": [
    "# Complex Vector Spherical Harmonics"
   ]
  },
  {
   "cell_type": "code",
   "execution_count": 13,
   "metadata": {},
   "outputs": [],
   "source": [
    "# These are complex for now.\n",
    "def Y(l, m):\n",
    "    return Ynm(l, m, S.theta, S.phi) * S.e_r\n",
    "\n",
    "\n",
    "def Psi(l, m):\n",
    "    grad_Y = gradient(Ynm(l, m, S.theta, S.phi))\n",
    "    return S.r * grad_Y\n",
    "\n",
    "\n",
    "def Phi(l, m):\n",
    "    grad_Y = gradient(Ynm(l, m, S.theta, S.phi))\n",
    "    return (S.r * S.e_r).cross(grad_Y)"
   ]
  },
  {
   "cell_type": "code",
   "execution_count": 14,
   "metadata": {},
   "outputs": [
    {
     "data": {
      "text/latex": [
       "$\\displaystyle \\left(Y_{l}^{m}\\left(\\mathbf{{theta}_{S}},\\mathbf{{phi}_{S}}\\right)\\right)\\mathbf{\\hat{e_r}_{S}}$"
      ],
      "text/plain": [
       "(Ynm(l, m, S.theta, S.phi))*S.e_r"
      ]
     },
     "metadata": {},
     "output_type": "display_data"
    },
    {
     "data": {
      "text/latex": [
       "$\\displaystyle \\left(\\frac{i m Y_{l}^{m}\\left(\\mathbf{{theta}_{S}},\\mathbf{{phi}_{S}}\\right)}{\\sin{\\left(\\mathbf{{theta}_{S}} \\right)}}\\right)\\mathbf{\\hat{e_p}_{S}} + \\left(m \\cot{\\left(\\mathbf{{theta}_{S}} \\right)} Y_{l}^{m}\\left(\\mathbf{{theta}_{S}},\\mathbf{{phi}_{S}}\\right) + \\sqrt{\\left(l - m\\right) \\left(l + m + 1\\right)} e^{- \\mathbf{{phi}_{S}} i} Y_{l}^{m + 1}\\left(\\mathbf{{theta}_{S}},\\mathbf{{phi}_{S}}\\right)\\right)\\mathbf{\\hat{e_t}_{S}}$"
      ],
      "text/plain": [
       "(m*cot(S.theta)*Ynm(l, m, S.theta, S.phi) + sqrt((l - m)*(l + m + 1))*exp(-S.phi*I)*Ynm(l, m + 1, S.theta, S.phi))*S.e_t + (I*m*Ynm(l, m, S.theta, S.phi)/sin(S.theta))*S.e_p"
      ]
     },
     "metadata": {},
     "output_type": "display_data"
    },
    {
     "data": {
      "text/latex": [
       "$\\displaystyle \\left(m \\cot{\\left(\\mathbf{{theta}_{S}} \\right)} Y_{l}^{m}\\left(\\mathbf{{theta}_{S}},\\mathbf{{phi}_{S}}\\right) + \\sqrt{\\left(l - m\\right) \\left(l + m + 1\\right)} e^{- \\mathbf{{phi}_{S}} i} Y_{l}^{m + 1}\\left(\\mathbf{{theta}_{S}},\\mathbf{{phi}_{S}}\\right)\\right)\\mathbf{\\hat{e_p}_{S}} + \\left(- \\frac{i m Y_{l}^{m}\\left(\\mathbf{{theta}_{S}},\\mathbf{{phi}_{S}}\\right)}{\\sin{\\left(\\mathbf{{theta}_{S}} \\right)}}\\right)\\mathbf{\\hat{e_t}_{S}}$"
      ],
      "text/plain": [
       "(-I*m*Ynm(l, m, S.theta, S.phi)/sin(S.theta))*S.e_t + (m*cot(S.theta)*Ynm(l, m, S.theta, S.phi) + sqrt((l - m)*(l + m + 1))*exp(-S.phi*I)*Ynm(l, m + 1, S.theta, S.phi))*S.e_p"
      ]
     },
     "metadata": {},
     "output_type": "display_data"
    }
   ],
   "source": [
    "pprint(Y(l, m))\n",
    "pprint(Psi(l, m))\n",
    "pprint(Phi(l, m))"
   ]
  },
  {
   "cell_type": "code",
   "execution_count": 15,
   "metadata": {},
   "outputs": [
    {
     "data": {
      "text/latex": [
       "$\\displaystyle \\left(\\left(-1\\right)^{2 m} e^{- 2 \\mathbf{{phi}_{S}} i m} Y_{l}^{m}\\left(\\mathbf{{theta}_{S}},\\mathbf{{phi}_{S}}\\right)\\right)\\mathbf{\\hat{e_r}_{S}}$"
      ],
      "text/plain": [
       "((-1)**(2*m)*exp(-2*S.phi*I*m)*Ynm(l, m, S.theta, S.phi))*S.e_r"
      ]
     },
     "metadata": {},
     "output_type": "display_data"
    },
    {
     "data": {
      "text/latex": [
       "$\\displaystyle \\left(- \\frac{\\left(-1\\right)^{2 m} i m e^{- 2 \\mathbf{{phi}_{S}} i m} Y_{l}^{m}\\left(\\mathbf{{theta}_{S}},\\mathbf{{phi}_{S}}\\right)}{\\sin{\\left(\\mathbf{{theta}_{S}} \\right)}}\\right)\\mathbf{\\hat{e_p}_{S}} + \\left(\\left(-1\\right)^{2 m} m e^{- 2 \\mathbf{{phi}_{S}} i m} \\cot{\\left(\\mathbf{{theta}_{S}} \\right)} Y_{l}^{m}\\left(\\mathbf{{theta}_{S}},\\mathbf{{phi}_{S}}\\right) + \\left(-1\\right)^{2 m + 2} e^{\\mathbf{{phi}_{S}} i} e^{- 2 \\mathbf{{phi}_{S}} i \\left(m + 1\\right)} \\overline{\\sqrt{\\left(l - m\\right) \\left(l + m + 1\\right)}} Y_{l}^{m + 1}\\left(\\mathbf{{theta}_{S}},\\mathbf{{phi}_{S}}\\right)\\right)\\mathbf{\\hat{e_t}_{S}}$"
      ],
      "text/plain": [
       "((-1)**(2*m)*m*exp(-2*S.phi*I*m)*cot(S.theta)*Ynm(l, m, S.theta, S.phi) + (-1)**(2*m + 2)*exp(S.phi*I)*exp(-2*S.phi*I*(m + 1))*conjugate(sqrt((l - m)*(l + m + 1)))*Ynm(l, m + 1, S.theta, S.phi))*S.e_t + (-(-1)**(2*m)*I*m*exp(-2*S.phi*I*m)*Ynm(l, m, S.theta, S.phi)/sin(S.theta))*S.e_p"
      ]
     },
     "metadata": {},
     "output_type": "display_data"
    },
    {
     "data": {
      "text/latex": [
       "$\\displaystyle \\left(\\left(-1\\right)^{2 m} m e^{- 2 \\mathbf{{phi}_{S}} i m} \\cot{\\left(\\mathbf{{theta}_{S}} \\right)} Y_{l}^{m}\\left(\\mathbf{{theta}_{S}},\\mathbf{{phi}_{S}}\\right) + \\left(-1\\right)^{2 m + 2} e^{\\mathbf{{phi}_{S}} i} e^{- 2 \\mathbf{{phi}_{S}} i \\left(m + 1\\right)} \\overline{\\sqrt{\\left(l - m\\right) \\left(l + m + 1\\right)}} Y_{l}^{m + 1}\\left(\\mathbf{{theta}_{S}},\\mathbf{{phi}_{S}}\\right)\\right)\\mathbf{\\hat{e_p}_{S}} + \\left(\\frac{\\left(-1\\right)^{2 m} i m e^{- 2 \\mathbf{{phi}_{S}} i m} Y_{l}^{m}\\left(\\mathbf{{theta}_{S}},\\mathbf{{phi}_{S}}\\right)}{\\sin{\\left(\\mathbf{{theta}_{S}} \\right)}}\\right)\\mathbf{\\hat{e_t}_{S}}$"
      ],
      "text/plain": [
       "((-1)**(2*m)*I*m*exp(-2*S.phi*I*m)*Ynm(l, m, S.theta, S.phi)/sin(S.theta))*S.e_t + ((-1)**(2*m)*m*exp(-2*S.phi*I*m)*cot(S.theta)*Ynm(l, m, S.theta, S.phi) + (-1)**(2*m + 2)*exp(S.phi*I)*exp(-2*S.phi*I*(m + 1))*conjugate(sqrt((l - m)*(l + m + 1)))*Ynm(l, m + 1, S.theta, S.phi))*S.e_p"
      ]
     },
     "metadata": {},
     "output_type": "display_data"
    }
   ],
   "source": [
    "pprint(conjugate_vector(Y(l, m)))\n",
    "pprint(conjugate_vector(Psi(l, m)))\n",
    "pprint(conjugate_vector(Phi(l, m)))"
   ]
  },
  {
   "cell_type": "code",
   "execution_count": null,
   "metadata": {},
   "outputs": [],
   "source": []
  },
  {
   "cell_type": "code",
   "execution_count": 16,
   "metadata": {},
   "outputs": [
    {
     "name": "stdout",
     "output_type": "stream",
     "text": [
      "- \\frac{m^{2} \\left(Y_{l}^{m}\\left(\\theta,\\phi\\right)\\right)^{3}}{\\sin^{2}{\\left(\\theta \\right)}} + \\left(m \\cot{\\left(\\theta \\right)} Y_{l}^{m}\\left(\\theta,\\phi\\right) + \\sqrt{\\left(l - m\\right) \\left(l + m + 1\\right)} e^{- \\phi i} Y_{l}^{m + 1}\\left(\\theta,\\phi\\right)\\right)^{2} Y_{l}^{m}\\left(\\theta,\\phi\\right)\n"
     ]
    }
   ],
   "source": [
    "to_latex(Y(l, m).cross(Psi(l, m)).dot(Phi(l, m)))"
   ]
  },
  {
   "cell_type": "markdown",
   "metadata": {},
   "source": [
    "# Integration"
   ]
  },
  {
   "cell_type": "code",
   "execution_count": 17,
   "metadata": {},
   "outputs": [],
   "source": [
    "from sympy import pi, sin, cos\n",
    "from sympy import conjugate\n",
    "from sympy.vector import ParametricRegion, vector_integrate\n",
    "from sympy.abc import theta, phi"
   ]
  },
  {
   "cell_type": "code",
   "execution_count": 40,
   "metadata": {},
   "outputs": [
    {
     "name": "stdout",
     "output_type": "stream",
     "text": [
      "Integrand:\n"
     ]
    },
    {
     "data": {
      "text/latex": [
       "$\\displaystyle \\frac{3 \\sqrt{6} \\left(\\cos^{2}{\\left(\\mathbf{{theta}_{S}} \\right)} + 1\\right) e^{\\mathbf{{phi}_{S}} i} \\sin{\\left(\\mathbf{{theta}_{S}} \\right)}}{32 \\pi^{\\frac{3}{2}}}$"
      ],
      "text/plain": [
       "3*sqrt(6)*(cos(S.theta)**2 + 1)*exp(S.phi*I)*sin(S.theta)/(32*pi**(3/2))"
      ]
     },
     "metadata": {},
     "output_type": "display_data"
    },
    {
     "name": "stdout",
     "output_type": "stream",
     "text": [
      "Integral over sphere:\n"
     ]
    },
    {
     "data": {
      "text/latex": [
       "$\\displaystyle 0$"
      ],
      "text/plain": [
       "0"
      ]
     },
     "metadata": {},
     "output_type": "display_data"
    }
   ],
   "source": [
    "def integrate_on_sphere(func):\n",
    "    print(\"Integrand:\")\n",
    "    pprint(func, simplify_expression=True)\n",
    "    \n",
    "    sphere = ParametricRegion(\n",
    "        (sin(theta) * cos(phi), sin(theta) * sin(phi), cos(theta)),\n",
    "        (theta, 0, pi),\n",
    "        (phi, 0, 2 * pi),\n",
    "    )\n",
    "    print(\"Integral over sphere:\")\n",
    "    expr = simplify(func.expand(func=True)).subs({S.theta: theta, S.phi: phi, S.r: 1})\n",
    "    return vector_integrate(expr, sphere)\n",
    "\n",
    "\n",
    "pprint(\n",
    "    integrate_on_sphere((Y(1, 1).cross(Phi(1, 1))).dot(conjugate_vector(Psi(1, 1)))),\n",
    "    simplify_expression=True,\n",
    ")"
   ]
  }
 ],
 "metadata": {
  "kernelspec": {
   "display_name": ".venv",
   "language": "python",
   "name": "python3"
  },
  "language_info": {
   "codemirror_mode": {
    "name": "ipython",
    "version": 3
   },
   "file_extension": ".py",
   "mimetype": "text/x-python",
   "name": "python",
   "nbconvert_exporter": "python",
   "pygments_lexer": "ipython3",
   "version": "3.11.4"
  }
 },
 "nbformat": 4,
 "nbformat_minor": 2
}
